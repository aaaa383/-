{
  "nbformat": 4,
  "nbformat_minor": 0,
  "metadata": {
    "colab": {
      "provenance": [],
      "authorship_tag": "ABX9TyPAgxK+BMIXSRMR3L5t2d8+",
      "include_colab_link": true
    },
    "kernelspec": {
      "name": "python3",
      "display_name": "Python 3"
    },
    "language_info": {
      "name": "python"
    },
    "accelerator": "GPU",
    "gpuClass": "standard"
  },
  "cells": [
    {
      "cell_type": "markdown",
      "metadata": {
        "id": "view-in-github",
        "colab_type": "text"
      },
      "source": [
        "<a href=\"https://colab.research.google.com/github/aaaa383/-/blob/main/forward_forward_Algorithm.ipynb\" target=\"_parent\"><img src=\"https://colab.research.google.com/assets/colab-badge.svg\" alt=\"Open In Colab\"/></a>"
      ]
    },
    {
      "cell_type": "code",
      "execution_count": 7,
      "metadata": {
        "id": "t5XbJQtyzMfa"
      },
      "outputs": [],
      "source": [
        "# モジュールのimport\n",
        "\n",
        "import numpy as np\n",
        "import matplotlib.pyplot as plt\n",
        "import torch\n",
        "import torch.nn as nn\n",
        "import torchvision.transforms as transforms\n",
        "from tqdm import tqdm\n",
        "from torch.optim import Adam\n",
        "from torchvision.datasets import MNIST\n",
        "from torchvision.transforms import Compose, ToTensor, Normalize, Lambda\n",
        "from torch.utils.data import DataLoader"
      ]
    },
    {
      "cell_type": "markdown",
      "source": [
        "## CNNの実装"
      ],
      "metadata": {
        "id": "HdU9zBxVb_A9"
      }
    },
    {
      "cell_type": "code",
      "source": [
        "# data_loder\n",
        "\n",
        "def MNIST_loaders(train_batch_size=50000, test_batch_size=10000):\n",
        "\n",
        "    transform = Compose([\n",
        "        ToTensor(),\n",
        "        Normalize((0.1307,), (0.3081,))\n",
        "        ])\n",
        "\n",
        "    train_loader = DataLoader(\n",
        "        MNIST('./data/', train=True,\n",
        "              download=True,\n",
        "              transform=transform),\n",
        "        batch_size=100, shuffle=True)\n",
        "\n",
        "    test_loader = DataLoader(\n",
        "        MNIST('./data/', train=False,\n",
        "              download=True,\n",
        "              transform=transform),\n",
        "        batch_size=100, shuffle=False)\n",
        "\n",
        "    return train_loader, test_loader"
      ],
      "metadata": {
        "id": "I74OETsndOGd"
      },
      "execution_count": 12,
      "outputs": []
    },
    {
      "cell_type": "code",
      "source": [
        "'''モデルの定義'''\n",
        "\n",
        "class CNN(nn.Module):\n",
        "    def __init__(self):\n",
        "        super(CNN, self).__init__()\n",
        "        self.layer1 = nn.Sequential(\n",
        "            nn.Conv2d(1, 16, kernel_size=5, padding=2),\n",
        "            nn.BatchNorm2d(16),\n",
        "            nn.ReLU(),\n",
        "            nn.MaxPool2d(2))\n",
        "        self.layer2 = nn.Sequential(\n",
        "            nn.Conv2d(16, 32, kernel_size=5, padding=2),\n",
        "            nn.BatchNorm2d(32),\n",
        "            nn.ReLU(),\n",
        "            nn.MaxPool2d(2))\n",
        "        self.fc = nn.Linear(7 * 7 * 32, 10)\n",
        "\n",
        "    def forward(self, x):\n",
        "        x = self.layer1(x)\n",
        "        x = self.layer2(x)\n",
        "        x = x.view(x.size(0), -1)\n",
        "        x = self.fc(x)\n",
        "        return x\n",
        "\n",
        "\n",
        "device = torch.device('cuda' if torch.cuda.is_available() else 'cpu')\n",
        "model = CNN().to(device)\n",
        "\n",
        "\n",
        "'''最適化手法の定義'''\n",
        "criterion = nn.CrossEntropyLoss()\n",
        "optimizer = torch.optim.Adam(model.parameters(), lr=0.01)\n",
        "\n",
        "\n",
        "'''訓練用の関数を定義'''\n",
        "def train(train_loader):\n",
        "    model.train()\n",
        "    running_loss = 0\n",
        "    for images, labels in train_loader:\n",
        "        images = images.to(device)\n",
        "        labels = labels.to(device)\n",
        "        optimizer.zero_grad()\n",
        "        outputs = model(images)\n",
        "        loss = criterion(outputs, labels)\n",
        "        running_loss += loss.item()\n",
        "        loss.backward()\n",
        "        optimizer.step()\n",
        "    train_loss = running_loss / len(train_loader)\n",
        "    return train_loss\n",
        "\n",
        "\n",
        "'''評価用の関数を定義'''\n",
        "def valid(test_loader):\n",
        "    model.eval()\n",
        "    running_loss = 0\n",
        "    correct = 0\n",
        "    total = 0\n",
        "    with torch.no_grad():\n",
        "        for images, labels in test_loader:\n",
        "            images = images.to(device)\n",
        "            labels = labels.to(device)\n",
        "            outputs = model(images)\n",
        "            loss = criterion(outputs, labels)\n",
        "            running_loss += loss.item()\n",
        "            predicted = outputs.max(1, keepdim=True)[1]\n",
        "            labels = labels.view_as(predicted)\n",
        "            correct += predicted.eq(labels).sum().item()\n",
        "            total += labels.size(0)\n",
        "    val_loss = running_loss / len(test_loader)\n",
        "    val_acc = correct / total\n",
        "    return val_loss, val_acc\n",
        "\n",
        "'''誤差(loss)を記録する空の配列を用意'''\n",
        "loss_list = []\n",
        "val_loss_list = []\n",
        "val_acc_list = []\n",
        "\n",
        "\n",
        "'''学習'''\n",
        "train_loader, test_loader = MNIST_loaders(100,100)\n",
        "for epoch in range(10):\n",
        "    loss = train(train_loader)\n",
        "    val_loss, val_acc = valid(test_loader)\n",
        "    print('epoch %d, loss: %.4f val_loss: %.4f val_acc: %.4f' % (epoch, loss, val_loss, val_acc))\n",
        "    loss_list.append(loss)\n",
        "    val_loss_list.append(val_loss)\n",
        "    val_acc_list.append(val_acc)\n",
        "\n",
        "\n",
        "'''学習の結果と使用したモデルを保存'''\n",
        "np.save('loss_list.npy', np.array(loss_list))\n",
        "np.save('val_loss_list.npy', np.array(val_loss_list))\n",
        "np.save('val_acc_list.npy', np.array(val_acc_list))\n",
        "torch.save(model.state_dict(), 'cnn.pkl')\n",
        "\n",
        "\n",
        "'''結果の表示'''\n",
        "plt.plot(range(10), loss_list, 'r-', label='train_loss')\n",
        "plt.plot(range(10), val_loss_list, 'b-', label='test_loss')\n",
        "plt.legend()\n",
        "plt.xlabel('epoch')\n",
        "plt.ylabel('loss')\n",
        "plt.figure()\n",
        "plt.plot(range(10), val_acc_list, 'g-', label='val_acc')\n",
        "plt.legend()\n",
        "plt.xlabel('epoch')\n",
        "plt.ylabel('acc')\n",
        "print('正解率：',val_acc_list[-1]*100, '%')"
      ],
      "metadata": {
        "colab": {
          "base_uri": "https://localhost:8080/",
          "height": 735
        },
        "id": "fxuQBq65b9vy",
        "outputId": "e1f9eebc-7898-405f-cb82-763b086397cb"
      },
      "execution_count": 13,
      "outputs": [
        {
          "output_type": "stream",
          "name": "stdout",
          "text": [
            "epoch 0, loss: 0.1733 val_loss: 0.0412 val_acc: 0.9860\n",
            "epoch 1, loss: 0.0450 val_loss: 0.0350 val_acc: 0.9882\n",
            "epoch 2, loss: 0.0334 val_loss: 0.0503 val_acc: 0.9831\n",
            "epoch 3, loss: 0.0292 val_loss: 0.0425 val_acc: 0.9869\n",
            "epoch 4, loss: 0.0233 val_loss: 0.0354 val_acc: 0.9873\n",
            "epoch 5, loss: 0.0233 val_loss: 0.0307 val_acc: 0.9906\n",
            "epoch 6, loss: 0.0200 val_loss: 0.0370 val_acc: 0.9882\n",
            "epoch 7, loss: 0.0168 val_loss: 0.0395 val_acc: 0.9887\n",
            "epoch 8, loss: 0.0190 val_loss: 0.0398 val_acc: 0.9894\n",
            "epoch 9, loss: 0.0169 val_loss: 0.0410 val_acc: 0.9888\n",
            "正解率： 98.88 %\n"
          ]
        },
        {
          "output_type": "display_data",
          "data": {
            "text/plain": [
              "<Figure size 432x288 with 1 Axes>"
            ],
            "image/png": "[encoded data removed]"
          },
          "metadata": {
            "needs_background": "light"
          }
        },
        {
          "output_type": "display_data",
          "data": {
            "text/plain": [
              "<Figure size 432x288 with 1 Axes>"
            ],
            "image/png": "[encoded data removed]"
          },
          "metadata": {
            "needs_background": "light"
          }
        }
      ]
    },
    {
      "cell_type": "markdown",
      "source": [],
      "metadata": {
        "id": "Ih_Hbnyag5yI"
      }
    },
    {
      "cell_type": "markdown",
      "source": [
        "## forward_forwardの実装"
      ],
      "metadata": {
        "id": "rt4RCC_lg57j"
      }
    },
    {
      "cell_type": "code",
      "source": [
        "# data_loder\n",
        "\n",
        "def MNIST_loaders(train_batch_size=50000, test_batch_size=10000):\n",
        "\n",
        "    transform = Compose([\n",
        "        ToTensor(),\n",
        "        Normalize((0.1307,), (0.3081,)),\n",
        "        Lambda(lambda x: torch.flatten(x))])\n",
        "\n",
        "    train_loader = DataLoader(\n",
        "        MNIST('./data/', train=True,\n",
        "              download=True,\n",
        "              transform=transform),\n",
        "        batch_size=train_batch_size, shuffle=True)\n",
        "\n",
        "    test_loader = DataLoader(\n",
        "        MNIST('./data/', train=False,\n",
        "              download=True,\n",
        "              transform=transform),\n",
        "        batch_size=test_batch_size, shuffle=False)\n",
        "\n",
        "    return train_loader, test_loader"
      ],
      "metadata": {
        "id": "JN-ePRCxbCu7"
      },
      "execution_count": 20,
      "outputs": []
    },
    {
      "cell_type": "code",
      "source": [
        "def overlay_y_on_x(x, y):\n",
        "    \"\"\"Replace the first 10 pixels of data [x] with one-hot-encoded label [y]\n",
        "    \"\"\"\n",
        "    x_ = x.clone()\n",
        "    x_[:, :10] *= 0.0\n",
        "    x_[range(x.shape[0]), y] = x.max()\n",
        "    return x_\n",
        "\n",
        "'''モデルの定義'''\n",
        "class Net(torch.nn.Module):\n",
        "\n",
        "    def __init__(self, dims):\n",
        "        super().__init__()\n",
        "        self.layers = []\n",
        "        for d in range(len(dims) - 1):\n",
        "            self.layers += [Layer(dims[d], dims[d + 1]).cuda()]\n",
        "\n",
        "    def predict(self, x):\n",
        "        goodness_per_label = []\n",
        "        for label in range(10):\n",
        "            h = overlay_y_on_x(x, label)\n",
        "            goodness = []\n",
        "            for layer in self.layers:\n",
        "                h = layer(h)\n",
        "                goodness += [h.pow(2).mean(1)]\n",
        "            goodness_per_label += [sum(goodness).unsqueeze(1)]\n",
        "        goodness_per_label = torch.cat(goodness_per_label, 1)\n",
        "        return goodness_per_label.argmax(1)\n",
        "\n",
        "    def train(self, x_pos, x_neg):\n",
        "        h_pos, h_neg = x_pos, x_neg\n",
        "        for i, layer in enumerate(self.layers):\n",
        "            print('training layer', i, '...')\n",
        "            h_pos, h_neg = layer.train(h_pos, h_neg)\n",
        "\n",
        "\n",
        "class Layer(nn.Linear):\n",
        "    def __init__(self, in_features, out_features,\n",
        "                 bias=True, device=None, dtype=None):\n",
        "        super().__init__(in_features, out_features, bias, device, dtype)\n",
        "        self.relu = torch.nn.ReLU()\n",
        "        self.opt = Adam(self.parameters(), lr=0.03)\n",
        "        self.threshold = 2.0\n",
        "        self.num_epochs = 1000\n",
        "\n",
        "    def forward(self, x):\n",
        "        x_direction = x / (x.norm(2, 1, keepdim=True) + 1e-4)\n",
        "        return self.relu(\n",
        "            torch.mm(x_direction, self.weight.T) +\n",
        "            self.bias.unsqueeze(0))\n",
        "\n",
        "    def train(self, x_pos, x_neg):\n",
        "        for i in tqdm(range(self.num_epochs)):\n",
        "            g_pos = self.forward(x_pos).pow(2).mean(1)\n",
        "            g_neg = self.forward(x_neg).pow(2).mean(1)\n",
        "            # The following loss pushes pos (neg) samples to\n",
        "            # values larger (smaller) than the self.threshold.\n",
        "            loss = torch.log(1 + torch.exp(torch.cat([\n",
        "                -g_pos + self.threshold,\n",
        "                g_neg - self.threshold]))).mean()\n",
        "            self.opt.zero_grad()\n",
        "            print('epoch %d, loss: %.4f' % (i, loss))\n",
        "            # this backward just compute the derivative and hence\n",
        "            # is not considered backpropagation.\n",
        "            loss.backward()\n",
        "            self.opt.step()\n",
        "        return self.forward(x_pos).detach(), self.forward(x_neg).detach()\n",
        "    \n",
        "\n",
        "def visualize_sample(data, name='', idx=0):\n",
        "    reshaped = data[idx].cpu().reshape(28, 28)\n",
        "    plt.figure(figsize = (4, 4))\n",
        "    plt.title(name)\n",
        "    plt.imshow(reshaped, cmap=\"gray\")\n",
        "    plt.show()\n",
        "    \n",
        "    \n",
        "if __name__ == \"__main__\":\n",
        "    torch.manual_seed(1234)\n",
        "    train_loader, test_loader = MNIST_loaders()\n",
        "\n",
        "    net = Net([784, 500, 500])\n",
        "    x, y = next(iter(train_loader))\n",
        "    x, y = x.cuda(), y.cuda()\n",
        "    x_pos = overlay_y_on_x(x, y)\n",
        "    print(x_pos)\n",
        "    rnd = torch.randperm(x.size(0))\n",
        "    x_neg = overlay_y_on_x(x, y[rnd])\n",
        "    print(x_neg)\n",
        "    \n",
        "    for data, name in zip([x, x_pos, x_neg], ['orig', 'pos', 'neg']):\n",
        "        visualize_sample(data, name)\n",
        "    \n",
        "    net.train(x_pos, x_neg)\n",
        "\n",
        "    print('train error:', 1.0 - net.predict(x).eq(y).float().mean().item())\n",
        "\n",
        "    x_te, y_te = next(iter(test_loader))\n",
        "    x_te, y_te = x_te.cuda(), y_te.cuda()\n",
        "\n",
        "    print('test error:', 1.0 - net.predict(x_te).eq(y_te).float().mean().item())"
      ],
      "metadata": {
        "colab": {
          "base_uri": "https://localhost:8080/",
          "height": 1000
        },
        "id": "ozWtVrDBzVlD",
        "outputId": "139ee5e1-2df9-4665-ab5f-bed630f9991f"
      },
      "execution_count": 5,
      "outputs": [
        {
          "output_type": "display_data",
          "data": {
            "text/plain": [
              "<Figure size 288x288 with 1 Axes>"
            ],
            "image/png": "[encoded data removed]"
          },
          "metadata": {
            "needs_background": "light"
          }
        },
        {
          "output_type": "display_data",
          "data": {
            "text/plain": [
              "<Figure size 288x288 with 1 Axes>"
            ],
            "image/png": "[encoded data removed]"
          },
          "metadata": {
            "needs_background": "light"
          }
        },
        {
          "output_type": "display_data",
          "data": {
            "text/plain": [
              "<Figure size 288x288 with 1 Axes>"
            ],
            "image/png": "[encoded data removed]"
          },
          "metadata": {
            "needs_background": "light"
          }
        },
        {
          "output_type": "stream",
          "name": "stdout",
          "text": [
            "training layer 0 ...\n"
          ]
        },
        {
          "output_type": "stream",
          "name": "stderr",
          "text": [
            "  0%|          | 2/1000 [00:00<01:00, 16.43it/s]"
          ]
        },
        {
          "output_type": "stream",
          "name": "stdout",
          "text": [
            "epoch 0, loss: 1.1268\n",
            "epoch 1, loss: 1.0779\n",
            "epoch 2, loss: 0.9672\n"
          ]
        },
        {
          "output_type": "stream",
          "name": "stderr",
          "text": [
            "  1%|          | 6/1000 [00:00<01:00, 16.54it/s]"
          ]
        },
        {
          "output_type": "stream",
          "name": "stdout",
          "text": [
            "epoch 3, loss: 0.8083\n",
            "epoch 4, loss: 0.7206\n",
            "epoch 5, loss: 0.8340\n",
            "epoch 6, loss: 0.8320\n"
          ]
        },
        {
          "output_type": "stream",
          "name": "stderr",
          "text": [
            "  1%|          | 10/1000 [00:00<00:58, 16.82it/s]"
          ]
        },
        {
          "output_type": "stream",
          "name": "stdout",
          "text": [
            "epoch 7, loss: 0.7539\n",
            "epoch 8, loss: 0.7118\n",
            "epoch 9, loss: 0.7258\n",
            "epoch 10, loss: 0.7545\n"
          ]
        },
        {
          "output_type": "stream",
          "name": "stderr",
          "text": [
            "  1%|▏         | 14/1000 [00:00<00:57, 17.03it/s]"
          ]
        },
        {
          "output_type": "stream",
          "name": "stdout",
          "text": [
            "epoch 11, loss: 0.7680\n",
            "epoch 12, loss: 0.7605\n",
            "epoch 13, loss: 0.7383\n",
            "epoch 14, loss: 0.7139\n"
          ]
        },
        {
          "output_type": "stream",
          "name": "stderr",
          "text": [
            "  2%|▏         | 18/1000 [00:01<00:58, 16.81it/s]"
          ]
        },
        {
          "output_type": "stream",
          "name": "stdout",
          "text": [
            "epoch 15, loss: 0.7030\n",
            "epoch 16, loss: 0.7129\n",
            "epoch 17, loss: 0.7294\n",
            "epoch 18, loss: 0.7315\n"
          ]
        },
        {
          "output_type": "stream",
          "name": "stderr",
          "text": [
            "  2%|▏         | 22/1000 [00:01<00:59, 16.58it/s]"
          ]
        },
        {
          "output_type": "stream",
          "name": "stdout",
          "text": [
            "epoch 19, loss: 0.7178\n",
            "epoch 20, loss: 0.7036\n",
            "epoch 21, loss: 0.7005\n",
            "epoch 22, loss: 0.7067\n"
          ]
        },
        {
          "output_type": "stream",
          "name": "stderr",
          "text": [
            "  3%|▎         | 26/1000 [00:01<00:58, 16.63it/s]"
          ]
        },
        {
          "output_type": "stream",
          "name": "stdout",
          "text": [
            "epoch 23, loss: 0.7138\n",
            "epoch 24, loss: 0.7155\n",
            "epoch 25, loss: 0.7108\n",
            "epoch 26, loss: 0.7032\n"
          ]
        },
        {
          "output_type": "stream",
          "name": "stderr",
          "text": [
            "  3%|▎         | 30/1000 [00:01<00:58, 16.68it/s]"
          ]
        },
        {
          "output_type": "stream",
          "name": "stdout",
          "text": [
            "epoch 27, loss: 0.6982\n",
            "epoch 28, loss: 0.6990\n",
            "epoch 29, loss: 0.7036\n",
            "epoch 30, loss: 0.7060\n"
          ]
        },
        {
          "output_type": "stream",
          "name": "stderr",
          "text": [
            "  3%|▎         | 34/1000 [00:02<00:57, 16.78it/s]"
          ]
        },
        {
          "output_type": "stream",
          "name": "stdout",
          "text": [
            "epoch 31, loss: 0.7033\n",
            "epoch 32, loss: 0.6985\n",
            "epoch 33, loss: 0.6961\n",
            "epoch 34, loss: 0.6973\n"
          ]
        },
        {
          "output_type": "stream",
          "name": "stderr",
          "text": [
            "  4%|▍         | 38/1000 [00:02<00:57, 16.69it/s]"
          ]
        },
        {
          "output_type": "stream",
          "name": "stdout",
          "text": [
            "epoch 35, loss: 0.6997\n",
            "epoch 36, loss: 0.7006\n",
            "epoch 37, loss: 0.6991\n",
            "epoch 38, loss: 0.6966\n"
          ]
        },
        {
          "output_type": "stream",
          "name": "stderr",
          "text": [
            "  4%|▍         | 42/1000 [00:02<00:57, 16.62it/s]"
          ]
        },
        {
          "output_type": "stream",
          "name": "stdout",
          "text": [
            "epoch 39, loss: 0.6952\n",
            "epoch 40, loss: 0.6958\n",
            "epoch 41, loss: 0.6972\n",
            "epoch 42, loss: 0.6974\n"
          ]
        },
        {
          "output_type": "stream",
          "name": "stderr",
          "text": [
            "  5%|▍         | 46/1000 [00:02<00:57, 16.71it/s]"
          ]
        },
        {
          "output_type": "stream",
          "name": "stdout",
          "text": [
            "epoch 43, loss: 0.6961\n",
            "epoch 44, loss: 0.6947\n",
            "epoch 45, loss: 0.6944\n",
            "epoch 46, loss: 0.6951\n"
          ]
        },
        {
          "output_type": "stream",
          "name": "stderr",
          "text": [
            "  5%|▌         | 50/1000 [00:02<00:56, 16.73it/s]"
          ]
        },
        {
          "output_type": "stream",
          "name": "stdout",
          "text": [
            "epoch 47, loss: 0.6956\n",
            "epoch 48, loss: 0.6953\n",
            "epoch 49, loss: 0.6943\n",
            "epoch 50, loss: 0.6936\n"
          ]
        },
        {
          "output_type": "stream",
          "name": "stderr",
          "text": [
            "  5%|▌         | 54/1000 [00:03<00:56, 16.80it/s]"
          ]
        },
        {
          "output_type": "stream",
          "name": "stdout",
          "text": [
            "epoch 51, loss: 0.6937\n",
            "epoch 52, loss: 0.6941\n",
            "epoch 53, loss: 0.6941\n",
            "epoch 54, loss: 0.6936\n"
          ]
        },
        {
          "output_type": "stream",
          "name": "stderr",
          "text": [
            "  6%|▌         | 58/1000 [00:03<00:56, 16.63it/s]"
          ]
        },
        {
          "output_type": "stream",
          "name": "stdout",
          "text": [
            "epoch 55, loss: 0.6930\n",
            "epoch 56, loss: 0.6929\n",
            "epoch 57, loss: 0.6931\n",
            "epoch 58, loss: 0.6931\n"
          ]
        },
        {
          "output_type": "stream",
          "name": "stderr",
          "text": [
            "  6%|▌         | 62/1000 [00:03<00:56, 16.59it/s]"
          ]
        },
        {
          "output_type": "stream",
          "name": "stdout",
          "text": [
            "epoch 59, loss: 0.6928\n",
            "epoch 60, loss: 0.6924\n",
            "epoch 61, loss: 0.6921\n",
            "epoch 62, loss: 0.6921\n"
          ]
        },
        {
          "output_type": "stream",
          "name": "stderr",
          "text": [
            "  7%|▋         | 66/1000 [00:03<00:56, 16.65it/s]"
          ]
        },
        {
          "output_type": "stream",
          "name": "stdout",
          "text": [
            "epoch 63, loss: 0.6921\n",
            "epoch 64, loss: 0.6919\n",
            "epoch 65, loss: 0.6916\n",
            "epoch 66, loss: 0.6913\n"
          ]
        },
        {
          "output_type": "stream",
          "name": "stderr",
          "text": [
            "  7%|▋         | 70/1000 [00:04<00:56, 16.32it/s]"
          ]
        },
        {
          "output_type": "stream",
          "name": "stdout",
          "text": [
            "epoch 67, loss: 0.6912\n",
            "epoch 68, loss: 0.6911\n",
            "epoch 69, loss: 0.6909\n",
            "epoch 70, loss: 0.6906\n"
          ]
        },
        {
          "output_type": "stream",
          "name": "stderr",
          "text": [
            "  7%|▋         | 74/1000 [00:04<00:56, 16.43it/s]"
          ]
        },
        {
          "output_type": "stream",
          "name": "stdout",
          "text": [
            "epoch 71, loss: 0.6904\n",
            "epoch 72, loss: 0.6902\n",
            "epoch 73, loss: 0.6901\n",
            "epoch 74, loss: 0.6898\n"
          ]
        },
        {
          "output_type": "stream",
          "name": "stderr",
          "text": [
            "  8%|▊         | 78/1000 [00:04<00:56, 16.34it/s]"
          ]
        },
        {
          "output_type": "stream",
          "name": "stdout",
          "text": [
            "epoch 75, loss: 0.6895\n",
            "epoch 76, loss: 0.6893\n",
            "epoch 77, loss: 0.6890\n",
            "epoch 78, loss: 0.6888\n"
          ]
        },
        {
          "output_type": "stream",
          "name": "stderr",
          "text": [
            "  8%|▊         | 82/1000 [00:04<00:55, 16.47it/s]"
          ]
        },
        {
          "output_type": "stream",
          "name": "stdout",
          "text": [
            "epoch 79, loss: 0.6885\n",
            "epoch 80, loss: 0.6882\n",
            "epoch 81, loss: 0.6879\n",
            "epoch 82, loss: 0.6877\n"
          ]
        },
        {
          "output_type": "stream",
          "name": "stderr",
          "text": [
            "  9%|▊         | 86/1000 [00:05<00:55, 16.51it/s]"
          ]
        },
        {
          "output_type": "stream",
          "name": "stdout",
          "text": [
            "epoch 83, loss: 0.6874\n",
            "epoch 84, loss: 0.6871\n",
            "epoch 85, loss: 0.6867\n",
            "epoch 86, loss: 0.6864\n"
          ]
        },
        {
          "output_type": "stream",
          "name": "stderr",
          "text": [
            "  9%|▉         | 90/1000 [00:05<00:55, 16.35it/s]"
          ]
        },
        {
          "output_type": "stream",
          "name": "stdout",
          "text": [
            "epoch 87, loss: 0.6860\n",
            "epoch 88, loss: 0.6857\n",
            "epoch 89, loss: 0.6853\n",
            "epoch 90, loss: 0.6849\n"
          ]
        },
        {
          "output_type": "stream",
          "name": "stderr",
          "text": [
            "  9%|▉         | 94/1000 [00:05<00:54, 16.51it/s]"
          ]
        },
        {
          "output_type": "stream",
          "name": "stdout",
          "text": [
            "epoch 91, loss: 0.6845\n",
            "epoch 92, loss: 0.6841\n",
            "epoch 93, loss: 0.6837\n",
            "epoch 94, loss: 0.6833\n"
          ]
        },
        {
          "output_type": "stream",
          "name": "stderr",
          "text": [
            " 10%|▉         | 98/1000 [00:05<00:54, 16.62it/s]"
          ]
        },
        {
          "output_type": "stream",
          "name": "stdout",
          "text": [
            "epoch 95, loss: 0.6828\n",
            "epoch 96, loss: 0.6824\n",
            "epoch 97, loss: 0.6819\n",
            "epoch 98, loss: 0.6814\n"
          ]
        },
        {
          "output_type": "stream",
          "name": "stderr",
          "text": [
            " 10%|█         | 102/1000 [00:06<00:53, 16.73it/s]"
          ]
        },
        {
          "output_type": "stream",
          "name": "stdout",
          "text": [
            "epoch 99, loss: 0.6809\n",
            "epoch 100, loss: 0.6804\n",
            "epoch 101, loss: 0.6799\n",
            "epoch 102, loss: 0.6794\n"
          ]
        },
        {
          "output_type": "stream",
          "name": "stderr",
          "text": [
            " 11%|█         | 106/1000 [00:06<00:53, 16.60it/s]"
          ]
        },
        {
          "output_type": "stream",
          "name": "stdout",
          "text": [
            "epoch 103, loss: 0.6788\n",
            "epoch 104, loss: 0.6783\n",
            "epoch 105, loss: 0.6777\n",
            "epoch 106, loss: 0.6771\n"
          ]
        },
        {
          "output_type": "stream",
          "name": "stderr",
          "text": [
            " 11%|█         | 110/1000 [00:06<00:53, 16.49it/s]"
          ]
        },
        {
          "output_type": "stream",
          "name": "stdout",
          "text": [
            "epoch 107, loss: 0.6765\n",
            "epoch 108, loss: 0.6759\n",
            "epoch 109, loss: 0.6753\n",
            "epoch 110, loss: 0.6747\n"
          ]
        },
        {
          "output_type": "stream",
          "name": "stderr",
          "text": [
            " 11%|█▏        | 114/1000 [00:06<00:53, 16.47it/s]"
          ]
        },
        {
          "output_type": "stream",
          "name": "stdout",
          "text": [
            "epoch 111, loss: 0.6740\n",
            "epoch 112, loss: 0.6733\n",
            "epoch 113, loss: 0.6727\n",
            "epoch 114, loss: 0.6720\n"
          ]
        },
        {
          "output_type": "stream",
          "name": "stderr",
          "text": [
            " 12%|█▏        | 118/1000 [00:07<00:53, 16.46it/s]"
          ]
        },
        {
          "output_type": "stream",
          "name": "stdout",
          "text": [
            "epoch 115, loss: 0.6713\n",
            "epoch 116, loss: 0.6706\n",
            "epoch 117, loss: 0.6698\n",
            "epoch 118, loss: 0.6691\n"
          ]
        },
        {
          "output_type": "stream",
          "name": "stderr",
          "text": [
            " 12%|█▏        | 122/1000 [00:07<00:53, 16.39it/s]"
          ]
        },
        {
          "output_type": "stream",
          "name": "stdout",
          "text": [
            "epoch 119, loss: 0.6684\n",
            "epoch 120, loss: 0.6676\n",
            "epoch 121, loss: 0.6668\n",
            "epoch 122, loss: 0.6660\n"
          ]
        },
        {
          "output_type": "stream",
          "name": "stderr",
          "text": [
            " 13%|█▎        | 126/1000 [00:07<00:53, 16.38it/s]"
          ]
        },
        {
          "output_type": "stream",
          "name": "stdout",
          "text": [
            "epoch 123, loss: 0.6652\n",
            "epoch 124, loss: 0.6644\n",
            "epoch 125, loss: 0.6636\n",
            "epoch 126, loss: 0.6628\n"
          ]
        },
        {
          "output_type": "stream",
          "name": "stderr",
          "text": [
            " 13%|█▎        | 130/1000 [00:07<00:52, 16.43it/s]"
          ]
        },
        {
          "output_type": "stream",
          "name": "stdout",
          "text": [
            "epoch 127, loss: 0.6619\n",
            "epoch 128, loss: 0.6611\n",
            "epoch 129, loss: 0.6602\n",
            "epoch 130, loss: 0.6594\n"
          ]
        },
        {
          "output_type": "stream",
          "name": "stderr",
          "text": [
            " 13%|█▎        | 134/1000 [00:08<00:52, 16.50it/s]"
          ]
        },
        {
          "output_type": "stream",
          "name": "stdout",
          "text": [
            "epoch 131, loss: 0.6585\n",
            "epoch 132, loss: 0.6576\n",
            "epoch 133, loss: 0.6567\n",
            "epoch 134, loss: 0.6558\n"
          ]
        },
        {
          "output_type": "stream",
          "name": "stderr",
          "text": [
            " 14%|█▍        | 138/1000 [00:08<00:52, 16.39it/s]"
          ]
        },
        {
          "output_type": "stream",
          "name": "stdout",
          "text": [
            "epoch 135, loss: 0.6549\n",
            "epoch 136, loss: 0.6540\n",
            "epoch 137, loss: 0.6531\n",
            "epoch 138, loss: 0.6521\n"
          ]
        },
        {
          "output_type": "stream",
          "name": "stderr",
          "text": [
            " 14%|█▍        | 142/1000 [00:08<00:52, 16.36it/s]"
          ]
        },
        {
          "output_type": "stream",
          "name": "stdout",
          "text": [
            "epoch 139, loss: 0.6512\n",
            "epoch 140, loss: 0.6503\n",
            "epoch 141, loss: 0.6493\n",
            "epoch 142, loss: 0.6484\n"
          ]
        },
        {
          "output_type": "stream",
          "name": "stderr",
          "text": [
            " 15%|█▍        | 146/1000 [00:08<00:52, 16.41it/s]"
          ]
        },
        {
          "output_type": "stream",
          "name": "stdout",
          "text": [
            "epoch 143, loss: 0.6474\n",
            "epoch 144, loss: 0.6465\n",
            "epoch 145, loss: 0.6455\n",
            "epoch 146, loss: 0.6445\n"
          ]
        },
        {
          "output_type": "stream",
          "name": "stderr",
          "text": [
            " 15%|█▌        | 150/1000 [00:09<00:51, 16.44it/s]"
          ]
        },
        {
          "output_type": "stream",
          "name": "stdout",
          "text": [
            "epoch 147, loss: 0.6436\n",
            "epoch 148, loss: 0.6426\n",
            "epoch 149, loss: 0.6416\n",
            "epoch 150, loss: 0.6407\n"
          ]
        },
        {
          "output_type": "stream",
          "name": "stderr",
          "text": [
            " 15%|█▌        | 154/1000 [00:09<00:51, 16.44it/s]"
          ]
        },
        {
          "output_type": "stream",
          "name": "stdout",
          "text": [
            "epoch 151, loss: 0.6397\n",
            "epoch 152, loss: 0.6387\n",
            "epoch 153, loss: 0.6378\n",
            "epoch 154, loss: 0.6368\n"
          ]
        },
        {
          "output_type": "stream",
          "name": "stderr",
          "text": [
            " 16%|█▌        | 158/1000 [00:09<00:51, 16.36it/s]"
          ]
        },
        {
          "output_type": "stream",
          "name": "stdout",
          "text": [
            "epoch 155, loss: 0.6358\n",
            "epoch 156, loss: 0.6349\n",
            "epoch 157, loss: 0.6339\n",
            "epoch 158, loss: 0.6329\n"
          ]
        },
        {
          "output_type": "stream",
          "name": "stderr",
          "text": [
            " 16%|█▌        | 162/1000 [00:09<00:51, 16.42it/s]"
          ]
        },
        {
          "output_type": "stream",
          "name": "stdout",
          "text": [
            "epoch 159, loss: 0.6320\n",
            "epoch 160, loss: 0.6310\n",
            "epoch 161, loss: 0.6301\n",
            "epoch 162, loss: 0.6291\n"
          ]
        },
        {
          "output_type": "stream",
          "name": "stderr",
          "text": [
            " 17%|█▋        | 166/1000 [00:10<00:50, 16.44it/s]"
          ]
        },
        {
          "output_type": "stream",
          "name": "stdout",
          "text": [
            "epoch 163, loss: 0.6281\n",
            "epoch 164, loss: 0.6272\n",
            "epoch 165, loss: 0.6262\n",
            "epoch 166, loss: 0.6253\n"
          ]
        },
        {
          "output_type": "stream",
          "name": "stderr",
          "text": [
            " 17%|█▋        | 170/1000 [00:10<00:50, 16.46it/s]"
          ]
        },
        {
          "output_type": "stream",
          "name": "stdout",
          "text": [
            "epoch 167, loss: 0.6243\n",
            "epoch 168, loss: 0.6234\n",
            "epoch 169, loss: 0.6225\n",
            "epoch 170, loss: 0.6215\n"
          ]
        },
        {
          "output_type": "stream",
          "name": "stderr",
          "text": [
            " 17%|█▋        | 174/1000 [00:10<00:50, 16.39it/s]"
          ]
        },
        {
          "output_type": "stream",
          "name": "stdout",
          "text": [
            "epoch 171, loss: 0.6206\n",
            "epoch 172, loss: 0.6196\n",
            "epoch 173, loss: 0.6187\n",
            "epoch 174, loss: 0.6178\n"
          ]
        },
        {
          "output_type": "stream",
          "name": "stderr",
          "text": [
            " 18%|█▊        | 178/1000 [00:10<00:50, 16.34it/s]"
          ]
        },
        {
          "output_type": "stream",
          "name": "stdout",
          "text": [
            "epoch 175, loss: 0.6169\n",
            "epoch 176, loss: 0.6159\n",
            "epoch 177, loss: 0.6150\n",
            "epoch 178, loss: 0.6141\n"
          ]
        },
        {
          "output_type": "stream",
          "name": "stderr",
          "text": [
            " 18%|█▊        | 182/1000 [00:11<00:49, 16.47it/s]"
          ]
        },
        {
          "output_type": "stream",
          "name": "stdout",
          "text": [
            "epoch 179, loss: 0.6132\n",
            "epoch 180, loss: 0.6123\n",
            "epoch 181, loss: 0.6114\n",
            "epoch 182, loss: 0.6105\n"
          ]
        },
        {
          "output_type": "stream",
          "name": "stderr",
          "text": [
            " 19%|█▊        | 186/1000 [00:11<00:49, 16.46it/s]"
          ]
        },
        {
          "output_type": "stream",
          "name": "stdout",
          "text": [
            "epoch 183, loss: 0.6096\n",
            "epoch 184, loss: 0.6087\n",
            "epoch 185, loss: 0.6078\n",
            "epoch 186, loss: 0.6069\n"
          ]
        },
        {
          "output_type": "stream",
          "name": "stderr",
          "text": [
            " 19%|█▉        | 190/1000 [00:11<00:49, 16.45it/s]"
          ]
        },
        {
          "output_type": "stream",
          "name": "stdout",
          "text": [
            "epoch 187, loss: 0.6060\n",
            "epoch 188, loss: 0.6051\n",
            "epoch 189, loss: 0.6042\n",
            "epoch 190, loss: 0.6033\n"
          ]
        },
        {
          "output_type": "stream",
          "name": "stderr",
          "text": [
            " 19%|█▉        | 194/1000 [00:11<00:49, 16.42it/s]"
          ]
        },
        {
          "output_type": "stream",
          "name": "stdout",
          "text": [
            "epoch 191, loss: 0.6025\n",
            "epoch 192, loss: 0.6016\n",
            "epoch 193, loss: 0.6007\n",
            "epoch 194, loss: 0.5998\n"
          ]
        },
        {
          "output_type": "stream",
          "name": "stderr",
          "text": [
            " 20%|█▉        | 198/1000 [00:11<00:48, 16.43it/s]"
          ]
        },
        {
          "output_type": "stream",
          "name": "stdout",
          "text": [
            "epoch 195, loss: 0.5990\n",
            "epoch 196, loss: 0.5981\n",
            "epoch 197, loss: 0.5973\n",
            "epoch 198, loss: 0.5964\n"
          ]
        },
        {
          "output_type": "stream",
          "name": "stderr",
          "text": [
            " 20%|██        | 202/1000 [00:12<00:48, 16.49it/s]"
          ]
        },
        {
          "output_type": "stream",
          "name": "stdout",
          "text": [
            "epoch 199, loss: 0.5955\n",
            "epoch 200, loss: 0.5947\n",
            "epoch 201, loss: 0.5938\n",
            "epoch 202, loss: 0.5930\n"
          ]
        },
        {
          "output_type": "stream",
          "name": "stderr",
          "text": [
            " 21%|██        | 206/1000 [00:12<00:48, 16.49it/s]"
          ]
        },
        {
          "output_type": "stream",
          "name": "stdout",
          "text": [
            "epoch 203, loss: 0.5922\n",
            "epoch 204, loss: 0.5913\n",
            "epoch 205, loss: 0.5905\n",
            "epoch 206, loss: 0.5897\n"
          ]
        },
        {
          "output_type": "stream",
          "name": "stderr",
          "text": [
            " 21%|██        | 210/1000 [00:12<00:48, 16.39it/s]"
          ]
        },
        {
          "output_type": "stream",
          "name": "stdout",
          "text": [
            "epoch 207, loss: 0.5888\n",
            "epoch 208, loss: 0.5880\n",
            "epoch 209, loss: 0.5872\n",
            "epoch 210, loss: 0.5864\n"
          ]
        },
        {
          "output_type": "stream",
          "name": "stderr",
          "text": [
            " 21%|██▏       | 214/1000 [00:12<00:47, 16.39it/s]"
          ]
        },
        {
          "output_type": "stream",
          "name": "stdout",
          "text": [
            "epoch 211, loss: 0.5855\n",
            "epoch 212, loss: 0.5847\n",
            "epoch 213, loss: 0.5839\n",
            "epoch 214, loss: 0.5831\n"
          ]
        },
        {
          "output_type": "stream",
          "name": "stderr",
          "text": [
            " 22%|██▏       | 218/1000 [00:13<00:47, 16.44it/s]"
          ]
        },
        {
          "output_type": "stream",
          "name": "stdout",
          "text": [
            "epoch 215, loss: 0.5823\n",
            "epoch 216, loss: 0.5815\n",
            "epoch 217, loss: 0.5807\n",
            "epoch 218, loss: 0.5799\n"
          ]
        },
        {
          "output_type": "stream",
          "name": "stderr",
          "text": [
            " 22%|██▏       | 222/1000 [00:13<00:47, 16.45it/s]"
          ]
        },
        {
          "output_type": "stream",
          "name": "stdout",
          "text": [
            "epoch 219, loss: 0.5791\n",
            "epoch 220, loss: 0.5783\n",
            "epoch 221, loss: 0.5775\n",
            "epoch 222, loss: 0.5767\n"
          ]
        },
        {
          "output_type": "stream",
          "name": "stderr",
          "text": [
            " 23%|██▎       | 226/1000 [00:13<00:47, 16.42it/s]"
          ]
        },
        {
          "output_type": "stream",
          "name": "stdout",
          "text": [
            "epoch 223, loss: 0.5759\n",
            "epoch 224, loss: 0.5752\n",
            "epoch 225, loss: 0.5744\n",
            "epoch 226, loss: 0.5736\n"
          ]
        },
        {
          "output_type": "stream",
          "name": "stderr",
          "text": [
            " 23%|██▎       | 230/1000 [00:13<00:46, 16.44it/s]"
          ]
        },
        {
          "output_type": "stream",
          "name": "stdout",
          "text": [
            "epoch 227, loss: 0.5728\n",
            "epoch 228, loss: 0.5721\n",
            "epoch 229, loss: 0.5713\n",
            "epoch 230, loss: 0.5705\n"
          ]
        },
        {
          "output_type": "stream",
          "name": "stderr",
          "text": [
            " 23%|██▎       | 234/1000 [00:14<00:46, 16.46it/s]"
          ]
        },
        {
          "output_type": "stream",
          "name": "stdout",
          "text": [
            "epoch 231, loss: 0.5698\n",
            "epoch 232, loss: 0.5690\n",
            "epoch 233, loss: 0.5683\n",
            "epoch 234, loss: 0.5675\n"
          ]
        },
        {
          "output_type": "stream",
          "name": "stderr",
          "text": [
            " 24%|██▍       | 238/1000 [00:14<00:46, 16.46it/s]"
          ]
        },
        {
          "output_type": "stream",
          "name": "stdout",
          "text": [
            "epoch 235, loss: 0.5668\n",
            "epoch 236, loss: 0.5660\n",
            "epoch 237, loss: 0.5653\n",
            "epoch 238, loss: 0.5645\n"
          ]
        },
        {
          "output_type": "stream",
          "name": "stderr",
          "text": [
            " 24%|██▍       | 242/1000 [00:14<00:46, 16.43it/s]"
          ]
        },
        {
          "output_type": "stream",
          "name": "stdout",
          "text": [
            "epoch 239, loss: 0.5638\n",
            "epoch 240, loss: 0.5631\n",
            "epoch 241, loss: 0.5623\n",
            "epoch 242, loss: 0.5616\n"
          ]
        },
        {
          "output_type": "stream",
          "name": "stderr",
          "text": [
            " 25%|██▍       | 246/1000 [00:14<00:45, 16.40it/s]"
          ]
        },
        {
          "output_type": "stream",
          "name": "stdout",
          "text": [
            "epoch 243, loss: 0.5609\n",
            "epoch 244, loss: 0.5602\n",
            "epoch 245, loss: 0.5594\n",
            "epoch 246, loss: 0.5587\n"
          ]
        },
        {
          "output_type": "stream",
          "name": "stderr",
          "text": [
            " 25%|██▌       | 250/1000 [00:15<00:45, 16.44it/s]"
          ]
        },
        {
          "output_type": "stream",
          "name": "stdout",
          "text": [
            "epoch 247, loss: 0.5580\n",
            "epoch 248, loss: 0.5573\n",
            "epoch 249, loss: 0.5566\n",
            "epoch 250, loss: 0.5559\n"
          ]
        },
        {
          "output_type": "stream",
          "name": "stderr",
          "text": [
            " 25%|██▌       | 254/1000 [00:15<00:45, 16.48it/s]"
          ]
        },
        {
          "output_type": "stream",
          "name": "stdout",
          "text": [
            "epoch 251, loss: 0.5552\n",
            "epoch 252, loss: 0.5545\n",
            "epoch 253, loss: 0.5538\n",
            "epoch 254, loss: 0.5531\n"
          ]
        },
        {
          "output_type": "stream",
          "name": "stderr",
          "text": [
            " 26%|██▌       | 258/1000 [00:15<00:45, 16.48it/s]"
          ]
        },
        {
          "output_type": "stream",
          "name": "stdout",
          "text": [
            "epoch 255, loss: 0.5524\n",
            "epoch 256, loss: 0.5517\n",
            "epoch 257, loss: 0.5510\n",
            "epoch 258, loss: 0.5503\n"
          ]
        },
        {
          "output_type": "stream",
          "name": "stderr",
          "text": [
            " 26%|██▌       | 262/1000 [00:15<00:45, 16.40it/s]"
          ]
        },
        {
          "output_type": "stream",
          "name": "stdout",
          "text": [
            "epoch 259, loss: 0.5497\n",
            "epoch 260, loss: 0.5490\n",
            "epoch 261, loss: 0.5483\n",
            "epoch 262, loss: 0.5476\n"
          ]
        },
        {
          "output_type": "stream",
          "name": "stderr",
          "text": [
            " 27%|██▋       | 266/1000 [00:16<00:44, 16.42it/s]"
          ]
        },
        {
          "output_type": "stream",
          "name": "stdout",
          "text": [
            "epoch 263, loss: 0.5470\n",
            "epoch 264, loss: 0.5463\n",
            "epoch 265, loss: 0.5456\n",
            "epoch 266, loss: 0.5450\n"
          ]
        },
        {
          "output_type": "stream",
          "name": "stderr",
          "text": [
            " 27%|██▋       | 270/1000 [00:16<00:44, 16.47it/s]"
          ]
        },
        {
          "output_type": "stream",
          "name": "stdout",
          "text": [
            "epoch 267, loss: 0.5443\n",
            "epoch 268, loss: 0.5437\n",
            "epoch 269, loss: 0.5430\n",
            "epoch 270, loss: 0.5424\n"
          ]
        },
        {
          "output_type": "stream",
          "name": "stderr",
          "text": [
            " 27%|██▋       | 274/1000 [00:16<00:43, 16.51it/s]"
          ]
        },
        {
          "output_type": "stream",
          "name": "stdout",
          "text": [
            "epoch 271, loss: 0.5417\n",
            "epoch 272, loss: 0.5411\n",
            "epoch 273, loss: 0.5404\n",
            "epoch 274, loss: 0.5398\n"
          ]
        },
        {
          "output_type": "stream",
          "name": "stderr",
          "text": [
            " 28%|██▊       | 278/1000 [00:16<00:43, 16.45it/s]"
          ]
        },
        {
          "output_type": "stream",
          "name": "stdout",
          "text": [
            "epoch 275, loss: 0.5392\n",
            "epoch 276, loss: 0.5385\n",
            "epoch 277, loss: 0.5379\n",
            "epoch 278, loss: 0.5373\n"
          ]
        },
        {
          "output_type": "stream",
          "name": "stderr",
          "text": [
            " 28%|██▊       | 282/1000 [00:17<00:43, 16.45it/s]"
          ]
        },
        {
          "output_type": "stream",
          "name": "stdout",
          "text": [
            "epoch 279, loss: 0.5366\n",
            "epoch 280, loss: 0.5360\n",
            "epoch 281, loss: 0.5354\n",
            "epoch 282, loss: 0.5348\n"
          ]
        },
        {
          "output_type": "stream",
          "name": "stderr",
          "text": [
            " 29%|██▊       | 286/1000 [00:17<00:43, 16.43it/s]"
          ]
        },
        {
          "output_type": "stream",
          "name": "stdout",
          "text": [
            "epoch 283, loss: 0.5342\n",
            "epoch 284, loss: 0.5335\n",
            "epoch 285, loss: 0.5329\n",
            "epoch 286, loss: 0.5323\n"
          ]
        },
        {
          "output_type": "stream",
          "name": "stderr",
          "text": [
            " 29%|██▉       | 290/1000 [00:17<00:43, 16.46it/s]"
          ]
        },
        {
          "output_type": "stream",
          "name": "stdout",
          "text": [
            "epoch 287, loss: 0.5317\n",
            "epoch 288, loss: 0.5311\n",
            "epoch 289, loss: 0.5305\n",
            "epoch 290, loss: 0.5299\n"
          ]
        },
        {
          "output_type": "stream",
          "name": "stderr",
          "text": [
            " 29%|██▉       | 294/1000 [00:17<00:42, 16.49it/s]"
          ]
        },
        {
          "output_type": "stream",
          "name": "stdout",
          "text": [
            "epoch 291, loss: 0.5293\n",
            "epoch 292, loss: 0.5287\n",
            "epoch 293, loss: 0.5281\n",
            "epoch 294, loss: 0.5275\n"
          ]
        },
        {
          "output_type": "stream",
          "name": "stderr",
          "text": [
            " 30%|██▉       | 298/1000 [00:18<00:42, 16.45it/s]"
          ]
        },
        {
          "output_type": "stream",
          "name": "stdout",
          "text": [
            "epoch 295, loss: 0.5270\n",
            "epoch 296, loss: 0.5264\n",
            "epoch 297, loss: 0.5258\n",
            "epoch 298, loss: 0.5252\n"
          ]
        },
        {
          "output_type": "stream",
          "name": "stderr",
          "text": [
            " 30%|███       | 302/1000 [00:18<00:42, 16.35it/s]"
          ]
        },
        {
          "output_type": "stream",
          "name": "stdout",
          "text": [
            "epoch 299, loss: 0.5246\n",
            "epoch 300, loss: 0.5241\n",
            "epoch 301, loss: 0.5235\n",
            "epoch 302, loss: 0.5229\n"
          ]
        },
        {
          "output_type": "stream",
          "name": "stderr",
          "text": [
            " 31%|███       | 306/1000 [00:18<00:42, 16.20it/s]"
          ]
        },
        {
          "output_type": "stream",
          "name": "stdout",
          "text": [
            "epoch 303, loss: 0.5224\n",
            "epoch 304, loss: 0.5218\n",
            "epoch 305, loss: 0.5212\n",
            "epoch 306, loss: 0.5207\n"
          ]
        },
        {
          "output_type": "stream",
          "name": "stderr",
          "text": [
            " 31%|███       | 310/1000 [00:18<00:42, 16.38it/s]"
          ]
        },
        {
          "output_type": "stream",
          "name": "stdout",
          "text": [
            "epoch 307, loss: 0.5201\n",
            "epoch 308, loss: 0.5196\n",
            "epoch 309, loss: 0.5190\n",
            "epoch 310, loss: 0.5185\n"
          ]
        },
        {
          "output_type": "stream",
          "name": "stderr",
          "text": [
            " 31%|███▏      | 314/1000 [00:19<00:41, 16.41it/s]"
          ]
        },
        {
          "output_type": "stream",
          "name": "stdout",
          "text": [
            "epoch 311, loss: 0.5179\n",
            "epoch 312, loss: 0.5174\n",
            "epoch 313, loss: 0.5168\n",
            "epoch 314, loss: 0.5163\n"
          ]
        },
        {
          "output_type": "stream",
          "name": "stderr",
          "text": [
            " 32%|███▏      | 318/1000 [00:19<00:41, 16.50it/s]"
          ]
        },
        {
          "output_type": "stream",
          "name": "stdout",
          "text": [
            "epoch 315, loss: 0.5157\n",
            "epoch 316, loss: 0.5152\n",
            "epoch 317, loss: 0.5147\n",
            "epoch 318, loss: 0.5141\n"
          ]
        },
        {
          "output_type": "stream",
          "name": "stderr",
          "text": [
            " 32%|███▏      | 322/1000 [00:19<00:41, 16.46it/s]"
          ]
        },
        {
          "output_type": "stream",
          "name": "stdout",
          "text": [
            "epoch 319, loss: 0.5136\n",
            "epoch 320, loss: 0.5131\n",
            "epoch 321, loss: 0.5125\n",
            "epoch 322, loss: 0.5120\n"
          ]
        },
        {
          "output_type": "stream",
          "name": "stderr",
          "text": [
            " 33%|███▎      | 326/1000 [00:19<00:40, 16.44it/s]"
          ]
        },
        {
          "output_type": "stream",
          "name": "stdout",
          "text": [
            "epoch 323, loss: 0.5115\n",
            "epoch 324, loss: 0.5110\n",
            "epoch 325, loss: 0.5105\n",
            "epoch 326, loss: 0.5099\n"
          ]
        },
        {
          "output_type": "stream",
          "name": "stderr",
          "text": [
            " 33%|███▎      | 330/1000 [00:20<00:40, 16.47it/s]"
          ]
        },
        {
          "output_type": "stream",
          "name": "stdout",
          "text": [
            "epoch 327, loss: 0.5094\n",
            "epoch 328, loss: 0.5089\n",
            "epoch 329, loss: 0.5084\n",
            "epoch 330, loss: 0.5079\n"
          ]
        },
        {
          "output_type": "stream",
          "name": "stderr",
          "text": [
            " 33%|███▎      | 334/1000 [00:20<00:40, 16.39it/s]"
          ]
        },
        {
          "output_type": "stream",
          "name": "stdout",
          "text": [
            "epoch 331, loss: 0.5074\n",
            "epoch 332, loss: 0.5069\n",
            "epoch 333, loss: 0.5064\n",
            "epoch 334, loss: 0.5059\n"
          ]
        },
        {
          "output_type": "stream",
          "name": "stderr",
          "text": [
            " 34%|███▍      | 338/1000 [00:20<00:40, 16.29it/s]"
          ]
        },
        {
          "output_type": "stream",
          "name": "stdout",
          "text": [
            "epoch 335, loss: 0.5054\n",
            "epoch 336, loss: 0.5049\n",
            "epoch 337, loss: 0.5044\n",
            "epoch 338, loss: 0.5039\n"
          ]
        },
        {
          "output_type": "stream",
          "name": "stderr",
          "text": [
            " 34%|███▍      | 342/1000 [00:20<00:40, 16.34it/s]"
          ]
        },
        {
          "output_type": "stream",
          "name": "stdout",
          "text": [
            "epoch 339, loss: 0.5034\n",
            "epoch 340, loss: 0.5029\n",
            "epoch 341, loss: 0.5025\n",
            "epoch 342, loss: 0.5020\n"
          ]
        },
        {
          "output_type": "stream",
          "name": "stderr",
          "text": [
            " 35%|███▍      | 346/1000 [00:20<00:39, 16.46it/s]"
          ]
        },
        {
          "output_type": "stream",
          "name": "stdout",
          "text": [
            "epoch 343, loss: 0.5015\n",
            "epoch 344, loss: 0.5010\n",
            "epoch 345, loss: 0.5005\n",
            "epoch 346, loss: 0.5001\n"
          ]
        },
        {
          "output_type": "stream",
          "name": "stderr",
          "text": [
            " 35%|███▌      | 350/1000 [00:21<00:39, 16.44it/s]"
          ]
        },
        {
          "output_type": "stream",
          "name": "stdout",
          "text": [
            "epoch 347, loss: 0.4996\n",
            "epoch 348, loss: 0.4991\n",
            "epoch 349, loss: 0.4986\n",
            "epoch 350, loss: 0.4982\n"
          ]
        },
        {
          "output_type": "stream",
          "name": "stderr",
          "text": [
            " 35%|███▌      | 354/1000 [00:21<00:39, 16.44it/s]"
          ]
        },
        {
          "output_type": "stream",
          "name": "stdout",
          "text": [
            "epoch 351, loss: 0.4977\n",
            "epoch 352, loss: 0.4973\n",
            "epoch 353, loss: 0.4968\n",
            "epoch 354, loss: 0.4963\n"
          ]
        },
        {
          "output_type": "stream",
          "name": "stderr",
          "text": [
            " 36%|███▌      | 358/1000 [00:21<00:38, 16.48it/s]"
          ]
        },
        {
          "output_type": "stream",
          "name": "stdout",
          "text": [
            "epoch 355, loss: 0.4959\n",
            "epoch 356, loss: 0.4954\n",
            "epoch 357, loss: 0.4950\n",
            "epoch 358, loss: 0.4945\n"
          ]
        },
        {
          "output_type": "stream",
          "name": "stderr",
          "text": [
            " 36%|███▌      | 362/1000 [00:21<00:38, 16.46it/s]"
          ]
        },
        {
          "output_type": "stream",
          "name": "stdout",
          "text": [
            "epoch 359, loss: 0.4941\n",
            "epoch 360, loss: 0.4936\n",
            "epoch 361, loss: 0.4932\n",
            "epoch 362, loss: 0.4927\n"
          ]
        },
        {
          "output_type": "stream",
          "name": "stderr",
          "text": [
            " 37%|███▋      | 366/1000 [00:22<00:38, 16.44it/s]"
          ]
        },
        {
          "output_type": "stream",
          "name": "stdout",
          "text": [
            "epoch 363, loss: 0.4923\n",
            "epoch 364, loss: 0.4918\n",
            "epoch 365, loss: 0.4914\n",
            "epoch 366, loss: 0.4910\n"
          ]
        },
        {
          "output_type": "stream",
          "name": "stderr",
          "text": [
            " 37%|███▋      | 370/1000 [00:22<00:38, 16.46it/s]"
          ]
        },
        {
          "output_type": "stream",
          "name": "stdout",
          "text": [
            "epoch 367, loss: 0.4905\n",
            "epoch 368, loss: 0.4901\n",
            "epoch 369, loss: 0.4897\n",
            "epoch 370, loss: 0.4892\n"
          ]
        },
        {
          "output_type": "stream",
          "name": "stderr",
          "text": [
            " 37%|███▋      | 374/1000 [00:22<00:38, 16.45it/s]"
          ]
        },
        {
          "output_type": "stream",
          "name": "stdout",
          "text": [
            "epoch 371, loss: 0.4888\n",
            "epoch 372, loss: 0.4884\n",
            "epoch 373, loss: 0.4879\n",
            "epoch 374, loss: 0.4875\n"
          ]
        },
        {
          "output_type": "stream",
          "name": "stderr",
          "text": [
            " 38%|███▊      | 378/1000 [00:22<00:37, 16.41it/s]"
          ]
        },
        {
          "output_type": "stream",
          "name": "stdout",
          "text": [
            "epoch 375, loss: 0.4871\n",
            "epoch 376, loss: 0.4867\n",
            "epoch 377, loss: 0.4862\n",
            "epoch 378, loss: 0.4858\n"
          ]
        },
        {
          "output_type": "stream",
          "name": "stderr",
          "text": [
            " 38%|███▊      | 382/1000 [00:23<00:37, 16.43it/s]"
          ]
        },
        {
          "output_type": "stream",
          "name": "stdout",
          "text": [
            "epoch 379, loss: 0.4854\n",
            "epoch 380, loss: 0.4850\n",
            "epoch 381, loss: 0.4846\n",
            "epoch 382, loss: 0.4842\n"
          ]
        },
        {
          "output_type": "stream",
          "name": "stderr",
          "text": [
            " 39%|███▊      | 386/1000 [00:23<00:37, 16.47it/s]"
          ]
        },
        {
          "output_type": "stream",
          "name": "stdout",
          "text": [
            "epoch 383, loss: 0.4838\n",
            "epoch 384, loss: 0.4834\n",
            "epoch 385, loss: 0.4830\n",
            "epoch 386, loss: 0.4825\n"
          ]
        },
        {
          "output_type": "stream",
          "name": "stderr",
          "text": [
            " 39%|███▉      | 390/1000 [00:23<00:37, 16.46it/s]"
          ]
        },
        {
          "output_type": "stream",
          "name": "stdout",
          "text": [
            "epoch 387, loss: 0.4821\n",
            "epoch 388, loss: 0.4817\n",
            "epoch 389, loss: 0.4813\n",
            "epoch 390, loss: 0.4809\n"
          ]
        },
        {
          "output_type": "stream",
          "name": "stderr",
          "text": [
            " 39%|███▉      | 394/1000 [00:23<00:36, 16.43it/s]"
          ]
        },
        {
          "output_type": "stream",
          "name": "stdout",
          "text": [
            "epoch 391, loss: 0.4805\n",
            "epoch 392, loss: 0.4802\n",
            "epoch 393, loss: 0.4798\n",
            "epoch 394, loss: 0.4794\n"
          ]
        },
        {
          "output_type": "stream",
          "name": "stderr",
          "text": [
            " 40%|███▉      | 398/1000 [00:24<00:36, 16.46it/s]"
          ]
        },
        {
          "output_type": "stream",
          "name": "stdout",
          "text": [
            "epoch 395, loss: 0.4790\n",
            "epoch 396, loss: 0.4786\n",
            "epoch 397, loss: 0.4782\n",
            "epoch 398, loss: 0.4778\n"
          ]
        },
        {
          "output_type": "stream",
          "name": "stderr",
          "text": [
            " 40%|████      | 402/1000 [00:24<00:36, 16.45it/s]"
          ]
        },
        {
          "output_type": "stream",
          "name": "stdout",
          "text": [
            "epoch 399, loss: 0.4774\n",
            "epoch 400, loss: 0.4770\n",
            "epoch 401, loss: 0.4767\n",
            "epoch 402, loss: 0.4763\n"
          ]
        },
        {
          "output_type": "stream",
          "name": "stderr",
          "text": [
            " 41%|████      | 406/1000 [00:24<00:36, 16.44it/s]"
          ]
        },
        {
          "output_type": "stream",
          "name": "stdout",
          "text": [
            "epoch 403, loss: 0.4759\n",
            "epoch 404, loss: 0.4755\n",
            "epoch 405, loss: 0.4752\n",
            "epoch 406, loss: 0.4748\n"
          ]
        },
        {
          "output_type": "stream",
          "name": "stderr",
          "text": [
            " 41%|████      | 410/1000 [00:24<00:35, 16.44it/s]"
          ]
        },
        {
          "output_type": "stream",
          "name": "stdout",
          "text": [
            "epoch 407, loss: 0.4744\n",
            "epoch 408, loss: 0.4740\n",
            "epoch 409, loss: 0.4737\n",
            "epoch 410, loss: 0.4733\n"
          ]
        },
        {
          "output_type": "stream",
          "name": "stderr",
          "text": [
            " 41%|████▏     | 414/1000 [00:25<00:35, 16.43it/s]"
          ]
        },
        {
          "output_type": "stream",
          "name": "stdout",
          "text": [
            "epoch 411, loss: 0.4729\n",
            "epoch 412, loss: 0.4726\n",
            "epoch 413, loss: 0.4722\n",
            "epoch 414, loss: 0.4718\n"
          ]
        },
        {
          "output_type": "stream",
          "name": "stderr",
          "text": [
            " 42%|████▏     | 418/1000 [00:25<00:35, 16.45it/s]"
          ]
        },
        {
          "output_type": "stream",
          "name": "stdout",
          "text": [
            "epoch 415, loss: 0.4715\n",
            "epoch 416, loss: 0.4711\n",
            "epoch 417, loss: 0.4707\n",
            "epoch 418, loss: 0.4704\n"
          ]
        },
        {
          "output_type": "stream",
          "name": "stderr",
          "text": [
            " 42%|████▏     | 422/1000 [00:25<00:35, 16.45it/s]"
          ]
        },
        {
          "output_type": "stream",
          "name": "stdout",
          "text": [
            "epoch 419, loss: 0.4700\n",
            "epoch 420, loss: 0.4697\n",
            "epoch 421, loss: 0.4693\n",
            "epoch 422, loss: 0.4690\n"
          ]
        },
        {
          "output_type": "stream",
          "name": "stderr",
          "text": [
            " 43%|████▎     | 426/1000 [00:25<00:34, 16.43it/s]"
          ]
        },
        {
          "output_type": "stream",
          "name": "stdout",
          "text": [
            "epoch 423, loss: 0.4686\n",
            "epoch 424, loss: 0.4683\n",
            "epoch 425, loss: 0.4679\n",
            "epoch 426, loss: 0.4676\n"
          ]
        },
        {
          "output_type": "stream",
          "name": "stderr",
          "text": [
            " 43%|████▎     | 430/1000 [00:26<00:34, 16.43it/s]"
          ]
        },
        {
          "output_type": "stream",
          "name": "stdout",
          "text": [
            "epoch 427, loss: 0.4672\n",
            "epoch 428, loss: 0.4669\n",
            "epoch 429, loss: 0.4665\n",
            "epoch 430, loss: 0.4662\n"
          ]
        },
        {
          "output_type": "stream",
          "name": "stderr",
          "text": [
            " 43%|████▎     | 434/1000 [00:26<00:34, 16.45it/s]"
          ]
        },
        {
          "output_type": "stream",
          "name": "stdout",
          "text": [
            "epoch 431, loss: 0.4659\n",
            "epoch 432, loss: 0.4655\n",
            "epoch 433, loss: 0.4652\n",
            "epoch 434, loss: 0.4648\n"
          ]
        },
        {
          "output_type": "stream",
          "name": "stderr",
          "text": [
            " 44%|████▍     | 438/1000 [00:26<00:34, 16.45it/s]"
          ]
        },
        {
          "output_type": "stream",
          "name": "stdout",
          "text": [
            "epoch 435, loss: 0.4645\n",
            "epoch 436, loss: 0.4642\n",
            "epoch 437, loss: 0.4638\n",
            "epoch 438, loss: 0.4635\n"
          ]
        },
        {
          "output_type": "stream",
          "name": "stderr",
          "text": [
            " 44%|████▍     | 442/1000 [00:26<00:33, 16.45it/s]"
          ]
        },
        {
          "output_type": "stream",
          "name": "stdout",
          "text": [
            "epoch 439, loss: 0.4632\n",
            "epoch 440, loss: 0.4628\n",
            "epoch 441, loss: 0.4625\n",
            "epoch 442, loss: 0.4622\n"
          ]
        },
        {
          "output_type": "stream",
          "name": "stderr",
          "text": [
            " 45%|████▍     | 446/1000 [00:27<00:33, 16.45it/s]"
          ]
        },
        {
          "output_type": "stream",
          "name": "stdout",
          "text": [
            "epoch 443, loss: 0.4618\n",
            "epoch 444, loss: 0.4615\n",
            "epoch 445, loss: 0.4612\n",
            "epoch 446, loss: 0.4609\n"
          ]
        },
        {
          "output_type": "stream",
          "name": "stderr",
          "text": [
            " 45%|████▌     | 450/1000 [00:27<00:33, 16.44it/s]"
          ]
        },
        {
          "output_type": "stream",
          "name": "stdout",
          "text": [
            "epoch 447, loss: 0.4605\n",
            "epoch 448, loss: 0.4602\n",
            "epoch 449, loss: 0.4599\n",
            "epoch 450, loss: 0.4596\n"
          ]
        },
        {
          "output_type": "stream",
          "name": "stderr",
          "text": [
            " 45%|████▌     | 454/1000 [00:27<00:33, 16.45it/s]"
          ]
        },
        {
          "output_type": "stream",
          "name": "stdout",
          "text": [
            "epoch 451, loss: 0.4593\n",
            "epoch 452, loss: 0.4590\n",
            "epoch 453, loss: 0.4586\n",
            "epoch 454, loss: 0.4583\n"
          ]
        },
        {
          "output_type": "stream",
          "name": "stderr",
          "text": [
            " 46%|████▌     | 458/1000 [00:27<00:32, 16.44it/s]"
          ]
        },
        {
          "output_type": "stream",
          "name": "stdout",
          "text": [
            "epoch 455, loss: 0.4580\n",
            "epoch 456, loss: 0.4577\n",
            "epoch 457, loss: 0.4574\n",
            "epoch 458, loss: 0.4571\n"
          ]
        },
        {
          "output_type": "stream",
          "name": "stderr",
          "text": [
            " 46%|████▌     | 462/1000 [00:28<00:32, 16.44it/s]"
          ]
        },
        {
          "output_type": "stream",
          "name": "stdout",
          "text": [
            "epoch 459, loss: 0.4568\n",
            "epoch 460, loss: 0.4565\n",
            "epoch 461, loss: 0.4561\n",
            "epoch 462, loss: 0.4558\n"
          ]
        },
        {
          "output_type": "stream",
          "name": "stderr",
          "text": [
            " 47%|████▋     | 466/1000 [00:28<00:32, 16.44it/s]"
          ]
        },
        {
          "output_type": "stream",
          "name": "stdout",
          "text": [
            "epoch 463, loss: 0.4555\n",
            "epoch 464, loss: 0.4552\n",
            "epoch 465, loss: 0.4549\n",
            "epoch 466, loss: 0.4546\n"
          ]
        },
        {
          "output_type": "stream",
          "name": "stderr",
          "text": [
            " 47%|████▋     | 470/1000 [00:28<00:32, 16.45it/s]"
          ]
        },
        {
          "output_type": "stream",
          "name": "stdout",
          "text": [
            "epoch 467, loss: 0.4543\n",
            "epoch 468, loss: 0.4540\n",
            "epoch 469, loss: 0.4537\n",
            "epoch 470, loss: 0.4534\n"
          ]
        },
        {
          "output_type": "stream",
          "name": "stderr",
          "text": [
            " 47%|████▋     | 474/1000 [00:28<00:31, 16.45it/s]"
          ]
        },
        {
          "output_type": "stream",
          "name": "stdout",
          "text": [
            "epoch 471, loss: 0.4531\n",
            "epoch 472, loss: 0.4528\n",
            "epoch 473, loss: 0.4525\n",
            "epoch 474, loss: 0.4522\n"
          ]
        },
        {
          "output_type": "stream",
          "name": "stderr",
          "text": [
            " 48%|████▊     | 478/1000 [00:29<00:31, 16.48it/s]"
          ]
        },
        {
          "output_type": "stream",
          "name": "stdout",
          "text": [
            "epoch 475, loss: 0.4519\n",
            "epoch 476, loss: 0.4517\n",
            "epoch 477, loss: 0.4514\n",
            "epoch 478, loss: 0.4511\n"
          ]
        },
        {
          "output_type": "stream",
          "name": "stderr",
          "text": [
            " 48%|████▊     | 482/1000 [00:29<00:31, 16.43it/s]"
          ]
        },
        {
          "output_type": "stream",
          "name": "stdout",
          "text": [
            "epoch 479, loss: 0.4508\n",
            "epoch 480, loss: 0.4505\n",
            "epoch 481, loss: 0.4502\n",
            "epoch 482, loss: 0.4499\n"
          ]
        },
        {
          "output_type": "stream",
          "name": "stderr",
          "text": [
            " 49%|████▊     | 486/1000 [00:29<00:31, 16.17it/s]"
          ]
        },
        {
          "output_type": "stream",
          "name": "stdout",
          "text": [
            "epoch 483, loss: 0.4496\n",
            "epoch 484, loss: 0.4493\n",
            "epoch 485, loss: 0.4491\n",
            "epoch 486, loss: 0.4488\n"
          ]
        },
        {
          "output_type": "stream",
          "name": "stderr",
          "text": [
            " 49%|████▉     | 490/1000 [00:29<00:31, 16.42it/s]"
          ]
        },
        {
          "output_type": "stream",
          "name": "stdout",
          "text": [
            "epoch 487, loss: 0.4485\n",
            "epoch 488, loss: 0.4482\n",
            "epoch 489, loss: 0.4479\n",
            "epoch 490, loss: 0.4476\n"
          ]
        },
        {
          "output_type": "stream",
          "name": "stderr",
          "text": [
            " 49%|████▉     | 494/1000 [00:30<00:30, 16.53it/s]"
          ]
        },
        {
          "output_type": "stream",
          "name": "stdout",
          "text": [
            "epoch 491, loss: 0.4474\n",
            "epoch 492, loss: 0.4471\n",
            "epoch 493, loss: 0.4468\n",
            "epoch 494, loss: 0.4465\n"
          ]
        },
        {
          "output_type": "stream",
          "name": "stderr",
          "text": [
            " 50%|████▉     | 498/1000 [00:30<00:30, 16.51it/s]"
          ]
        },
        {
          "output_type": "stream",
          "name": "stdout",
          "text": [
            "epoch 495, loss: 0.4463\n",
            "epoch 496, loss: 0.4460\n",
            "epoch 497, loss: 0.4457\n",
            "epoch 498, loss: 0.4454\n"
          ]
        },
        {
          "output_type": "stream",
          "name": "stderr",
          "text": [
            " 50%|█████     | 502/1000 [00:30<00:30, 16.45it/s]"
          ]
        },
        {
          "output_type": "stream",
          "name": "stdout",
          "text": [
            "epoch 499, loss: 0.4452\n",
            "epoch 500, loss: 0.4449\n",
            "epoch 501, loss: 0.4446\n",
            "epoch 502, loss: 0.4444\n"
          ]
        },
        {
          "output_type": "stream",
          "name": "stderr",
          "text": [
            " 51%|█████     | 506/1000 [00:30<00:29, 16.51it/s]"
          ]
        },
        {
          "output_type": "stream",
          "name": "stdout",
          "text": [
            "epoch 503, loss: 0.4441\n",
            "epoch 504, loss: 0.4438\n",
            "epoch 505, loss: 0.4435\n",
            "epoch 506, loss: 0.4433\n"
          ]
        },
        {
          "output_type": "stream",
          "name": "stderr",
          "text": [
            " 51%|█████     | 510/1000 [00:30<00:29, 16.45it/s]"
          ]
        },
        {
          "output_type": "stream",
          "name": "stdout",
          "text": [
            "epoch 507, loss: 0.4430\n",
            "epoch 508, loss: 0.4428\n",
            "epoch 509, loss: 0.4425\n",
            "epoch 510, loss: 0.4422\n"
          ]
        },
        {
          "output_type": "stream",
          "name": "stderr",
          "text": [
            " 51%|█████▏    | 514/1000 [00:31<00:29, 16.47it/s]"
          ]
        },
        {
          "output_type": "stream",
          "name": "stdout",
          "text": [
            "epoch 511, loss: 0.4420\n",
            "epoch 512, loss: 0.4417\n",
            "epoch 513, loss: 0.4414\n",
            "epoch 514, loss: 0.4412\n"
          ]
        },
        {
          "output_type": "stream",
          "name": "stderr",
          "text": [
            " 52%|█████▏    | 518/1000 [00:31<00:29, 16.44it/s]"
          ]
        },
        {
          "output_type": "stream",
          "name": "stdout",
          "text": [
            "epoch 515, loss: 0.4409\n",
            "epoch 516, loss: 0.4407\n",
            "epoch 517, loss: 0.4404\n",
            "epoch 518, loss: 0.4401\n"
          ]
        },
        {
          "output_type": "stream",
          "name": "stderr",
          "text": [
            " 52%|█████▏    | 522/1000 [00:31<00:28, 16.50it/s]"
          ]
        },
        {
          "output_type": "stream",
          "name": "stdout",
          "text": [
            "epoch 519, loss: 0.4399\n",
            "epoch 520, loss: 0.4396\n",
            "epoch 521, loss: 0.4394\n",
            "epoch 522, loss: 0.4391\n"
          ]
        },
        {
          "output_type": "stream",
          "name": "stderr",
          "text": [
            " 53%|█████▎    | 526/1000 [00:31<00:28, 16.45it/s]"
          ]
        },
        {
          "output_type": "stream",
          "name": "stdout",
          "text": [
            "epoch 523, loss: 0.4389\n",
            "epoch 524, loss: 0.4386\n",
            "epoch 525, loss: 0.4384\n",
            "epoch 526, loss: 0.4381\n"
          ]
        },
        {
          "output_type": "stream",
          "name": "stderr",
          "text": [
            " 53%|█████▎    | 530/1000 [00:32<00:28, 16.50it/s]"
          ]
        },
        {
          "output_type": "stream",
          "name": "stdout",
          "text": [
            "epoch 527, loss: 0.4379\n",
            "epoch 528, loss: 0.4376\n",
            "epoch 529, loss: 0.4374\n",
            "epoch 530, loss: 0.4371\n"
          ]
        },
        {
          "output_type": "stream",
          "name": "stderr",
          "text": [
            " 53%|█████▎    | 534/1000 [00:32<00:29, 16.04it/s]"
          ]
        },
        {
          "output_type": "stream",
          "name": "stdout",
          "text": [
            "epoch 531, loss: 0.4369\n",
            "epoch 532, loss: 0.4366\n",
            "epoch 533, loss: 0.4364\n",
            "epoch 534, loss: 0.4361\n"
          ]
        },
        {
          "output_type": "stream",
          "name": "stderr",
          "text": [
            " 54%|█████▍    | 538/1000 [00:32<00:29, 15.83it/s]"
          ]
        },
        {
          "output_type": "stream",
          "name": "stdout",
          "text": [
            "epoch 535, loss: 0.4359\n",
            "epoch 536, loss: 0.4356\n",
            "epoch 537, loss: 0.4354\n",
            "epoch 538, loss: 0.4352\n"
          ]
        },
        {
          "output_type": "stream",
          "name": "stderr",
          "text": [
            " 54%|█████▍    | 542/1000 [00:32<00:28, 16.20it/s]"
          ]
        },
        {
          "output_type": "stream",
          "name": "stdout",
          "text": [
            "epoch 539, loss: 0.4349\n",
            "epoch 540, loss: 0.4347\n",
            "epoch 541, loss: 0.4344\n",
            "epoch 542, loss: 0.4342\n"
          ]
        },
        {
          "output_type": "stream",
          "name": "stderr",
          "text": [
            " 55%|█████▍    | 546/1000 [00:33<00:27, 16.42it/s]"
          ]
        },
        {
          "output_type": "stream",
          "name": "stdout",
          "text": [
            "epoch 543, loss: 0.4339\n",
            "epoch 544, loss: 0.4337\n",
            "epoch 545, loss: 0.4335\n",
            "epoch 546, loss: 0.4332\n"
          ]
        },
        {
          "output_type": "stream",
          "name": "stderr",
          "text": [
            " 55%|█████▌    | 550/1000 [00:33<00:27, 16.44it/s]"
          ]
        },
        {
          "output_type": "stream",
          "name": "stdout",
          "text": [
            "epoch 547, loss: 0.4330\n",
            "epoch 548, loss: 0.4328\n",
            "epoch 549, loss: 0.4325\n",
            "epoch 550, loss: 0.4323\n"
          ]
        },
        {
          "output_type": "stream",
          "name": "stderr",
          "text": [
            " 55%|█████▌    | 554/1000 [00:33<00:27, 16.47it/s]"
          ]
        },
        {
          "output_type": "stream",
          "name": "stdout",
          "text": [
            "epoch 551, loss: 0.4321\n",
            "epoch 552, loss: 0.4318\n",
            "epoch 553, loss: 0.4316\n",
            "epoch 554, loss: 0.4314\n"
          ]
        },
        {
          "output_type": "stream",
          "name": "stderr",
          "text": [
            " 56%|█████▌    | 558/1000 [00:33<00:26, 16.49it/s]"
          ]
        },
        {
          "output_type": "stream",
          "name": "stdout",
          "text": [
            "epoch 555, loss: 0.4311\n",
            "epoch 556, loss: 0.4309\n",
            "epoch 557, loss: 0.4307\n",
            "epoch 558, loss: 0.4304\n"
          ]
        },
        {
          "output_type": "stream",
          "name": "stderr",
          "text": [
            " 56%|█████▌    | 562/1000 [00:34<00:26, 16.49it/s]"
          ]
        },
        {
          "output_type": "stream",
          "name": "stdout",
          "text": [
            "epoch 559, loss: 0.4302\n",
            "epoch 560, loss: 0.4300\n",
            "epoch 561, loss: 0.4297\n",
            "epoch 562, loss: 0.4295\n"
          ]
        },
        {
          "output_type": "stream",
          "name": "stderr",
          "text": [
            " 57%|█████▋    | 566/1000 [00:34<00:26, 16.44it/s]"
          ]
        },
        {
          "output_type": "stream",
          "name": "stdout",
          "text": [
            "epoch 563, loss: 0.4293\n",
            "epoch 564, loss: 0.4291\n",
            "epoch 565, loss: 0.4288\n",
            "epoch 566, loss: 0.4286\n"
          ]
        },
        {
          "output_type": "stream",
          "name": "stderr",
          "text": [
            " 57%|█████▋    | 570/1000 [00:34<00:26, 16.43it/s]"
          ]
        },
        {
          "output_type": "stream",
          "name": "stdout",
          "text": [
            "epoch 567, loss: 0.4284\n",
            "epoch 568, loss: 0.4282\n",
            "epoch 569, loss: 0.4279\n",
            "epoch 570, loss: 0.4277\n"
          ]
        },
        {
          "output_type": "stream",
          "name": "stderr",
          "text": [
            " 57%|█████▋    | 574/1000 [00:34<00:25, 16.45it/s]"
          ]
        },
        {
          "output_type": "stream",
          "name": "stdout",
          "text": [
            "epoch 571, loss: 0.4275\n",
            "epoch 572, loss: 0.4273\n",
            "epoch 573, loss: 0.4271\n",
            "epoch 574, loss: 0.4268\n"
          ]
        },
        {
          "output_type": "stream",
          "name": "stderr",
          "text": [
            " 58%|█████▊    | 578/1000 [00:35<00:25, 16.50it/s]"
          ]
        },
        {
          "output_type": "stream",
          "name": "stdout",
          "text": [
            "epoch 575, loss: 0.4266\n",
            "epoch 576, loss: 0.4264\n",
            "epoch 577, loss: 0.4262\n",
            "epoch 578, loss: 0.4260\n"
          ]
        },
        {
          "output_type": "stream",
          "name": "stderr",
          "text": [
            " 58%|█████▊    | 582/1000 [00:35<00:25, 16.50it/s]"
          ]
        },
        {
          "output_type": "stream",
          "name": "stdout",
          "text": [
            "epoch 579, loss: 0.4257\n",
            "epoch 580, loss: 0.4255\n",
            "epoch 581, loss: 0.4253\n",
            "epoch 582, loss: 0.4251\n"
          ]
        },
        {
          "output_type": "stream",
          "name": "stderr",
          "text": [
            " 59%|█████▊    | 586/1000 [00:35<00:25, 16.46it/s]"
          ]
        },
        {
          "output_type": "stream",
          "name": "stdout",
          "text": [
            "epoch 583, loss: 0.4249\n",
            "epoch 584, loss: 0.4247\n",
            "epoch 585, loss: 0.4244\n",
            "epoch 586, loss: 0.4242\n"
          ]
        },
        {
          "output_type": "stream",
          "name": "stderr",
          "text": [
            " 59%|█████▉    | 590/1000 [00:35<00:24, 16.50it/s]"
          ]
        },
        {
          "output_type": "stream",
          "name": "stdout",
          "text": [
            "epoch 587, loss: 0.4240\n",
            "epoch 588, loss: 0.4238\n",
            "epoch 589, loss: 0.4236\n",
            "epoch 590, loss: 0.4234\n"
          ]
        },
        {
          "output_type": "stream",
          "name": "stderr",
          "text": [
            " 59%|█████▉    | 594/1000 [00:36<00:24, 16.25it/s]"
          ]
        },
        {
          "output_type": "stream",
          "name": "stdout",
          "text": [
            "epoch 591, loss: 0.4232\n",
            "epoch 592, loss: 0.4229\n",
            "epoch 593, loss: 0.4227\n",
            "epoch 594, loss: 0.4225\n"
          ]
        },
        {
          "output_type": "stream",
          "name": "stderr",
          "text": [
            " 60%|█████▉    | 598/1000 [00:36<00:24, 16.48it/s]"
          ]
        },
        {
          "output_type": "stream",
          "name": "stdout",
          "text": [
            "epoch 595, loss: 0.4223\n",
            "epoch 596, loss: 0.4221\n",
            "epoch 597, loss: 0.4219\n",
            "epoch 598, loss: 0.4217\n"
          ]
        },
        {
          "output_type": "stream",
          "name": "stderr",
          "text": [
            " 60%|██████    | 602/1000 [00:36<00:24, 16.46it/s]"
          ]
        },
        {
          "output_type": "stream",
          "name": "stdout",
          "text": [
            "epoch 599, loss: 0.4215\n",
            "epoch 600, loss: 0.4213\n",
            "epoch 601, loss: 0.4211\n",
            "epoch 602, loss: 0.4209\n"
          ]
        },
        {
          "output_type": "stream",
          "name": "stderr",
          "text": [
            " 61%|██████    | 606/1000 [00:36<00:24, 16.40it/s]"
          ]
        },
        {
          "output_type": "stream",
          "name": "stdout",
          "text": [
            "epoch 603, loss: 0.4206\n",
            "epoch 604, loss: 0.4204\n",
            "epoch 605, loss: 0.4202\n",
            "epoch 606, loss: 0.4200\n"
          ]
        },
        {
          "output_type": "stream",
          "name": "stderr",
          "text": [
            " 61%|██████    | 610/1000 [00:37<00:23, 16.52it/s]"
          ]
        },
        {
          "output_type": "stream",
          "name": "stdout",
          "text": [
            "epoch 607, loss: 0.4198\n",
            "epoch 608, loss: 0.4196\n",
            "epoch 609, loss: 0.4194\n",
            "epoch 610, loss: 0.4192\n"
          ]
        },
        {
          "output_type": "stream",
          "name": "stderr",
          "text": [
            " 61%|██████▏   | 614/1000 [00:37<00:23, 16.47it/s]"
          ]
        },
        {
          "output_type": "stream",
          "name": "stdout",
          "text": [
            "epoch 611, loss: 0.4190\n",
            "epoch 612, loss: 0.4188\n",
            "epoch 613, loss: 0.4186\n",
            "epoch 614, loss: 0.4184\n"
          ]
        },
        {
          "output_type": "stream",
          "name": "stderr",
          "text": [
            " 62%|██████▏   | 618/1000 [00:37<00:23, 16.49it/s]"
          ]
        },
        {
          "output_type": "stream",
          "name": "stdout",
          "text": [
            "epoch 615, loss: 0.4182\n",
            "epoch 616, loss: 0.4180\n",
            "epoch 617, loss: 0.4178\n",
            "epoch 618, loss: 0.4176\n"
          ]
        },
        {
          "output_type": "stream",
          "name": "stderr",
          "text": [
            " 62%|██████▏   | 622/1000 [00:37<00:22, 16.46it/s]"
          ]
        },
        {
          "output_type": "stream",
          "name": "stdout",
          "text": [
            "epoch 619, loss: 0.4174\n",
            "epoch 620, loss: 0.4172\n",
            "epoch 621, loss: 0.4170\n",
            "epoch 622, loss: 0.4168\n"
          ]
        },
        {
          "output_type": "stream",
          "name": "stderr",
          "text": [
            " 63%|██████▎   | 626/1000 [00:38<00:22, 16.41it/s]"
          ]
        },
        {
          "output_type": "stream",
          "name": "stdout",
          "text": [
            "epoch 623, loss: 0.4166\n",
            "epoch 624, loss: 0.4164\n",
            "epoch 625, loss: 0.4162\n",
            "epoch 626, loss: 0.4160\n"
          ]
        },
        {
          "output_type": "stream",
          "name": "stderr",
          "text": [
            " 63%|██████▎   | 630/1000 [00:38<00:23, 15.78it/s]"
          ]
        },
        {
          "output_type": "stream",
          "name": "stdout",
          "text": [
            "epoch 627, loss: 0.4158\n",
            "epoch 628, loss: 0.4156\n",
            "epoch 629, loss: 0.4154\n",
            "epoch 630, loss: 0.4152\n"
          ]
        },
        {
          "output_type": "stream",
          "name": "stderr",
          "text": [
            " 63%|██████▎   | 634/1000 [00:38<00:22, 15.98it/s]"
          ]
        },
        {
          "output_type": "stream",
          "name": "stdout",
          "text": [
            "epoch 631, loss: 0.4151\n",
            "epoch 632, loss: 0.4149\n",
            "epoch 633, loss: 0.4147\n",
            "epoch 634, loss: 0.4145\n"
          ]
        },
        {
          "output_type": "stream",
          "name": "stderr",
          "text": [
            " 64%|██████▍   | 638/1000 [00:38<00:22, 16.23it/s]"
          ]
        },
        {
          "output_type": "stream",
          "name": "stdout",
          "text": [
            "epoch 635, loss: 0.4143\n",
            "epoch 636, loss: 0.4141\n",
            "epoch 637, loss: 0.4139\n",
            "epoch 638, loss: 0.4137\n"
          ]
        },
        {
          "output_type": "stream",
          "name": "stderr",
          "text": [
            " 64%|██████▍   | 642/1000 [00:39<00:21, 16.38it/s]"
          ]
        },
        {
          "output_type": "stream",
          "name": "stdout",
          "text": [
            "epoch 639, loss: 0.4135\n",
            "epoch 640, loss: 0.4133\n",
            "epoch 641, loss: 0.4131\n",
            "epoch 642, loss: 0.4129\n"
          ]
        },
        {
          "output_type": "stream",
          "name": "stderr",
          "text": [
            " 65%|██████▍   | 646/1000 [00:39<00:21, 16.38it/s]"
          ]
        },
        {
          "output_type": "stream",
          "name": "stdout",
          "text": [
            "epoch 643, loss: 0.4128\n",
            "epoch 644, loss: 0.4126\n",
            "epoch 645, loss: 0.4124\n",
            "epoch 646, loss: 0.4122\n"
          ]
        },
        {
          "output_type": "stream",
          "name": "stderr",
          "text": [
            " 65%|██████▌   | 650/1000 [00:39<00:21, 16.35it/s]"
          ]
        },
        {
          "output_type": "stream",
          "name": "stdout",
          "text": [
            "epoch 647, loss: 0.4120\n",
            "epoch 648, loss: 0.4118\n",
            "epoch 649, loss: 0.4116\n",
            "epoch 650, loss: 0.4114\n"
          ]
        },
        {
          "output_type": "stream",
          "name": "stderr",
          "text": [
            " 65%|██████▌   | 654/1000 [00:39<00:21, 16.10it/s]"
          ]
        },
        {
          "output_type": "stream",
          "name": "stdout",
          "text": [
            "epoch 651, loss: 0.4113\n",
            "epoch 652, loss: 0.4111\n",
            "epoch 653, loss: 0.4109\n",
            "epoch 654, loss: 0.4107\n"
          ]
        },
        {
          "output_type": "stream",
          "name": "stderr",
          "text": [
            " 66%|██████▌   | 658/1000 [00:40<00:21, 16.02it/s]"
          ]
        },
        {
          "output_type": "stream",
          "name": "stdout",
          "text": [
            "epoch 655, loss: 0.4105\n",
            "epoch 656, loss: 0.4103\n",
            "epoch 657, loss: 0.4101\n",
            "epoch 658, loss: 0.4100\n"
          ]
        },
        {
          "output_type": "stream",
          "name": "stderr",
          "text": [
            " 66%|██████▌   | 662/1000 [00:40<00:20, 16.20it/s]"
          ]
        },
        {
          "output_type": "stream",
          "name": "stdout",
          "text": [
            "epoch 659, loss: 0.4098\n",
            "epoch 660, loss: 0.4096\n",
            "epoch 661, loss: 0.4094\n",
            "epoch 662, loss: 0.4092\n"
          ]
        },
        {
          "output_type": "stream",
          "name": "stderr",
          "text": [
            " 67%|██████▋   | 666/1000 [00:40<00:20, 16.34it/s]"
          ]
        },
        {
          "output_type": "stream",
          "name": "stdout",
          "text": [
            "epoch 663, loss: 0.4091\n",
            "epoch 664, loss: 0.4089\n",
            "epoch 665, loss: 0.4087\n",
            "epoch 666, loss: 0.4085\n"
          ]
        },
        {
          "output_type": "stream",
          "name": "stderr",
          "text": [
            " 67%|██████▋   | 670/1000 [00:40<00:20, 16.41it/s]"
          ]
        },
        {
          "output_type": "stream",
          "name": "stdout",
          "text": [
            "epoch 667, loss: 0.4083\n",
            "epoch 668, loss: 0.4081\n",
            "epoch 669, loss: 0.4080\n",
            "epoch 670, loss: 0.4078\n"
          ]
        },
        {
          "output_type": "stream",
          "name": "stderr",
          "text": [
            " 67%|██████▋   | 674/1000 [00:41<00:19, 16.46it/s]"
          ]
        },
        {
          "output_type": "stream",
          "name": "stdout",
          "text": [
            "epoch 671, loss: 0.4076\n",
            "epoch 672, loss: 0.4074\n",
            "epoch 673, loss: 0.4073\n",
            "epoch 674, loss: 0.4071\n"
          ]
        },
        {
          "output_type": "stream",
          "name": "stderr",
          "text": [
            " 68%|██████▊   | 678/1000 [00:41<00:19, 16.43it/s]"
          ]
        },
        {
          "output_type": "stream",
          "name": "stdout",
          "text": [
            "epoch 675, loss: 0.4069\n",
            "epoch 676, loss: 0.4067\n",
            "epoch 677, loss: 0.4065\n",
            "epoch 678, loss: 0.4064\n"
          ]
        },
        {
          "output_type": "stream",
          "name": "stderr",
          "text": [
            " 68%|██████▊   | 682/1000 [00:41<00:19, 16.45it/s]"
          ]
        },
        {
          "output_type": "stream",
          "name": "stdout",
          "text": [
            "epoch 679, loss: 0.4062\n",
            "epoch 680, loss: 0.4060\n",
            "epoch 681, loss: 0.4058\n",
            "epoch 682, loss: 0.4057\n"
          ]
        },
        {
          "output_type": "stream",
          "name": "stderr",
          "text": [
            " 69%|██████▊   | 686/1000 [00:41<00:19, 16.49it/s]"
          ]
        },
        {
          "output_type": "stream",
          "name": "stdout",
          "text": [
            "epoch 683, loss: 0.4055\n",
            "epoch 684, loss: 0.4053\n",
            "epoch 685, loss: 0.4052\n",
            "epoch 686, loss: 0.4050\n"
          ]
        },
        {
          "output_type": "stream",
          "name": "stderr",
          "text": [
            " 69%|██████▉   | 690/1000 [00:41<00:18, 16.48it/s]"
          ]
        },
        {
          "output_type": "stream",
          "name": "stdout",
          "text": [
            "epoch 687, loss: 0.4048\n",
            "epoch 688, loss: 0.4046\n",
            "epoch 689, loss: 0.4045\n",
            "epoch 690, loss: 0.4043\n"
          ]
        },
        {
          "output_type": "stream",
          "name": "stderr",
          "text": [
            " 69%|██████▉   | 694/1000 [00:42<00:18, 16.43it/s]"
          ]
        },
        {
          "output_type": "stream",
          "name": "stdout",
          "text": [
            "epoch 691, loss: 0.4041\n",
            "epoch 692, loss: 0.4039\n",
            "epoch 693, loss: 0.4038\n",
            "epoch 694, loss: 0.4036\n"
          ]
        },
        {
          "output_type": "stream",
          "name": "stderr",
          "text": [
            " 70%|██████▉   | 698/1000 [00:42<00:18, 16.43it/s]"
          ]
        },
        {
          "output_type": "stream",
          "name": "stdout",
          "text": [
            "epoch 695, loss: 0.4034\n",
            "epoch 696, loss: 0.4033\n",
            "epoch 697, loss: 0.4031\n",
            "epoch 698, loss: 0.4029\n"
          ]
        },
        {
          "output_type": "stream",
          "name": "stderr",
          "text": [
            " 70%|███████   | 702/1000 [00:42<00:18, 16.45it/s]"
          ]
        },
        {
          "output_type": "stream",
          "name": "stdout",
          "text": [
            "epoch 699, loss: 0.4028\n",
            "epoch 700, loss: 0.4026\n",
            "epoch 701, loss: 0.4024\n",
            "epoch 702, loss: 0.4023\n"
          ]
        },
        {
          "output_type": "stream",
          "name": "stderr",
          "text": [
            " 71%|███████   | 706/1000 [00:42<00:17, 16.42it/s]"
          ]
        },
        {
          "output_type": "stream",
          "name": "stdout",
          "text": [
            "epoch 703, loss: 0.4021\n",
            "epoch 704, loss: 0.4019\n",
            "epoch 705, loss: 0.4018\n",
            "epoch 706, loss: 0.4016\n"
          ]
        },
        {
          "output_type": "stream",
          "name": "stderr",
          "text": [
            " 71%|███████   | 710/1000 [00:43<00:17, 16.46it/s]"
          ]
        },
        {
          "output_type": "stream",
          "name": "stdout",
          "text": [
            "epoch 707, loss: 0.4014\n",
            "epoch 708, loss: 0.4013\n",
            "epoch 709, loss: 0.4011\n",
            "epoch 710, loss: 0.4009\n"
          ]
        },
        {
          "output_type": "stream",
          "name": "stderr",
          "text": [
            " 71%|███████▏  | 714/1000 [00:43<00:17, 16.46it/s]"
          ]
        },
        {
          "output_type": "stream",
          "name": "stdout",
          "text": [
            "epoch 711, loss: 0.4008\n",
            "epoch 712, loss: 0.4006\n",
            "epoch 713, loss: 0.4004\n",
            "epoch 714, loss: 0.4003\n"
          ]
        },
        {
          "output_type": "stream",
          "name": "stderr",
          "text": [
            " 72%|███████▏  | 718/1000 [00:43<00:17, 16.39it/s]"
          ]
        },
        {
          "output_type": "stream",
          "name": "stdout",
          "text": [
            "epoch 715, loss: 0.4001\n",
            "epoch 716, loss: 0.3999\n",
            "epoch 717, loss: 0.3998\n",
            "epoch 718, loss: 0.3996\n"
          ]
        },
        {
          "output_type": "stream",
          "name": "stderr",
          "text": [
            " 72%|███████▏  | 722/1000 [00:43<00:17, 15.85it/s]"
          ]
        },
        {
          "output_type": "stream",
          "name": "stdout",
          "text": [
            "epoch 719, loss: 0.3995\n",
            "epoch 720, loss: 0.3993\n",
            "epoch 721, loss: 0.3991\n",
            "epoch 722, loss: 0.3990\n"
          ]
        },
        {
          "output_type": "stream",
          "name": "stderr",
          "text": [
            " 73%|███████▎  | 726/1000 [00:44<00:16, 16.12it/s]"
          ]
        },
        {
          "output_type": "stream",
          "name": "stdout",
          "text": [
            "epoch 723, loss: 0.3988\n",
            "epoch 724, loss: 0.3986\n",
            "epoch 725, loss: 0.3985\n",
            "epoch 726, loss: 0.3983\n"
          ]
        },
        {
          "output_type": "stream",
          "name": "stderr",
          "text": [
            " 73%|███████▎  | 730/1000 [00:44<00:16, 16.25it/s]"
          ]
        },
        {
          "output_type": "stream",
          "name": "stdout",
          "text": [
            "epoch 727, loss: 0.3982\n",
            "epoch 728, loss: 0.3980\n",
            "epoch 729, loss: 0.3978\n",
            "epoch 730, loss: 0.3977\n"
          ]
        },
        {
          "output_type": "stream",
          "name": "stderr",
          "text": [
            " 73%|███████▎  | 734/1000 [00:44<00:16, 16.38it/s]"
          ]
        },
        {
          "output_type": "stream",
          "name": "stdout",
          "text": [
            "epoch 731, loss: 0.3975\n",
            "epoch 732, loss: 0.3974\n",
            "epoch 733, loss: 0.3972\n",
            "epoch 734, loss: 0.3971\n"
          ]
        },
        {
          "output_type": "stream",
          "name": "stderr",
          "text": [
            " 74%|███████▍  | 738/1000 [00:44<00:16, 16.34it/s]"
          ]
        },
        {
          "output_type": "stream",
          "name": "stdout",
          "text": [
            "epoch 735, loss: 0.3969\n",
            "epoch 736, loss: 0.3967\n",
            "epoch 737, loss: 0.3966\n",
            "epoch 738, loss: 0.3964\n"
          ]
        },
        {
          "output_type": "stream",
          "name": "stderr",
          "text": [
            " 74%|███████▍  | 742/1000 [00:45<00:15, 16.27it/s]"
          ]
        },
        {
          "output_type": "stream",
          "name": "stdout",
          "text": [
            "epoch 739, loss: 0.3963\n",
            "epoch 740, loss: 0.3961\n",
            "epoch 741, loss: 0.3960\n",
            "epoch 742, loss: 0.3958\n"
          ]
        },
        {
          "output_type": "stream",
          "name": "stderr",
          "text": [
            " 75%|███████▍  | 746/1000 [00:45<00:15, 15.95it/s]"
          ]
        },
        {
          "output_type": "stream",
          "name": "stdout",
          "text": [
            "epoch 743, loss: 0.3957\n",
            "epoch 744, loss: 0.3955\n",
            "epoch 745, loss: 0.3953\n",
            "epoch 746, loss: 0.3952\n"
          ]
        },
        {
          "output_type": "stream",
          "name": "stderr",
          "text": [
            " 75%|███████▌  | 750/1000 [00:45<00:15, 16.20it/s]"
          ]
        },
        {
          "output_type": "stream",
          "name": "stdout",
          "text": [
            "epoch 747, loss: 0.3950\n",
            "epoch 748, loss: 0.3949\n",
            "epoch 749, loss: 0.3947\n",
            "epoch 750, loss: 0.3946\n"
          ]
        },
        {
          "output_type": "stream",
          "name": "stderr",
          "text": [
            " 75%|███████▌  | 754/1000 [00:45<00:15, 16.26it/s]"
          ]
        },
        {
          "output_type": "stream",
          "name": "stdout",
          "text": [
            "epoch 751, loss: 0.3944\n",
            "epoch 752, loss: 0.3943\n",
            "epoch 753, loss: 0.3941\n",
            "epoch 754, loss: 0.3940\n"
          ]
        },
        {
          "output_type": "stream",
          "name": "stderr",
          "text": [
            " 76%|███████▌  | 758/1000 [00:46<00:14, 16.33it/s]"
          ]
        },
        {
          "output_type": "stream",
          "name": "stdout",
          "text": [
            "epoch 755, loss: 0.3938\n",
            "epoch 756, loss: 0.3937\n",
            "epoch 757, loss: 0.3935\n",
            "epoch 758, loss: 0.3934\n"
          ]
        },
        {
          "output_type": "stream",
          "name": "stderr",
          "text": [
            " 76%|███████▌  | 762/1000 [00:46<00:15, 15.77it/s]"
          ]
        },
        {
          "output_type": "stream",
          "name": "stdout",
          "text": [
            "epoch 759, loss: 0.3932\n",
            "epoch 760, loss: 0.3931\n",
            "epoch 761, loss: 0.3929\n",
            "epoch 762, loss: 0.3928\n"
          ]
        },
        {
          "output_type": "stream",
          "name": "stderr",
          "text": [
            " 77%|███████▋  | 766/1000 [00:46<00:14, 16.08it/s]"
          ]
        },
        {
          "output_type": "stream",
          "name": "stdout",
          "text": [
            "epoch 763, loss: 0.3926\n",
            "epoch 764, loss: 0.3925\n",
            "epoch 765, loss: 0.3923\n",
            "epoch 766, loss: 0.3922\n"
          ]
        },
        {
          "output_type": "stream",
          "name": "stderr",
          "text": [
            " 77%|███████▋  | 770/1000 [00:46<00:14, 16.01it/s]"
          ]
        },
        {
          "output_type": "stream",
          "name": "stdout",
          "text": [
            "epoch 767, loss: 0.3920\n",
            "epoch 768, loss: 0.3919\n",
            "epoch 769, loss: 0.3917\n",
            "epoch 770, loss: 0.3916\n"
          ]
        },
        {
          "output_type": "stream",
          "name": "stderr",
          "text": [
            " 77%|███████▋  | 774/1000 [00:47<00:14, 15.91it/s]"
          ]
        },
        {
          "output_type": "stream",
          "name": "stdout",
          "text": [
            "epoch 771, loss: 0.3914\n",
            "epoch 772, loss: 0.3913\n",
            "epoch 773, loss: 0.3911\n",
            "epoch 774, loss: 0.3910\n"
          ]
        },
        {
          "output_type": "stream",
          "name": "stderr",
          "text": [
            " 78%|███████▊  | 778/1000 [00:47<00:13, 16.10it/s]"
          ]
        },
        {
          "output_type": "stream",
          "name": "stdout",
          "text": [
            "epoch 775, loss: 0.3908\n",
            "epoch 776, loss: 0.3907\n",
            "epoch 777, loss: 0.3906\n",
            "epoch 778, loss: 0.3904\n"
          ]
        },
        {
          "output_type": "stream",
          "name": "stderr",
          "text": [
            " 78%|███████▊  | 782/1000 [00:47<00:13, 16.01it/s]"
          ]
        },
        {
          "output_type": "stream",
          "name": "stdout",
          "text": [
            "epoch 779, loss: 0.3903\n",
            "epoch 780, loss: 0.3901\n",
            "epoch 781, loss: 0.3900\n",
            "epoch 782, loss: 0.3898\n"
          ]
        },
        {
          "output_type": "stream",
          "name": "stderr",
          "text": [
            " 79%|███████▊  | 786/1000 [00:47<00:13, 15.90it/s]"
          ]
        },
        {
          "output_type": "stream",
          "name": "stdout",
          "text": [
            "epoch 783, loss: 0.3897\n",
            "epoch 784, loss: 0.3895\n",
            "epoch 785, loss: 0.3894\n",
            "epoch 786, loss: 0.3893\n"
          ]
        },
        {
          "output_type": "stream",
          "name": "stderr",
          "text": [
            " 79%|███████▉  | 790/1000 [00:48<00:12, 16.22it/s]"
          ]
        },
        {
          "output_type": "stream",
          "name": "stdout",
          "text": [
            "epoch 787, loss: 0.3891\n",
            "epoch 788, loss: 0.3890\n",
            "epoch 789, loss: 0.3888\n",
            "epoch 790, loss: 0.3887\n"
          ]
        },
        {
          "output_type": "stream",
          "name": "stderr",
          "text": [
            " 79%|███████▉  | 794/1000 [00:48<00:12, 16.12it/s]"
          ]
        },
        {
          "output_type": "stream",
          "name": "stdout",
          "text": [
            "epoch 791, loss: 0.3886\n",
            "epoch 792, loss: 0.3884\n",
            "epoch 793, loss: 0.3883\n",
            "epoch 794, loss: 0.3881\n"
          ]
        },
        {
          "output_type": "stream",
          "name": "stderr",
          "text": [
            " 80%|███████▉  | 798/1000 [00:48<00:12, 15.82it/s]"
          ]
        },
        {
          "output_type": "stream",
          "name": "stdout",
          "text": [
            "epoch 795, loss: 0.3880\n",
            "epoch 796, loss: 0.3878\n",
            "epoch 797, loss: 0.3877\n",
            "epoch 798, loss: 0.3876\n"
          ]
        },
        {
          "output_type": "stream",
          "name": "stderr",
          "text": [
            " 80%|████████  | 802/1000 [00:48<00:12, 15.95it/s]"
          ]
        },
        {
          "output_type": "stream",
          "name": "stdout",
          "text": [
            "epoch 799, loss: 0.3874\n",
            "epoch 800, loss: 0.3873\n",
            "epoch 801, loss: 0.3871\n",
            "epoch 802, loss: 0.3870\n"
          ]
        },
        {
          "output_type": "stream",
          "name": "stderr",
          "text": [
            " 81%|████████  | 806/1000 [00:49<00:12, 15.75it/s]"
          ]
        },
        {
          "output_type": "stream",
          "name": "stdout",
          "text": [
            "epoch 803, loss: 0.3869\n",
            "epoch 804, loss: 0.3867\n",
            "epoch 805, loss: 0.3866\n",
            "epoch 806, loss: 0.3865\n"
          ]
        },
        {
          "output_type": "stream",
          "name": "stderr",
          "text": [
            " 81%|████████  | 810/1000 [00:49<00:11, 16.07it/s]"
          ]
        },
        {
          "output_type": "stream",
          "name": "stdout",
          "text": [
            "epoch 807, loss: 0.3863\n",
            "epoch 808, loss: 0.3862\n",
            "epoch 809, loss: 0.3860\n",
            "epoch 810, loss: 0.3859\n"
          ]
        },
        {
          "output_type": "stream",
          "name": "stderr",
          "text": [
            " 81%|████████▏ | 814/1000 [00:49<00:11, 15.69it/s]"
          ]
        },
        {
          "output_type": "stream",
          "name": "stdout",
          "text": [
            "epoch 811, loss: 0.3858\n",
            "epoch 812, loss: 0.3856\n",
            "epoch 813, loss: 0.3855\n",
            "epoch 814, loss: 0.3854\n"
          ]
        },
        {
          "output_type": "stream",
          "name": "stderr",
          "text": [
            " 82%|████████▏ | 818/1000 [00:49<00:11, 15.91it/s]"
          ]
        },
        {
          "output_type": "stream",
          "name": "stdout",
          "text": [
            "epoch 815, loss: 0.3852\n",
            "epoch 816, loss: 0.3851\n",
            "epoch 817, loss: 0.3850\n",
            "epoch 818, loss: 0.3848\n"
          ]
        },
        {
          "output_type": "stream",
          "name": "stderr",
          "text": [
            " 82%|████████▏ | 822/1000 [00:50<00:11, 15.60it/s]"
          ]
        },
        {
          "output_type": "stream",
          "name": "stdout",
          "text": [
            "epoch 819, loss: 0.3847\n",
            "epoch 820, loss: 0.3846\n",
            "epoch 821, loss: 0.3844\n",
            "epoch 822, loss: 0.3843\n"
          ]
        },
        {
          "output_type": "stream",
          "name": "stderr",
          "text": [
            " 83%|████████▎ | 826/1000 [00:50<00:10, 16.03it/s]"
          ]
        },
        {
          "output_type": "stream",
          "name": "stdout",
          "text": [
            "epoch 823, loss: 0.3842\n",
            "epoch 824, loss: 0.3840\n",
            "epoch 825, loss: 0.3839\n",
            "epoch 826, loss: 0.3838\n"
          ]
        },
        {
          "output_type": "stream",
          "name": "stderr",
          "text": [
            " 83%|████████▎ | 830/1000 [00:50<00:10, 16.18it/s]"
          ]
        },
        {
          "output_type": "stream",
          "name": "stdout",
          "text": [
            "epoch 827, loss: 0.3836\n",
            "epoch 828, loss: 0.3835\n",
            "epoch 829, loss: 0.3834\n",
            "epoch 830, loss: 0.3832\n"
          ]
        },
        {
          "output_type": "stream",
          "name": "stderr",
          "text": [
            " 83%|████████▎ | 834/1000 [00:50<00:10, 15.80it/s]"
          ]
        },
        {
          "output_type": "stream",
          "name": "stdout",
          "text": [
            "epoch 831, loss: 0.3831\n",
            "epoch 832, loss: 0.3830\n",
            "epoch 833, loss: 0.3828\n",
            "epoch 834, loss: 0.3827\n"
          ]
        },
        {
          "output_type": "stream",
          "name": "stderr",
          "text": [
            " 84%|████████▍ | 838/1000 [00:51<00:10, 15.97it/s]"
          ]
        },
        {
          "output_type": "stream",
          "name": "stdout",
          "text": [
            "epoch 835, loss: 0.3826\n",
            "epoch 836, loss: 0.3824\n",
            "epoch 837, loss: 0.3823\n",
            "epoch 838, loss: 0.3822\n"
          ]
        },
        {
          "output_type": "stream",
          "name": "stderr",
          "text": [
            " 84%|████████▍ | 842/1000 [00:51<00:10, 15.68it/s]"
          ]
        },
        {
          "output_type": "stream",
          "name": "stdout",
          "text": [
            "epoch 839, loss: 0.3820\n",
            "epoch 840, loss: 0.3819\n",
            "epoch 841, loss: 0.3818\n",
            "epoch 842, loss: 0.3817\n"
          ]
        },
        {
          "output_type": "stream",
          "name": "stderr",
          "text": [
            " 85%|████████▍ | 846/1000 [00:51<00:09, 16.00it/s]"
          ]
        },
        {
          "output_type": "stream",
          "name": "stdout",
          "text": [
            "epoch 843, loss: 0.3815\n",
            "epoch 844, loss: 0.3814\n",
            "epoch 845, loss: 0.3813\n",
            "epoch 846, loss: 0.3811\n"
          ]
        },
        {
          "output_type": "stream",
          "name": "stderr",
          "text": [
            " 85%|████████▌ | 850/1000 [00:51<00:09, 16.18it/s]"
          ]
        },
        {
          "output_type": "stream",
          "name": "stdout",
          "text": [
            "epoch 847, loss: 0.3810\n",
            "epoch 848, loss: 0.3809\n",
            "epoch 849, loss: 0.3807\n",
            "epoch 850, loss: 0.3806\n"
          ]
        },
        {
          "output_type": "stream",
          "name": "stderr",
          "text": [
            " 85%|████████▌ | 854/1000 [00:52<00:09, 16.00it/s]"
          ]
        },
        {
          "output_type": "stream",
          "name": "stdout",
          "text": [
            "epoch 851, loss: 0.3805\n",
            "epoch 852, loss: 0.3804\n",
            "epoch 853, loss: 0.3802\n",
            "epoch 854, loss: 0.3801\n"
          ]
        },
        {
          "output_type": "stream",
          "name": "stderr",
          "text": [
            " 86%|████████▌ | 858/1000 [00:52<00:08, 15.91it/s]"
          ]
        },
        {
          "output_type": "stream",
          "name": "stdout",
          "text": [
            "epoch 855, loss: 0.3800\n",
            "epoch 856, loss: 0.3799\n",
            "epoch 857, loss: 0.3797\n",
            "epoch 858, loss: 0.3796\n"
          ]
        },
        {
          "output_type": "stream",
          "name": "stderr",
          "text": [
            " 86%|████████▌ | 862/1000 [00:52<00:08, 15.69it/s]"
          ]
        },
        {
          "output_type": "stream",
          "name": "stdout",
          "text": [
            "epoch 859, loss: 0.3795\n",
            "epoch 860, loss: 0.3794\n",
            "epoch 861, loss: 0.3792\n",
            "epoch 862, loss: 0.3791\n"
          ]
        },
        {
          "output_type": "stream",
          "name": "stderr",
          "text": [
            " 87%|████████▋ | 866/1000 [00:52<00:08, 15.84it/s]"
          ]
        },
        {
          "output_type": "stream",
          "name": "stdout",
          "text": [
            "epoch 863, loss: 0.3790\n",
            "epoch 864, loss: 0.3789\n",
            "epoch 865, loss: 0.3787\n",
            "epoch 866, loss: 0.3786\n"
          ]
        },
        {
          "output_type": "stream",
          "name": "stderr",
          "text": [
            " 87%|████████▋ | 870/1000 [00:53<00:08, 15.57it/s]"
          ]
        },
        {
          "output_type": "stream",
          "name": "stdout",
          "text": [
            "epoch 867, loss: 0.3785\n",
            "epoch 868, loss: 0.3784\n",
            "epoch 869, loss: 0.3782\n",
            "epoch 870, loss: 0.3781\n"
          ]
        },
        {
          "output_type": "stream",
          "name": "stderr",
          "text": [
            " 87%|████████▋ | 874/1000 [00:53<00:08, 15.60it/s]"
          ]
        },
        {
          "output_type": "stream",
          "name": "stdout",
          "text": [
            "epoch 871, loss: 0.3780\n",
            "epoch 872, loss: 0.3779\n",
            "epoch 873, loss: 0.3777\n",
            "epoch 874, loss: 0.3776\n"
          ]
        },
        {
          "output_type": "stream",
          "name": "stderr",
          "text": [
            " 88%|████████▊ | 878/1000 [00:53<00:07, 15.71it/s]"
          ]
        },
        {
          "output_type": "stream",
          "name": "stdout",
          "text": [
            "epoch 875, loss: 0.3775\n",
            "epoch 876, loss: 0.3774\n",
            "epoch 877, loss: 0.3772\n",
            "epoch 878, loss: 0.3771\n"
          ]
        },
        {
          "output_type": "stream",
          "name": "stderr",
          "text": [
            " 88%|████████▊ | 882/1000 [00:53<00:07, 15.78it/s]"
          ]
        },
        {
          "output_type": "stream",
          "name": "stdout",
          "text": [
            "epoch 879, loss: 0.3770\n",
            "epoch 880, loss: 0.3769\n",
            "epoch 881, loss: 0.3768\n",
            "epoch 882, loss: 0.3766\n"
          ]
        },
        {
          "output_type": "stream",
          "name": "stderr",
          "text": [
            " 89%|████████▊ | 886/1000 [00:54<00:07, 15.82it/s]"
          ]
        },
        {
          "output_type": "stream",
          "name": "stdout",
          "text": [
            "epoch 883, loss: 0.3765\n",
            "epoch 884, loss: 0.3764\n",
            "epoch 885, loss: 0.3763\n",
            "epoch 886, loss: 0.3761\n"
          ]
        },
        {
          "output_type": "stream",
          "name": "stderr",
          "text": [
            " 89%|████████▉ | 890/1000 [00:54<00:06, 16.16it/s]"
          ]
        },
        {
          "output_type": "stream",
          "name": "stdout",
          "text": [
            "epoch 887, loss: 0.3760\n",
            "epoch 888, loss: 0.3759\n",
            "epoch 889, loss: 0.3758\n",
            "epoch 890, loss: 0.3757\n"
          ]
        },
        {
          "output_type": "stream",
          "name": "stderr",
          "text": [
            " 89%|████████▉ | 894/1000 [00:54<00:06, 16.13it/s]"
          ]
        },
        {
          "output_type": "stream",
          "name": "stdout",
          "text": [
            "epoch 891, loss: 0.3755\n",
            "epoch 892, loss: 0.3754\n",
            "epoch 893, loss: 0.3753\n",
            "epoch 894, loss: 0.3752\n"
          ]
        },
        {
          "output_type": "stream",
          "name": "stderr",
          "text": [
            " 90%|████████▉ | 898/1000 [00:54<00:06, 15.79it/s]"
          ]
        },
        {
          "output_type": "stream",
          "name": "stdout",
          "text": [
            "epoch 895, loss: 0.3751\n",
            "epoch 896, loss: 0.3749\n",
            "epoch 897, loss: 0.3748\n",
            "epoch 898, loss: 0.3747\n"
          ]
        },
        {
          "output_type": "stream",
          "name": "stderr",
          "text": [
            " 90%|█████████ | 902/1000 [00:55<00:06, 15.67it/s]"
          ]
        },
        {
          "output_type": "stream",
          "name": "stdout",
          "text": [
            "epoch 899, loss: 0.3746\n",
            "epoch 900, loss: 0.3745\n",
            "epoch 901, loss: 0.3744\n",
            "epoch 902, loss: 0.3742\n"
          ]
        },
        {
          "output_type": "stream",
          "name": "stderr",
          "text": [
            " 91%|█████████ | 906/1000 [00:55<00:05, 15.72it/s]"
          ]
        },
        {
          "output_type": "stream",
          "name": "stdout",
          "text": [
            "epoch 903, loss: 0.3741\n",
            "epoch 904, loss: 0.3740\n",
            "epoch 905, loss: 0.3739\n",
            "epoch 906, loss: 0.3738\n"
          ]
        },
        {
          "output_type": "stream",
          "name": "stderr",
          "text": [
            " 91%|█████████ | 910/1000 [00:55<00:05, 15.72it/s]"
          ]
        },
        {
          "output_type": "stream",
          "name": "stdout",
          "text": [
            "epoch 907, loss: 0.3736\n",
            "epoch 908, loss: 0.3735\n",
            "epoch 909, loss: 0.3734\n",
            "epoch 910, loss: 0.3733\n"
          ]
        },
        {
          "output_type": "stream",
          "name": "stderr",
          "text": [
            " 91%|█████████▏| 914/1000 [00:55<00:05, 15.96it/s]"
          ]
        },
        {
          "output_type": "stream",
          "name": "stdout",
          "text": [
            "epoch 911, loss: 0.3732\n",
            "epoch 912, loss: 0.3731\n",
            "epoch 913, loss: 0.3729\n",
            "epoch 914, loss: 0.3728\n"
          ]
        },
        {
          "output_type": "stream",
          "name": "stderr",
          "text": [
            " 92%|█████████▏| 918/1000 [00:56<00:05, 15.77it/s]"
          ]
        },
        {
          "output_type": "stream",
          "name": "stdout",
          "text": [
            "epoch 915, loss: 0.3727\n",
            "epoch 916, loss: 0.3726\n",
            "epoch 917, loss: 0.3725\n",
            "epoch 918, loss: 0.3724\n"
          ]
        },
        {
          "output_type": "stream",
          "name": "stderr",
          "text": [
            " 92%|█████████▏| 922/1000 [00:56<00:04, 15.96it/s]"
          ]
        },
        {
          "output_type": "stream",
          "name": "stdout",
          "text": [
            "epoch 919, loss: 0.3723\n",
            "epoch 920, loss: 0.3721\n",
            "epoch 921, loss: 0.3720\n",
            "epoch 922, loss: 0.3719\n"
          ]
        },
        {
          "output_type": "stream",
          "name": "stderr",
          "text": [
            " 93%|█████████▎| 926/1000 [00:56<00:04, 16.06it/s]"
          ]
        },
        {
          "output_type": "stream",
          "name": "stdout",
          "text": [
            "epoch 923, loss: 0.3718\n",
            "epoch 924, loss: 0.3717\n",
            "epoch 925, loss: 0.3716\n",
            "epoch 926, loss: 0.3714\n"
          ]
        },
        {
          "output_type": "stream",
          "name": "stderr",
          "text": [
            " 93%|█████████▎| 930/1000 [00:56<00:04, 15.81it/s]"
          ]
        },
        {
          "output_type": "stream",
          "name": "stdout",
          "text": [
            "epoch 927, loss: 0.3713\n",
            "epoch 928, loss: 0.3712\n",
            "epoch 929, loss: 0.3711\n",
            "epoch 930, loss: 0.3710\n"
          ]
        },
        {
          "output_type": "stream",
          "name": "stderr",
          "text": [
            " 93%|█████████▎| 934/1000 [00:57<00:04, 16.07it/s]"
          ]
        },
        {
          "output_type": "stream",
          "name": "stdout",
          "text": [
            "epoch 931, loss: 0.3709\n",
            "epoch 932, loss: 0.3708\n",
            "epoch 933, loss: 0.3707\n",
            "epoch 934, loss: 0.3705\n"
          ]
        },
        {
          "output_type": "stream",
          "name": "stderr",
          "text": [
            " 94%|█████████▍| 938/1000 [00:57<00:03, 15.66it/s]"
          ]
        },
        {
          "output_type": "stream",
          "name": "stdout",
          "text": [
            "epoch 935, loss: 0.3704\n",
            "epoch 936, loss: 0.3703\n",
            "epoch 937, loss: 0.3702\n",
            "epoch 938, loss: 0.3701\n"
          ]
        },
        {
          "output_type": "stream",
          "name": "stderr",
          "text": [
            " 94%|█████████▍| 942/1000 [00:57<00:03, 16.04it/s]"
          ]
        },
        {
          "output_type": "stream",
          "name": "stdout",
          "text": [
            "epoch 939, loss: 0.3700\n",
            "epoch 940, loss: 0.3699\n",
            "epoch 941, loss: 0.3698\n",
            "epoch 942, loss: 0.3696\n"
          ]
        },
        {
          "output_type": "stream",
          "name": "stderr",
          "text": [
            " 95%|█████████▍| 946/1000 [00:57<00:03, 16.11it/s]"
          ]
        },
        {
          "output_type": "stream",
          "name": "stdout",
          "text": [
            "epoch 943, loss: 0.3695\n",
            "epoch 944, loss: 0.3694\n",
            "epoch 945, loss: 0.3693\n",
            "epoch 946, loss: 0.3692\n"
          ]
        },
        {
          "output_type": "stream",
          "name": "stderr",
          "text": [
            " 95%|█████████▌| 950/1000 [00:58<00:03, 15.76it/s]"
          ]
        },
        {
          "output_type": "stream",
          "name": "stdout",
          "text": [
            "epoch 947, loss: 0.3691\n",
            "epoch 948, loss: 0.3690\n",
            "epoch 949, loss: 0.3689\n",
            "epoch 950, loss: 0.3687\n"
          ]
        },
        {
          "output_type": "stream",
          "name": "stderr",
          "text": [
            " 95%|█████████▌| 954/1000 [00:58<00:02, 16.03it/s]"
          ]
        },
        {
          "output_type": "stream",
          "name": "stdout",
          "text": [
            "epoch 951, loss: 0.3686\n",
            "epoch 952, loss: 0.3685\n",
            "epoch 953, loss: 0.3684\n",
            "epoch 954, loss: 0.3683\n"
          ]
        },
        {
          "output_type": "stream",
          "name": "stderr",
          "text": [
            " 96%|█████████▌| 958/1000 [00:58<00:02, 15.66it/s]"
          ]
        },
        {
          "output_type": "stream",
          "name": "stdout",
          "text": [
            "epoch 955, loss: 0.3682\n",
            "epoch 956, loss: 0.3681\n",
            "epoch 957, loss: 0.3680\n",
            "epoch 958, loss: 0.3679\n"
          ]
        },
        {
          "output_type": "stream",
          "name": "stderr",
          "text": [
            " 96%|█████████▌| 962/1000 [00:58<00:02, 16.04it/s]"
          ]
        },
        {
          "output_type": "stream",
          "name": "stdout",
          "text": [
            "epoch 959, loss: 0.3678\n",
            "epoch 960, loss: 0.3677\n",
            "epoch 961, loss: 0.3675\n",
            "epoch 962, loss: 0.3674\n"
          ]
        },
        {
          "output_type": "stream",
          "name": "stderr",
          "text": [
            " 97%|█████████▋| 966/1000 [00:59<00:02, 16.13it/s]"
          ]
        },
        {
          "output_type": "stream",
          "name": "stdout",
          "text": [
            "epoch 963, loss: 0.3673\n",
            "epoch 964, loss: 0.3672\n",
            "epoch 965, loss: 0.3671\n",
            "epoch 966, loss: 0.3670\n"
          ]
        },
        {
          "output_type": "stream",
          "name": "stderr",
          "text": [
            " 97%|█████████▋| 970/1000 [00:59<00:01, 15.79it/s]"
          ]
        },
        {
          "output_type": "stream",
          "name": "stdout",
          "text": [
            "epoch 967, loss: 0.3669\n",
            "epoch 968, loss: 0.3668\n",
            "epoch 969, loss: 0.3667\n",
            "epoch 970, loss: 0.3666\n"
          ]
        },
        {
          "output_type": "stream",
          "name": "stderr",
          "text": [
            " 97%|█████████▋| 974/1000 [00:59<00:01, 16.01it/s]"
          ]
        },
        {
          "output_type": "stream",
          "name": "stdout",
          "text": [
            "epoch 971, loss: 0.3665\n",
            "epoch 972, loss: 0.3663\n",
            "epoch 973, loss: 0.3662\n",
            "epoch 974, loss: 0.3661\n"
          ]
        },
        {
          "output_type": "stream",
          "name": "stderr",
          "text": [
            " 98%|█████████▊| 978/1000 [00:59<00:01, 15.98it/s]"
          ]
        },
        {
          "output_type": "stream",
          "name": "stdout",
          "text": [
            "epoch 975, loss: 0.3660\n",
            "epoch 976, loss: 0.3659\n",
            "epoch 977, loss: 0.3658\n",
            "epoch 978, loss: 0.3657\n"
          ]
        },
        {
          "output_type": "stream",
          "name": "stderr",
          "text": [
            " 98%|█████████▊| 982/1000 [01:00<00:01, 15.88it/s]"
          ]
        },
        {
          "output_type": "stream",
          "name": "stdout",
          "text": [
            "epoch 979, loss: 0.3656\n",
            "epoch 980, loss: 0.3655\n",
            "epoch 981, loss: 0.3654\n",
            "epoch 982, loss: 0.3653\n"
          ]
        },
        {
          "output_type": "stream",
          "name": "stderr",
          "text": [
            " 99%|█████████▊| 986/1000 [01:00<00:00, 16.17it/s]"
          ]
        },
        {
          "output_type": "stream",
          "name": "stdout",
          "text": [
            "epoch 983, loss: 0.3652\n",
            "epoch 984, loss: 0.3651\n",
            "epoch 985, loss: 0.3650\n",
            "epoch 986, loss: 0.3649\n"
          ]
        },
        {
          "output_type": "stream",
          "name": "stderr",
          "text": [
            " 99%|█████████▉| 990/1000 [01:00<00:00, 16.30it/s]"
          ]
        },
        {
          "output_type": "stream",
          "name": "stdout",
          "text": [
            "epoch 987, loss: 0.3647\n",
            "epoch 988, loss: 0.3646\n",
            "epoch 989, loss: 0.3645\n",
            "epoch 990, loss: 0.3644\n"
          ]
        },
        {
          "output_type": "stream",
          "name": "stderr",
          "text": [
            " 99%|█████████▉| 994/1000 [01:00<00:00, 16.38it/s]"
          ]
        },
        {
          "output_type": "stream",
          "name": "stdout",
          "text": [
            "epoch 991, loss: 0.3643\n",
            "epoch 992, loss: 0.3642\n",
            "epoch 993, loss: 0.3641\n",
            "epoch 994, loss: 0.3640\n"
          ]
        },
        {
          "output_type": "stream",
          "name": "stderr",
          "text": [
            "100%|█████████▉| 998/1000 [01:01<00:00, 16.13it/s]"
          ]
        },
        {
          "output_type": "stream",
          "name": "stdout",
          "text": [
            "epoch 995, loss: 0.3639\n",
            "epoch 996, loss: 0.3638\n",
            "epoch 997, loss: 0.3637\n",
            "epoch 998, loss: 0.3636\n"
          ]
        },
        {
          "output_type": "stream",
          "name": "stderr",
          "text": [
            "100%|██████████| 1000/1000 [01:01<00:00, 16.29it/s]\n"
          ]
        },
        {
          "output_type": "stream",
          "name": "stdout",
          "text": [
            "epoch 999, loss: 0.3635\n",
            "training layer 1 ...\n"
          ]
        },
        {
          "output_type": "stream",
          "name": "stderr",
          "text": [
            "  0%|          | 2/1000 [00:00<00:54, 18.25it/s]"
          ]
        },
        {
          "output_type": "stream",
          "name": "stdout",
          "text": [
            "epoch 0, loss: 1.1267\n",
            "epoch 1, loss: 1.0972\n",
            "epoch 2, loss: 1.0282\n"
          ]
        },
        {
          "output_type": "stream",
          "name": "stderr",
          "text": [
            "\r  0%|          | 5/1000 [00:00<00:47, 21.05it/s]"
          ]
        },
        {
          "output_type": "stream",
          "name": "stdout",
          "text": [
            "epoch 3, loss: 0.9117\n",
            "epoch 4, loss: 0.7639\n"
          ]
        },
        {
          "output_type": "stream",
          "name": "stderr",
          "text": [
            "\r  1%|          | 8/1000 [00:00<00:47, 20.70it/s]"
          ]
        },
        {
          "output_type": "stream",
          "name": "stdout",
          "text": [
            "epoch 5, loss: 0.6317\n",
            "epoch 6, loss: 0.5988\n",
            "epoch 7, loss: 0.6762\n",
            "epoch 8, loss: 0.7225\n",
            "epoch 9, loss: 0.6959\n"
          ]
        },
        {
          "output_type": "stream",
          "name": "stderr",
          "text": [
            "\r  1%|          | 11/1000 [00:00<00:44, 22.16it/s]"
          ]
        },
        {
          "output_type": "stream",
          "name": "stdout",
          "text": [
            "epoch 10, loss: 0.6364\n",
            "epoch 11, loss: 0.5881\n",
            "epoch 12, loss: 0.5739\n"
          ]
        },
        {
          "output_type": "stream",
          "name": "stderr",
          "text": [
            "\r  1%|▏         | 14/1000 [00:00<00:43, 22.86it/s]"
          ]
        },
        {
          "output_type": "stream",
          "name": "stdout",
          "text": [
            "epoch 13, loss: 0.5883\n",
            "epoch 14, loss: 0.6111\n"
          ]
        },
        {
          "output_type": "stream",
          "name": "stderr",
          "text": [
            "\r  2%|▏         | 17/1000 [00:00<00:41, 23.43it/s]"
          ]
        },
        {
          "output_type": "stream",
          "name": "stdout",
          "text": [
            "epoch 15, loss: 0.6265\n",
            "epoch 16, loss: 0.6287\n",
            "epoch 17, loss: 0.6189\n"
          ]
        },
        {
          "output_type": "stream",
          "name": "stderr",
          "text": [
            "\r  2%|▏         | 20/1000 [00:00<00:41, 23.81it/s]"
          ]
        },
        {
          "output_type": "stream",
          "name": "stdout",
          "text": [
            "epoch 18, loss: 0.6021\n",
            "epoch 19, loss: 0.5855\n"
          ]
        },
        {
          "output_type": "stream",
          "name": "stderr",
          "text": [
            "\r  2%|▏         | 23/1000 [00:01<00:40, 24.04it/s]"
          ]
        },
        {
          "output_type": "stream",
          "name": "stdout",
          "text": [
            "epoch 20, loss: 0.5758\n",
            "epoch 21, loss: 0.5762\n",
            "epoch 22, loss: 0.5838\n",
            "epoch 23, loss: 0.5911\n",
            "epoch 24, loss: 0.5919\n"
          ]
        },
        {
          "output_type": "stream",
          "name": "stderr",
          "text": [
            "\r  3%|▎         | 26/1000 [00:01<00:40, 24.12it/s]"
          ]
        },
        {
          "output_type": "stream",
          "name": "stdout",
          "text": [
            "epoch 25, loss: 0.5853\n",
            "epoch 26, loss: 0.5755\n",
            "epoch 27, loss: 0.5679\n"
          ]
        },
        {
          "output_type": "stream",
          "name": "stderr",
          "text": [
            "\r  3%|▎         | 29/1000 [00:01<00:40, 23.82it/s]"
          ]
        },
        {
          "output_type": "stream",
          "name": "stdout",
          "text": [
            "epoch 28, loss: 0.5658\n",
            "epoch 29, loss: 0.5685\n"
          ]
        },
        {
          "output_type": "stream",
          "name": "stderr",
          "text": [
            "\r  3%|▎         | 32/1000 [00:01<00:40, 23.85it/s]"
          ]
        },
        {
          "output_type": "stream",
          "name": "stdout",
          "text": [
            "epoch 30, loss: 0.5727\n",
            "epoch 31, loss: 0.5752\n",
            "epoch 32, loss: 0.5746\n"
          ]
        },
        {
          "output_type": "stream",
          "name": "stderr",
          "text": [
            "\r  4%|▎         | 35/1000 [00:01<00:40, 23.88it/s]"
          ]
        },
        {
          "output_type": "stream",
          "name": "stdout",
          "text": [
            "epoch 33, loss: 0.5712\n",
            "epoch 34, loss: 0.5669\n"
          ]
        },
        {
          "output_type": "stream",
          "name": "stderr",
          "text": [
            "\r  4%|▍         | 38/1000 [00:01<00:40, 23.97it/s]"
          ]
        },
        {
          "output_type": "stream",
          "name": "stdout",
          "text": [
            "epoch 35, loss: 0.5639\n",
            "epoch 36, loss: 0.5631\n",
            "epoch 37, loss: 0.5642\n",
            "epoch 38, loss: 0.5654\n",
            "epoch 39, loss: 0.5653\n"
          ]
        },
        {
          "output_type": "stream",
          "name": "stderr",
          "text": [
            "\r  4%|▍         | 41/1000 [00:01<00:39, 24.05it/s]"
          ]
        },
        {
          "output_type": "stream",
          "name": "stdout",
          "text": [
            "epoch 40, loss: 0.5634\n",
            "epoch 41, loss: 0.5609\n",
            "epoch 42, loss: 0.5591\n"
          ]
        },
        {
          "output_type": "stream",
          "name": "stderr",
          "text": [
            "\r  4%|▍         | 44/1000 [00:01<00:39, 24.00it/s]"
          ]
        },
        {
          "output_type": "stream",
          "name": "stdout",
          "text": [
            "epoch 43, loss: 0.5585\n",
            "epoch 44, loss: 0.5590\n"
          ]
        },
        {
          "output_type": "stream",
          "name": "stderr",
          "text": [
            "\r  5%|▍         | 47/1000 [00:02<00:39, 24.10it/s]"
          ]
        },
        {
          "output_type": "stream",
          "name": "stdout",
          "text": [
            "epoch 45, loss: 0.5595\n",
            "epoch 46, loss: 0.5594\n",
            "epoch 47, loss: 0.5585\n"
          ]
        },
        {
          "output_type": "stream",
          "name": "stderr",
          "text": [
            "\r  5%|▌         | 50/1000 [00:02<00:39, 24.05it/s]"
          ]
        },
        {
          "output_type": "stream",
          "name": "stdout",
          "text": [
            "epoch 48, loss: 0.5570\n",
            "epoch 49, loss: 0.5557\n"
          ]
        },
        {
          "output_type": "stream",
          "name": "stderr",
          "text": [
            "\r  5%|▌         | 53/1000 [00:02<00:39, 24.00it/s]"
          ]
        },
        {
          "output_type": "stream",
          "name": "stdout",
          "text": [
            "epoch 50, loss: 0.5550\n",
            "epoch 51, loss: 0.5547\n",
            "epoch 52, loss: 0.5546\n",
            "epoch 53, loss: 0.5542\n",
            "epoch 54, loss: 0.5533\n"
          ]
        },
        {
          "output_type": "stream",
          "name": "stderr",
          "text": [
            "\r  6%|▌         | 56/1000 [00:02<00:39, 23.93it/s]"
          ]
        },
        {
          "output_type": "stream",
          "name": "stdout",
          "text": [
            "epoch 55, loss: 0.5522\n",
            "epoch 56, loss: 0.5513\n",
            "epoch 57, loss: 0.5507\n"
          ]
        },
        {
          "output_type": "stream",
          "name": "stderr",
          "text": [
            "\r  6%|▌         | 59/1000 [00:02<00:39, 23.96it/s]"
          ]
        },
        {
          "output_type": "stream",
          "name": "stdout",
          "text": [
            "epoch 58, loss: 0.5504\n",
            "epoch 59, loss: 0.5500\n"
          ]
        },
        {
          "output_type": "stream",
          "name": "stderr",
          "text": [
            "\r  6%|▌         | 62/1000 [00:02<00:38, 24.21it/s]"
          ]
        },
        {
          "output_type": "stream",
          "name": "stdout",
          "text": [
            "epoch 60, loss: 0.5494\n",
            "epoch 61, loss: 0.5485\n",
            "epoch 62, loss: 0.5476\n"
          ]
        },
        {
          "output_type": "stream",
          "name": "stderr",
          "text": [
            "\r  6%|▋         | 65/1000 [00:02<00:38, 24.21it/s]"
          ]
        },
        {
          "output_type": "stream",
          "name": "stdout",
          "text": [
            "epoch 63, loss: 0.5468\n",
            "epoch 64, loss: 0.5461\n"
          ]
        },
        {
          "output_type": "stream",
          "name": "stderr",
          "text": [
            "\r  7%|▋         | 68/1000 [00:02<00:38, 24.15it/s]"
          ]
        },
        {
          "output_type": "stream",
          "name": "stdout",
          "text": [
            "epoch 65, loss: 0.5456\n",
            "epoch 66, loss: 0.5449\n",
            "epoch 67, loss: 0.5441\n",
            "epoch 68, loss: 0.5432\n",
            "epoch 69, loss: 0.5424\n"
          ]
        },
        {
          "output_type": "stream",
          "name": "stderr",
          "text": [
            "\r  7%|▋         | 71/1000 [00:02<00:38, 24.10it/s]"
          ]
        },
        {
          "output_type": "stream",
          "name": "stdout",
          "text": [
            "epoch 70, loss: 0.5416\n",
            "epoch 71, loss: 0.5408\n",
            "epoch 72, loss: 0.5401\n"
          ]
        },
        {
          "output_type": "stream",
          "name": "stderr",
          "text": [
            "\r  7%|▋         | 74/1000 [00:03<00:38, 24.06it/s]"
          ]
        },
        {
          "output_type": "stream",
          "name": "stdout",
          "text": [
            "epoch 73, loss: 0.5392\n",
            "epoch 74, loss: 0.5383\n"
          ]
        },
        {
          "output_type": "stream",
          "name": "stderr",
          "text": [
            "\r  8%|▊         | 77/1000 [00:03<00:38, 24.05it/s]"
          ]
        },
        {
          "output_type": "stream",
          "name": "stdout",
          "text": [
            "epoch 75, loss: 0.5373\n",
            "epoch 76, loss: 0.5364\n",
            "epoch 77, loss: 0.5355\n"
          ]
        },
        {
          "output_type": "stream",
          "name": "stderr",
          "text": [
            "\r  8%|▊         | 80/1000 [00:03<00:38, 24.05it/s]"
          ]
        },
        {
          "output_type": "stream",
          "name": "stdout",
          "text": [
            "epoch 78, loss: 0.5346\n",
            "epoch 79, loss: 0.5337\n"
          ]
        },
        {
          "output_type": "stream",
          "name": "stderr",
          "text": [
            "\r  8%|▊         | 83/1000 [00:03<00:38, 24.10it/s]"
          ]
        },
        {
          "output_type": "stream",
          "name": "stdout",
          "text": [
            "epoch 80, loss: 0.5327\n",
            "epoch 81, loss: 0.5316\n",
            "epoch 82, loss: 0.5306\n",
            "epoch 83, loss: 0.5295\n",
            "epoch 84, loss: 0.5285\n"
          ]
        },
        {
          "output_type": "stream",
          "name": "stderr",
          "text": [
            "\r  9%|▊         | 86/1000 [00:03<00:37, 24.17it/s]"
          ]
        },
        {
          "output_type": "stream",
          "name": "stdout",
          "text": [
            "epoch 85, loss: 0.5274\n",
            "epoch 86, loss: 0.5263\n",
            "epoch 87, loss: 0.5252\n"
          ]
        },
        {
          "output_type": "stream",
          "name": "stderr",
          "text": [
            "\r  9%|▉         | 89/1000 [00:03<00:37, 24.22it/s]"
          ]
        },
        {
          "output_type": "stream",
          "name": "stdout",
          "text": [
            "epoch 88, loss: 0.5241\n",
            "epoch 89, loss: 0.5229\n"
          ]
        },
        {
          "output_type": "stream",
          "name": "stderr",
          "text": [
            "\r  9%|▉         | 92/1000 [00:03<00:37, 24.08it/s]"
          ]
        },
        {
          "output_type": "stream",
          "name": "stdout",
          "text": [
            "epoch 90, loss: 0.5218\n",
            "epoch 91, loss: 0.5207\n",
            "epoch 92, loss: 0.5195\n"
          ]
        },
        {
          "output_type": "stream",
          "name": "stderr",
          "text": [
            "\r 10%|▉         | 95/1000 [00:03<00:37, 24.06it/s]"
          ]
        },
        {
          "output_type": "stream",
          "name": "stdout",
          "text": [
            "epoch 93, loss: 0.5183\n",
            "epoch 94, loss: 0.5171\n"
          ]
        },
        {
          "output_type": "stream",
          "name": "stderr",
          "text": [
            "\r 10%|▉         | 98/1000 [00:04<00:37, 24.15it/s]"
          ]
        },
        {
          "output_type": "stream",
          "name": "stdout",
          "text": [
            "epoch 95, loss: 0.5159\n",
            "epoch 96, loss: 0.5146\n",
            "epoch 97, loss: 0.5134\n",
            "epoch 98, loss: 0.5122\n",
            "epoch 99, loss: 0.5109\n"
          ]
        },
        {
          "output_type": "stream",
          "name": "stderr",
          "text": [
            "\r 10%|█         | 101/1000 [00:04<00:37, 24.13it/s]"
          ]
        },
        {
          "output_type": "stream",
          "name": "stdout",
          "text": [
            "epoch 100, loss: 0.5097\n",
            "epoch 101, loss: 0.5084\n",
            "epoch 102, loss: 0.5072\n"
          ]
        },
        {
          "output_type": "stream",
          "name": "stderr",
          "text": [
            "\r 10%|█         | 104/1000 [00:04<00:37, 23.79it/s]"
          ]
        },
        {
          "output_type": "stream",
          "name": "stdout",
          "text": [
            "epoch 103, loss: 0.5059\n",
            "epoch 104, loss: 0.5047\n"
          ]
        },
        {
          "output_type": "stream",
          "name": "stderr",
          "text": [
            "\r 11%|█         | 107/1000 [00:04<00:37, 24.01it/s]"
          ]
        },
        {
          "output_type": "stream",
          "name": "stdout",
          "text": [
            "epoch 105, loss: 0.5034\n",
            "epoch 106, loss: 0.5022\n",
            "epoch 107, loss: 0.5009\n"
          ]
        },
        {
          "output_type": "stream",
          "name": "stderr",
          "text": [
            "\r 11%|█         | 110/1000 [00:04<00:37, 23.95it/s]"
          ]
        },
        {
          "output_type": "stream",
          "name": "stdout",
          "text": [
            "epoch 108, loss: 0.4996\n",
            "epoch 109, loss: 0.4984\n"
          ]
        },
        {
          "output_type": "stream",
          "name": "stderr",
          "text": [
            "\r 11%|█▏        | 113/1000 [00:04<00:37, 23.97it/s]"
          ]
        },
        {
          "output_type": "stream",
          "name": "stdout",
          "text": [
            "epoch 110, loss: 0.4971\n",
            "epoch 111, loss: 0.4959\n",
            "epoch 112, loss: 0.4946\n",
            "epoch 113, loss: 0.4934\n",
            "epoch 114, loss: 0.4921\n"
          ]
        },
        {
          "output_type": "stream",
          "name": "stderr",
          "text": [
            "\r 12%|█▏        | 116/1000 [00:04<00:36, 24.02it/s]"
          ]
        },
        {
          "output_type": "stream",
          "name": "stdout",
          "text": [
            "epoch 115, loss: 0.4909\n",
            "epoch 116, loss: 0.4897\n",
            "epoch 117, loss: 0.4884\n"
          ]
        },
        {
          "output_type": "stream",
          "name": "stderr",
          "text": [
            "\r 12%|█▏        | 119/1000 [00:04<00:36, 23.99it/s]"
          ]
        },
        {
          "output_type": "stream",
          "name": "stdout",
          "text": [
            "epoch 118, loss: 0.4872\n",
            "epoch 119, loss: 0.4860\n"
          ]
        },
        {
          "output_type": "stream",
          "name": "stderr",
          "text": [
            "\r 12%|█▏        | 122/1000 [00:05<00:36, 24.03it/s]"
          ]
        },
        {
          "output_type": "stream",
          "name": "stdout",
          "text": [
            "epoch 120, loss: 0.4848\n",
            "epoch 121, loss: 0.4836\n",
            "epoch 122, loss: 0.4825\n"
          ]
        },
        {
          "output_type": "stream",
          "name": "stderr",
          "text": [
            "\r 12%|█▎        | 125/1000 [00:05<00:36, 24.11it/s]"
          ]
        },
        {
          "output_type": "stream",
          "name": "stdout",
          "text": [
            "epoch 123, loss: 0.4813\n",
            "epoch 124, loss: 0.4801\n"
          ]
        },
        {
          "output_type": "stream",
          "name": "stderr",
          "text": [
            "\r 13%|█▎        | 128/1000 [00:05<00:36, 24.18it/s]"
          ]
        },
        {
          "output_type": "stream",
          "name": "stdout",
          "text": [
            "epoch 125, loss: 0.4790\n",
            "epoch 126, loss: 0.4778\n",
            "epoch 127, loss: 0.4767\n",
            "epoch 128, loss: 0.4756\n",
            "epoch 129, loss: 0.4745\n"
          ]
        },
        {
          "output_type": "stream",
          "name": "stderr",
          "text": [
            "\r 13%|█▎        | 131/1000 [00:05<00:36, 23.98it/s]"
          ]
        },
        {
          "output_type": "stream",
          "name": "stdout",
          "text": [
            "epoch 130, loss: 0.4734\n",
            "epoch 131, loss: 0.4723\n",
            "epoch 132, loss: 0.4712\n"
          ]
        },
        {
          "output_type": "stream",
          "name": "stderr",
          "text": [
            "\r 13%|█▎        | 134/1000 [00:05<00:36, 23.99it/s]"
          ]
        },
        {
          "output_type": "stream",
          "name": "stdout",
          "text": [
            "epoch 133, loss: 0.4701\n",
            "epoch 134, loss: 0.4691\n"
          ]
        },
        {
          "output_type": "stream",
          "name": "stderr",
          "text": [
            "\r 14%|█▎        | 137/1000 [00:05<00:36, 23.84it/s]"
          ]
        },
        {
          "output_type": "stream",
          "name": "stdout",
          "text": [
            "epoch 135, loss: 0.4680\n",
            "epoch 136, loss: 0.4670\n",
            "epoch 137, loss: 0.4660\n"
          ]
        },
        {
          "output_type": "stream",
          "name": "stderr",
          "text": [
            "\r 14%|█▍        | 140/1000 [00:05<00:36, 23.76it/s]"
          ]
        },
        {
          "output_type": "stream",
          "name": "stdout",
          "text": [
            "epoch 138, loss: 0.4650\n",
            "epoch 139, loss: 0.4640\n"
          ]
        },
        {
          "output_type": "stream",
          "name": "stderr",
          "text": [
            "\r 14%|█▍        | 143/1000 [00:05<00:35, 23.99it/s]"
          ]
        },
        {
          "output_type": "stream",
          "name": "stdout",
          "text": [
            "epoch 140, loss: 0.4630\n",
            "epoch 141, loss: 0.4620\n",
            "epoch 142, loss: 0.4610\n",
            "epoch 143, loss: 0.4601\n",
            "epoch 144, loss: 0.4591\n"
          ]
        },
        {
          "output_type": "stream",
          "name": "stderr",
          "text": [
            "\r 15%|█▍        | 146/1000 [00:06<00:35, 23.74it/s]"
          ]
        },
        {
          "output_type": "stream",
          "name": "stdout",
          "text": [
            "epoch 145, loss: 0.4582\n",
            "epoch 146, loss: 0.4573\n",
            "epoch 147, loss: 0.4564\n"
          ]
        },
        {
          "output_type": "stream",
          "name": "stderr",
          "text": [
            "\r 15%|█▍        | 149/1000 [00:06<00:35, 23.78it/s]"
          ]
        },
        {
          "output_type": "stream",
          "name": "stdout",
          "text": [
            "epoch 148, loss: 0.4554\n",
            "epoch 149, loss: 0.4545\n"
          ]
        },
        {
          "output_type": "stream",
          "name": "stderr",
          "text": [
            "\r 15%|█▌        | 152/1000 [00:06<00:35, 23.96it/s]"
          ]
        },
        {
          "output_type": "stream",
          "name": "stdout",
          "text": [
            "epoch 150, loss: 0.4537\n",
            "epoch 151, loss: 0.4528\n",
            "epoch 152, loss: 0.4519\n"
          ]
        },
        {
          "output_type": "stream",
          "name": "stderr",
          "text": [
            "\r 16%|█▌        | 155/1000 [00:06<00:35, 23.93it/s]"
          ]
        },
        {
          "output_type": "stream",
          "name": "stdout",
          "text": [
            "epoch 153, loss: 0.4510\n",
            "epoch 154, loss: 0.4502\n"
          ]
        },
        {
          "output_type": "stream",
          "name": "stderr",
          "text": [
            "\r 16%|█▌        | 158/1000 [00:06<00:34, 24.08it/s]"
          ]
        },
        {
          "output_type": "stream",
          "name": "stdout",
          "text": [
            "epoch 155, loss: 0.4494\n",
            "epoch 156, loss: 0.4485\n",
            "epoch 157, loss: 0.4477\n",
            "epoch 158, loss: 0.4469\n",
            "epoch 159, loss: 0.4461\n"
          ]
        },
        {
          "output_type": "stream",
          "name": "stderr",
          "text": [
            "\r 16%|█▌        | 161/1000 [00:06<00:34, 24.01it/s]"
          ]
        },
        {
          "output_type": "stream",
          "name": "stdout",
          "text": [
            "epoch 160, loss: 0.4453\n",
            "epoch 161, loss: 0.4445\n",
            "epoch 162, loss: 0.4437\n"
          ]
        },
        {
          "output_type": "stream",
          "name": "stderr",
          "text": [
            "\r 16%|█▋        | 164/1000 [00:06<00:34, 24.07it/s]"
          ]
        },
        {
          "output_type": "stream",
          "name": "stdout",
          "text": [
            "epoch 163, loss: 0.4429\n",
            "epoch 164, loss: 0.4422\n"
          ]
        },
        {
          "output_type": "stream",
          "name": "stderr",
          "text": [
            "\r 17%|█▋        | 167/1000 [00:06<00:34, 24.18it/s]"
          ]
        },
        {
          "output_type": "stream",
          "name": "stdout",
          "text": [
            "epoch 165, loss: 0.4414\n",
            "epoch 166, loss: 0.4406\n",
            "epoch 167, loss: 0.4399\n"
          ]
        },
        {
          "output_type": "stream",
          "name": "stderr",
          "text": [
            "\r 17%|█▋        | 170/1000 [00:07<00:34, 24.07it/s]"
          ]
        },
        {
          "output_type": "stream",
          "name": "stdout",
          "text": [
            "epoch 168, loss: 0.4392\n",
            "epoch 169, loss: 0.4384\n"
          ]
        },
        {
          "output_type": "stream",
          "name": "stderr",
          "text": [
            "\r 17%|█▋        | 173/1000 [00:07<00:34, 24.09it/s]"
          ]
        },
        {
          "output_type": "stream",
          "name": "stdout",
          "text": [
            "epoch 170, loss: 0.4377\n",
            "epoch 171, loss: 0.4370\n",
            "epoch 172, loss: 0.4363\n",
            "epoch 173, loss: 0.4356\n",
            "epoch 174, loss: 0.4349\n"
          ]
        },
        {
          "output_type": "stream",
          "name": "stderr",
          "text": [
            "\r 18%|█▊        | 176/1000 [00:07<00:34, 24.05it/s]"
          ]
        },
        {
          "output_type": "stream",
          "name": "stdout",
          "text": [
            "epoch 175, loss: 0.4342\n",
            "epoch 176, loss: 0.4335\n",
            "epoch 177, loss: 0.4328\n"
          ]
        },
        {
          "output_type": "stream",
          "name": "stderr",
          "text": [
            "\r 18%|█▊        | 179/1000 [00:07<00:34, 24.04it/s]"
          ]
        },
        {
          "output_type": "stream",
          "name": "stdout",
          "text": [
            "epoch 178, loss: 0.4322\n",
            "epoch 179, loss: 0.4315\n"
          ]
        },
        {
          "output_type": "stream",
          "name": "stderr",
          "text": [
            "\r 18%|█▊        | 182/1000 [00:07<00:33, 24.17it/s]"
          ]
        },
        {
          "output_type": "stream",
          "name": "stdout",
          "text": [
            "epoch 180, loss: 0.4308\n",
            "epoch 181, loss: 0.4302\n",
            "epoch 182, loss: 0.4295\n"
          ]
        },
        {
          "output_type": "stream",
          "name": "stderr",
          "text": [
            "\r 18%|█▊        | 185/1000 [00:07<00:33, 24.20it/s]"
          ]
        },
        {
          "output_type": "stream",
          "name": "stdout",
          "text": [
            "epoch 183, loss: 0.4289\n",
            "epoch 184, loss: 0.4283\n"
          ]
        },
        {
          "output_type": "stream",
          "name": "stderr",
          "text": [
            "\r 19%|█▉        | 188/1000 [00:07<00:33, 24.28it/s]"
          ]
        },
        {
          "output_type": "stream",
          "name": "stdout",
          "text": [
            "epoch 185, loss: 0.4276\n",
            "epoch 186, loss: 0.4270\n",
            "epoch 187, loss: 0.4264\n",
            "epoch 188, loss: 0.4258\n",
            "epoch 189, loss: 0.4252\n"
          ]
        },
        {
          "output_type": "stream",
          "name": "stderr",
          "text": [
            "\r 19%|█▉        | 191/1000 [00:07<00:33, 24.27it/s]"
          ]
        },
        {
          "output_type": "stream",
          "name": "stdout",
          "text": [
            "epoch 190, loss: 0.4246\n",
            "epoch 191, loss: 0.4240\n",
            "epoch 192, loss: 0.4234\n"
          ]
        },
        {
          "output_type": "stream",
          "name": "stderr",
          "text": [
            "\r 19%|█▉        | 194/1000 [00:08<00:33, 24.32it/s]"
          ]
        },
        {
          "output_type": "stream",
          "name": "stdout",
          "text": [
            "epoch 193, loss: 0.4228\n",
            "epoch 194, loss: 0.4222\n"
          ]
        },
        {
          "output_type": "stream",
          "name": "stderr",
          "text": [
            "\r 20%|█▉        | 197/1000 [00:08<00:32, 24.45it/s]"
          ]
        },
        {
          "output_type": "stream",
          "name": "stdout",
          "text": [
            "epoch 195, loss: 0.4216\n",
            "epoch 196, loss: 0.4210\n",
            "epoch 197, loss: 0.4205\n"
          ]
        },
        {
          "output_type": "stream",
          "name": "stderr",
          "text": [
            "\r 20%|██        | 200/1000 [00:08<00:32, 24.49it/s]"
          ]
        },
        {
          "output_type": "stream",
          "name": "stdout",
          "text": [
            "epoch 198, loss: 0.4199\n",
            "epoch 199, loss: 0.4193\n"
          ]
        },
        {
          "output_type": "stream",
          "name": "stderr",
          "text": [
            "\r 20%|██        | 203/1000 [00:08<00:32, 24.49it/s]"
          ]
        },
        {
          "output_type": "stream",
          "name": "stdout",
          "text": [
            "epoch 200, loss: 0.4188\n",
            "epoch 201, loss: 0.4182\n",
            "epoch 202, loss: 0.4177\n",
            "epoch 203, loss: 0.4171\n",
            "epoch 204, loss: 0.4166\n"
          ]
        },
        {
          "output_type": "stream",
          "name": "stderr",
          "text": [
            "\r 21%|██        | 206/1000 [00:08<00:32, 24.27it/s]"
          ]
        },
        {
          "output_type": "stream",
          "name": "stdout",
          "text": [
            "epoch 205, loss: 0.4161\n",
            "epoch 206, loss: 0.4155\n",
            "epoch 207, loss: 0.4150\n"
          ]
        },
        {
          "output_type": "stream",
          "name": "stderr",
          "text": [
            "\r 21%|██        | 209/1000 [00:08<00:32, 24.19it/s]"
          ]
        },
        {
          "output_type": "stream",
          "name": "stdout",
          "text": [
            "epoch 208, loss: 0.4145\n",
            "epoch 209, loss: 0.4140\n"
          ]
        },
        {
          "output_type": "stream",
          "name": "stderr",
          "text": [
            "\r 21%|██        | 212/1000 [00:08<00:32, 24.16it/s]"
          ]
        },
        {
          "output_type": "stream",
          "name": "stdout",
          "text": [
            "epoch 210, loss: 0.4134\n",
            "epoch 211, loss: 0.4129\n",
            "epoch 212, loss: 0.4124\n"
          ]
        },
        {
          "output_type": "stream",
          "name": "stderr",
          "text": [
            "\r 22%|██▏       | 215/1000 [00:08<00:32, 24.23it/s]"
          ]
        },
        {
          "output_type": "stream",
          "name": "stdout",
          "text": [
            "epoch 213, loss: 0.4119\n",
            "epoch 214, loss: 0.4114\n"
          ]
        },
        {
          "output_type": "stream",
          "name": "stderr",
          "text": [
            "\r 22%|██▏       | 218/1000 [00:09<00:32, 24.35it/s]"
          ]
        },
        {
          "output_type": "stream",
          "name": "stdout",
          "text": [
            "epoch 215, loss: 0.4109\n",
            "epoch 216, loss: 0.4105\n",
            "epoch 217, loss: 0.4100\n",
            "epoch 218, loss: 0.4095\n",
            "epoch 219, loss: 0.4090\n"
          ]
        },
        {
          "output_type": "stream",
          "name": "stderr",
          "text": [
            "\r 22%|██▏       | 221/1000 [00:09<00:32, 23.68it/s]"
          ]
        },
        {
          "output_type": "stream",
          "name": "stdout",
          "text": [
            "epoch 220, loss: 0.4085\n",
            "epoch 221, loss: 0.4081\n",
            "epoch 222, loss: 0.4076\n"
          ]
        },
        {
          "output_type": "stream",
          "name": "stderr",
          "text": [
            "\r 22%|██▏       | 224/1000 [00:09<00:33, 22.88it/s]"
          ]
        },
        {
          "output_type": "stream",
          "name": "stdout",
          "text": [
            "epoch 223, loss: 0.4072\n",
            "epoch 224, loss: 0.4067\n"
          ]
        },
        {
          "output_type": "stream",
          "name": "stderr",
          "text": [
            "\r 23%|██▎       | 227/1000 [00:09<00:34, 22.44it/s]"
          ]
        },
        {
          "output_type": "stream",
          "name": "stdout",
          "text": [
            "epoch 225, loss: 0.4063\n",
            "epoch 226, loss: 0.4058\n",
            "epoch 227, loss: 0.4054\n"
          ]
        },
        {
          "output_type": "stream",
          "name": "stderr",
          "text": [
            "\r 23%|██▎       | 230/1000 [00:09<00:33, 23.01it/s]"
          ]
        },
        {
          "output_type": "stream",
          "name": "stdout",
          "text": [
            "epoch 228, loss: 0.4049\n",
            "epoch 229, loss: 0.4045\n"
          ]
        },
        {
          "output_type": "stream",
          "name": "stderr",
          "text": [
            "\r 23%|██▎       | 233/1000 [00:09<00:32, 23.50it/s]"
          ]
        },
        {
          "output_type": "stream",
          "name": "stdout",
          "text": [
            "epoch 230, loss: 0.4041\n",
            "epoch 231, loss: 0.4036\n",
            "epoch 232, loss: 0.4032\n",
            "epoch 233, loss: 0.4028\n",
            "epoch 234, loss: 0.4024\n"
          ]
        },
        {
          "output_type": "stream",
          "name": "stderr",
          "text": [
            "\r 24%|██▎       | 236/1000 [00:09<00:32, 23.68it/s]"
          ]
        },
        {
          "output_type": "stream",
          "name": "stdout",
          "text": [
            "epoch 235, loss: 0.4020\n",
            "epoch 236, loss: 0.4016\n",
            "epoch 237, loss: 0.4011\n"
          ]
        },
        {
          "output_type": "stream",
          "name": "stderr",
          "text": [
            "\r 24%|██▍       | 239/1000 [00:10<00:31, 23.80it/s]"
          ]
        },
        {
          "output_type": "stream",
          "name": "stdout",
          "text": [
            "epoch 238, loss: 0.4007\n",
            "epoch 239, loss: 0.4003\n"
          ]
        },
        {
          "output_type": "stream",
          "name": "stderr",
          "text": [
            "\r 24%|██▍       | 242/1000 [00:10<00:31, 23.91it/s]"
          ]
        },
        {
          "output_type": "stream",
          "name": "stdout",
          "text": [
            "epoch 240, loss: 0.3999\n",
            "epoch 241, loss: 0.3995\n",
            "epoch 242, loss: 0.3992\n",
            "epoch 243, loss: 0.3988\n",
            "epoch 244, loss: 0.3984\n"
          ]
        },
        {
          "output_type": "stream",
          "name": "stderr",
          "text": [
            " 25%|██▍       | 248/1000 [00:10<00:34, 21.70it/s]"
          ]
        },
        {
          "output_type": "stream",
          "name": "stdout",
          "text": [
            "epoch 245, loss: 0.3980\n",
            "epoch 246, loss: 0.3976\n",
            "epoch 247, loss: 0.3972\n",
            "epoch 248, loss: 0.3969\n",
            "epoch 249, loss: 0.3965\n"
          ]
        },
        {
          "output_type": "stream",
          "name": "stderr",
          "text": [
            "\r 25%|██▌       | 251/1000 [00:10<00:34, 21.72it/s]"
          ]
        },
        {
          "output_type": "stream",
          "name": "stdout",
          "text": [
            "epoch 250, loss: 0.3961\n",
            "epoch 251, loss: 0.3958\n",
            "epoch 252, loss: 0.3954\n"
          ]
        },
        {
          "output_type": "stream",
          "name": "stderr",
          "text": [
            "\r 25%|██▌       | 254/1000 [00:10<00:33, 22.51it/s]"
          ]
        },
        {
          "output_type": "stream",
          "name": "stdout",
          "text": [
            "epoch 253, loss: 0.3950\n",
            "epoch 254, loss: 0.3947\n"
          ]
        },
        {
          "output_type": "stream",
          "name": "stderr",
          "text": [
            "\r 26%|██▌       | 257/1000 [00:10<00:32, 22.91it/s]"
          ]
        },
        {
          "output_type": "stream",
          "name": "stdout",
          "text": [
            "epoch 255, loss: 0.3943\n",
            "epoch 256, loss: 0.3940\n",
            "epoch 257, loss: 0.3936\n"
          ]
        },
        {
          "output_type": "stream",
          "name": "stderr",
          "text": [
            "\r 26%|██▌       | 260/1000 [00:10<00:31, 23.21it/s]"
          ]
        },
        {
          "output_type": "stream",
          "name": "stdout",
          "text": [
            "epoch 258, loss: 0.3933\n",
            "epoch 259, loss: 0.3929\n"
          ]
        },
        {
          "output_type": "stream",
          "name": "stderr",
          "text": [
            "\r 26%|██▋       | 263/1000 [00:11<00:31, 23.54it/s]"
          ]
        },
        {
          "output_type": "stream",
          "name": "stdout",
          "text": [
            "epoch 260, loss: 0.3926\n",
            "epoch 261, loss: 0.3923\n",
            "epoch 262, loss: 0.3919\n",
            "epoch 263, loss: 0.3916\n",
            "epoch 264, loss: 0.3912\n"
          ]
        },
        {
          "output_type": "stream",
          "name": "stderr",
          "text": [
            "\r 27%|██▋       | 266/1000 [00:11<00:30, 23.77it/s]"
          ]
        },
        {
          "output_type": "stream",
          "name": "stdout",
          "text": [
            "epoch 265, loss: 0.3909\n",
            "epoch 266, loss: 0.3906\n",
            "epoch 267, loss: 0.3903\n"
          ]
        },
        {
          "output_type": "stream",
          "name": "stderr",
          "text": [
            "\r 27%|██▋       | 269/1000 [00:11<00:30, 24.00it/s]"
          ]
        },
        {
          "output_type": "stream",
          "name": "stdout",
          "text": [
            "epoch 268, loss: 0.3899\n",
            "epoch 269, loss: 0.3896\n"
          ]
        },
        {
          "output_type": "stream",
          "name": "stderr",
          "text": [
            "\r 27%|██▋       | 272/1000 [00:11<00:30, 24.17it/s]"
          ]
        },
        {
          "output_type": "stream",
          "name": "stdout",
          "text": [
            "epoch 270, loss: 0.3893\n",
            "epoch 271, loss: 0.3890\n",
            "epoch 272, loss: 0.3887\n"
          ]
        },
        {
          "output_type": "stream",
          "name": "stderr",
          "text": [
            "\r 28%|██▊       | 275/1000 [00:11<00:30, 24.12it/s]"
          ]
        },
        {
          "output_type": "stream",
          "name": "stdout",
          "text": [
            "epoch 273, loss: 0.3883\n",
            "epoch 274, loss: 0.3880\n"
          ]
        },
        {
          "output_type": "stream",
          "name": "stderr",
          "text": [
            "\r 28%|██▊       | 278/1000 [00:11<00:29, 24.15it/s]"
          ]
        },
        {
          "output_type": "stream",
          "name": "stdout",
          "text": [
            "epoch 275, loss: 0.3877\n",
            "epoch 276, loss: 0.3874\n",
            "epoch 277, loss: 0.3871\n",
            "epoch 278, loss: 0.3868\n",
            "epoch 279, loss: 0.3865\n"
          ]
        },
        {
          "output_type": "stream",
          "name": "stderr",
          "text": [
            "\r 28%|██▊       | 281/1000 [00:11<00:29, 24.22it/s]"
          ]
        },
        {
          "output_type": "stream",
          "name": "stdout",
          "text": [
            "epoch 280, loss: 0.3862\n",
            "epoch 281, loss: 0.3859\n",
            "epoch 282, loss: 0.3856\n"
          ]
        },
        {
          "output_type": "stream",
          "name": "stderr",
          "text": [
            "\r 28%|██▊       | 284/1000 [00:11<00:29, 24.25it/s]"
          ]
        },
        {
          "output_type": "stream",
          "name": "stdout",
          "text": [
            "epoch 283, loss: 0.3853\n",
            "epoch 284, loss: 0.3850\n"
          ]
        },
        {
          "output_type": "stream",
          "name": "stderr",
          "text": [
            "\r 29%|██▊       | 287/1000 [00:12<00:29, 24.39it/s]"
          ]
        },
        {
          "output_type": "stream",
          "name": "stdout",
          "text": [
            "epoch 285, loss: 0.3847\n",
            "epoch 286, loss: 0.3844\n",
            "epoch 287, loss: 0.3842\n"
          ]
        },
        {
          "output_type": "stream",
          "name": "stderr",
          "text": [
            "\r 29%|██▉       | 290/1000 [00:12<00:29, 24.42it/s]"
          ]
        },
        {
          "output_type": "stream",
          "name": "stdout",
          "text": [
            "epoch 288, loss: 0.3839\n",
            "epoch 289, loss: 0.3836\n"
          ]
        },
        {
          "output_type": "stream",
          "name": "stderr",
          "text": [
            "\r 29%|██▉       | 293/1000 [00:12<00:28, 24.53it/s]"
          ]
        },
        {
          "output_type": "stream",
          "name": "stdout",
          "text": [
            "epoch 290, loss: 0.3833\n",
            "epoch 291, loss: 0.3830\n",
            "epoch 292, loss: 0.3827\n",
            "epoch 293, loss: 0.3825\n",
            "epoch 294, loss: 0.3822\n"
          ]
        },
        {
          "output_type": "stream",
          "name": "stderr",
          "text": [
            "\r 30%|██▉       | 296/1000 [00:12<00:28, 24.46it/s]"
          ]
        },
        {
          "output_type": "stream",
          "name": "stdout",
          "text": [
            "epoch 295, loss: 0.3819\n",
            "epoch 296, loss: 0.3816\n",
            "epoch 297, loss: 0.3814\n"
          ]
        },
        {
          "output_type": "stream",
          "name": "stderr",
          "text": [
            "\r 30%|██▉       | 299/1000 [00:12<00:28, 24.48it/s]"
          ]
        },
        {
          "output_type": "stream",
          "name": "stdout",
          "text": [
            "epoch 298, loss: 0.3811\n",
            "epoch 299, loss: 0.3808\n"
          ]
        },
        {
          "output_type": "stream",
          "name": "stderr",
          "text": [
            "\r 30%|███       | 302/1000 [00:12<00:28, 24.58it/s]"
          ]
        },
        {
          "output_type": "stream",
          "name": "stdout",
          "text": [
            "epoch 300, loss: 0.3806\n",
            "epoch 301, loss: 0.3803\n",
            "epoch 302, loss: 0.3800\n"
          ]
        },
        {
          "output_type": "stream",
          "name": "stderr",
          "text": [
            "\r 30%|███       | 305/1000 [00:12<00:28, 24.53it/s]"
          ]
        },
        {
          "output_type": "stream",
          "name": "stdout",
          "text": [
            "epoch 303, loss: 0.3798\n",
            "epoch 304, loss: 0.3795\n"
          ]
        },
        {
          "output_type": "stream",
          "name": "stderr",
          "text": [
            "\r 31%|███       | 308/1000 [00:12<00:28, 24.58it/s]"
          ]
        },
        {
          "output_type": "stream",
          "name": "stdout",
          "text": [
            "epoch 305, loss: 0.3792\n",
            "epoch 306, loss: 0.3790\n",
            "epoch 307, loss: 0.3787\n",
            "epoch 308, loss: 0.3785\n",
            "epoch 309, loss: 0.3782\n"
          ]
        },
        {
          "output_type": "stream",
          "name": "stderr",
          "text": [
            "\r 31%|███       | 311/1000 [00:13<00:28, 24.38it/s]"
          ]
        },
        {
          "output_type": "stream",
          "name": "stdout",
          "text": [
            "epoch 310, loss: 0.3780\n",
            "epoch 311, loss: 0.3777\n",
            "epoch 312, loss: 0.3775\n"
          ]
        },
        {
          "output_type": "stream",
          "name": "stderr",
          "text": [
            "\r 31%|███▏      | 314/1000 [00:13<00:27, 24.52it/s]"
          ]
        },
        {
          "output_type": "stream",
          "name": "stdout",
          "text": [
            "epoch 313, loss: 0.3772\n",
            "epoch 314, loss: 0.3770\n"
          ]
        },
        {
          "output_type": "stream",
          "name": "stderr",
          "text": [
            "\r 32%|███▏      | 317/1000 [00:13<00:27, 24.59it/s]"
          ]
        },
        {
          "output_type": "stream",
          "name": "stdout",
          "text": [
            "epoch 315, loss: 0.3767\n",
            "epoch 316, loss: 0.3765\n",
            "epoch 317, loss: 0.3762\n"
          ]
        },
        {
          "output_type": "stream",
          "name": "stderr",
          "text": [
            "\r 32%|███▏      | 320/1000 [00:13<00:27, 24.54it/s]"
          ]
        },
        {
          "output_type": "stream",
          "name": "stdout",
          "text": [
            "epoch 318, loss: 0.3760\n",
            "epoch 319, loss: 0.3757\n"
          ]
        },
        {
          "output_type": "stream",
          "name": "stderr",
          "text": [
            "\r 32%|███▏      | 323/1000 [00:13<00:27, 24.65it/s]"
          ]
        },
        {
          "output_type": "stream",
          "name": "stdout",
          "text": [
            "epoch 320, loss: 0.3755\n",
            "epoch 321, loss: 0.3753\n",
            "epoch 322, loss: 0.3750\n",
            "epoch 323, loss: 0.3748\n",
            "epoch 324, loss: 0.3746\n"
          ]
        },
        {
          "output_type": "stream",
          "name": "stderr",
          "text": [
            " 33%|███▎      | 329/1000 [00:13<00:27, 24.67it/s]"
          ]
        },
        {
          "output_type": "stream",
          "name": "stdout",
          "text": [
            "epoch 325, loss: 0.3743\n",
            "epoch 326, loss: 0.3741\n",
            "epoch 327, loss: 0.3739\n",
            "epoch 328, loss: 0.3736\n",
            "epoch 329, loss: 0.3734\n"
          ]
        },
        {
          "output_type": "stream",
          "name": "stderr",
          "text": [
            "\r 33%|███▎      | 332/1000 [00:13<00:27, 24.62it/s]"
          ]
        },
        {
          "output_type": "stream",
          "name": "stdout",
          "text": [
            "epoch 330, loss: 0.3732\n",
            "epoch 331, loss: 0.3729\n",
            "epoch 332, loss: 0.3727\n",
            "epoch 333, loss: 0.3725\n"
          ]
        },
        {
          "output_type": "stream",
          "name": "stderr",
          "text": [
            "\r 34%|███▎      | 335/1000 [00:14<00:27, 24.57it/s]"
          ]
        },
        {
          "output_type": "stream",
          "name": "stdout",
          "text": [
            "epoch 334, loss: 0.3723\n"
          ]
        },
        {
          "output_type": "stream",
          "name": "stderr",
          "text": [
            "\r 34%|███▍      | 338/1000 [00:14<00:26, 24.61it/s]"
          ]
        },
        {
          "output_type": "stream",
          "name": "stdout",
          "text": [
            "epoch 335, loss: 0.3720\n",
            "epoch 336, loss: 0.3718\n",
            "epoch 337, loss: 0.3716\n",
            "epoch 338, loss: 0.3714\n",
            "epoch 339, loss: 0.3712\n"
          ]
        },
        {
          "output_type": "stream",
          "name": "stderr",
          "text": [
            " 34%|███▍      | 344/1000 [00:14<00:26, 24.58it/s]"
          ]
        },
        {
          "output_type": "stream",
          "name": "stdout",
          "text": [
            "epoch 340, loss: 0.3709\n",
            "epoch 341, loss: 0.3707\n",
            "epoch 342, loss: 0.3705\n",
            "epoch 343, loss: 0.3703\n",
            "epoch 344, loss: 0.3701\n"
          ]
        },
        {
          "output_type": "stream",
          "name": "stderr",
          "text": [
            "\r 35%|███▍      | 347/1000 [00:14<00:26, 24.47it/s]"
          ]
        },
        {
          "output_type": "stream",
          "name": "stdout",
          "text": [
            "epoch 345, loss: 0.3699\n",
            "epoch 346, loss: 0.3696\n",
            "epoch 347, loss: 0.3694\n",
            "epoch 348, loss: 0.3692\n"
          ]
        },
        {
          "output_type": "stream",
          "name": "stderr",
          "text": [
            "\r 35%|███▌      | 350/1000 [00:14<00:26, 24.38it/s]"
          ]
        },
        {
          "output_type": "stream",
          "name": "stdout",
          "text": [
            "epoch 349, loss: 0.3690\n"
          ]
        },
        {
          "output_type": "stream",
          "name": "stderr",
          "text": [
            "\r 35%|███▌      | 353/1000 [00:14<00:26, 24.68it/s]"
          ]
        },
        {
          "output_type": "stream",
          "name": "stdout",
          "text": [
            "epoch 350, loss: 0.3688\n",
            "epoch 351, loss: 0.3686\n",
            "epoch 352, loss: 0.3684\n",
            "epoch 353, loss: 0.3682\n",
            "epoch 354, loss: 0.3680\n"
          ]
        },
        {
          "output_type": "stream",
          "name": "stderr",
          "text": [
            " 36%|███▌      | 359/1000 [00:14<00:26, 24.61it/s]"
          ]
        },
        {
          "output_type": "stream",
          "name": "stdout",
          "text": [
            "epoch 355, loss: 0.3678\n",
            "epoch 356, loss: 0.3676\n",
            "epoch 357, loss: 0.3674\n",
            "epoch 358, loss: 0.3672\n",
            "epoch 359, loss: 0.3670\n"
          ]
        },
        {
          "output_type": "stream",
          "name": "stderr",
          "text": [
            " 36%|███▋      | 365/1000 [00:15<00:25, 24.58it/s]"
          ]
        },
        {
          "output_type": "stream",
          "name": "stdout",
          "text": [
            "epoch 360, loss: 0.3668\n",
            "epoch 361, loss: 0.3666\n",
            "epoch 362, loss: 0.3664\n",
            "epoch 363, loss: 0.3662\n",
            "epoch 364, loss: 0.3660\n"
          ]
        },
        {
          "output_type": "stream",
          "name": "stderr",
          "text": [
            "\r 37%|███▋      | 368/1000 [00:15<00:25, 24.58it/s]"
          ]
        },
        {
          "output_type": "stream",
          "name": "stdout",
          "text": [
            "epoch 365, loss: 0.3658\n",
            "epoch 366, loss: 0.3656\n",
            "epoch 367, loss: 0.3654\n",
            "epoch 368, loss: 0.3652\n",
            "epoch 369, loss: 0.3650\n"
          ]
        },
        {
          "output_type": "stream",
          "name": "stderr",
          "text": [
            " 37%|███▋      | 374/1000 [00:15<00:25, 24.60it/s]"
          ]
        },
        {
          "output_type": "stream",
          "name": "stdout",
          "text": [
            "epoch 370, loss: 0.3648\n",
            "epoch 371, loss: 0.3646\n",
            "epoch 372, loss: 0.3644\n",
            "epoch 373, loss: 0.3642\n",
            "epoch 374, loss: 0.3640\n",
            "epoch 375, loss: 0.3639\n"
          ]
        },
        {
          "output_type": "stream",
          "name": "stderr",
          "text": [
            " 38%|███▊      | 380/1000 [00:15<00:25, 24.63it/s]"
          ]
        },
        {
          "output_type": "stream",
          "name": "stdout",
          "text": [
            "epoch 376, loss: 0.3637\n",
            "epoch 377, loss: 0.3635\n",
            "epoch 378, loss: 0.3633\n",
            "epoch 379, loss: 0.3631\n",
            "epoch 380, loss: 0.3629\n"
          ]
        },
        {
          "output_type": "stream",
          "name": "stderr",
          "text": [
            " 39%|███▊      | 386/1000 [00:16<00:24, 24.63it/s]"
          ]
        },
        {
          "output_type": "stream",
          "name": "stdout",
          "text": [
            "epoch 381, loss: 0.3627\n",
            "epoch 382, loss: 0.3626\n",
            "epoch 383, loss: 0.3624\n",
            "epoch 384, loss: 0.3622\n",
            "epoch 385, loss: 0.3620\n"
          ]
        },
        {
          "output_type": "stream",
          "name": "stderr",
          "text": [
            "\r 39%|███▉      | 389/1000 [00:16<00:24, 24.66it/s]"
          ]
        },
        {
          "output_type": "stream",
          "name": "stdout",
          "text": [
            "epoch 386, loss: 0.3618\n",
            "epoch 387, loss: 0.3616\n",
            "epoch 388, loss: 0.3615\n",
            "epoch 389, loss: 0.3613\n",
            "epoch 390, loss: 0.3611\n"
          ]
        },
        {
          "output_type": "stream",
          "name": "stderr",
          "text": [
            " 40%|███▉      | 395/1000 [00:16<00:24, 24.54it/s]"
          ]
        },
        {
          "output_type": "stream",
          "name": "stdout",
          "text": [
            "epoch 391, loss: 0.3609\n",
            "epoch 392, loss: 0.3608\n",
            "epoch 393, loss: 0.3606\n",
            "epoch 394, loss: 0.3604\n",
            "epoch 395, loss: 0.3602\n"
          ]
        },
        {
          "output_type": "stream",
          "name": "stderr",
          "text": [
            " 40%|████      | 401/1000 [00:16<00:24, 24.58it/s]"
          ]
        },
        {
          "output_type": "stream",
          "name": "stdout",
          "text": [
            "epoch 396, loss: 0.3601\n",
            "epoch 397, loss: 0.3599\n",
            "epoch 398, loss: 0.3597\n",
            "epoch 399, loss: 0.3595\n",
            "epoch 400, loss: 0.3594\n"
          ]
        },
        {
          "output_type": "stream",
          "name": "stderr",
          "text": [
            "\r 40%|████      | 404/1000 [00:16<00:24, 24.56it/s]"
          ]
        },
        {
          "output_type": "stream",
          "name": "stdout",
          "text": [
            "epoch 401, loss: 0.3592\n",
            "epoch 402, loss: 0.3590\n",
            "epoch 403, loss: 0.3589\n",
            "epoch 404, loss: 0.3587\n",
            "epoch 405, loss: 0.3585\n"
          ]
        },
        {
          "output_type": "stream",
          "name": "stderr",
          "text": [
            " 41%|████      | 410/1000 [00:17<00:24, 24.53it/s]"
          ]
        },
        {
          "output_type": "stream",
          "name": "stdout",
          "text": [
            "epoch 406, loss: 0.3583\n",
            "epoch 407, loss: 0.3582\n",
            "epoch 408, loss: 0.3580\n",
            "epoch 409, loss: 0.3578\n",
            "epoch 410, loss: 0.3577\n"
          ]
        },
        {
          "output_type": "stream",
          "name": "stderr",
          "text": [
            " 42%|████▏     | 416/1000 [00:17<00:23, 24.62it/s]"
          ]
        },
        {
          "output_type": "stream",
          "name": "stdout",
          "text": [
            "epoch 411, loss: 0.3575\n",
            "epoch 412, loss: 0.3574\n",
            "epoch 413, loss: 0.3572\n",
            "epoch 414, loss: 0.3570\n",
            "epoch 415, loss: 0.3569\n"
          ]
        },
        {
          "output_type": "stream",
          "name": "stderr",
          "text": [
            "\r 42%|████▏     | 419/1000 [00:17<00:23, 24.60it/s]"
          ]
        },
        {
          "output_type": "stream",
          "name": "stdout",
          "text": [
            "epoch 416, loss: 0.3567\n",
            "epoch 417, loss: 0.3565\n",
            "epoch 418, loss: 0.3564\n",
            "epoch 419, loss: 0.3562\n",
            "epoch 420, loss: 0.3561\n"
          ]
        },
        {
          "output_type": "stream",
          "name": "stderr",
          "text": [
            " 42%|████▎     | 425/1000 [00:17<00:23, 24.64it/s]"
          ]
        },
        {
          "output_type": "stream",
          "name": "stdout",
          "text": [
            "epoch 421, loss: 0.3559\n",
            "epoch 422, loss: 0.3557\n",
            "epoch 423, loss: 0.3556\n",
            "epoch 424, loss: 0.3554\n",
            "epoch 425, loss: 0.3553\n"
          ]
        },
        {
          "output_type": "stream",
          "name": "stderr",
          "text": [
            " 43%|████▎     | 431/1000 [00:17<00:23, 24.61it/s]"
          ]
        },
        {
          "output_type": "stream",
          "name": "stdout",
          "text": [
            "epoch 426, loss: 0.3551\n",
            "epoch 427, loss: 0.3550\n",
            "epoch 428, loss: 0.3548\n",
            "epoch 429, loss: 0.3547\n",
            "epoch 430, loss: 0.3545\n"
          ]
        },
        {
          "output_type": "stream",
          "name": "stderr",
          "text": [
            "\r 43%|████▎     | 434/1000 [00:18<00:22, 24.63it/s]"
          ]
        },
        {
          "output_type": "stream",
          "name": "stdout",
          "text": [
            "epoch 431, loss: 0.3543\n",
            "epoch 432, loss: 0.3542\n",
            "epoch 433, loss: 0.3540\n",
            "epoch 434, loss: 0.3539\n",
            "epoch 435, loss: 0.3537\n"
          ]
        },
        {
          "output_type": "stream",
          "name": "stderr",
          "text": [
            " 44%|████▍     | 440/1000 [00:18<00:22, 24.67it/s]"
          ]
        },
        {
          "output_type": "stream",
          "name": "stdout",
          "text": [
            "epoch 436, loss: 0.3536\n",
            "epoch 437, loss: 0.3534\n",
            "epoch 438, loss: 0.3533\n",
            "epoch 439, loss: 0.3531\n",
            "epoch 440, loss: 0.3530\n"
          ]
        },
        {
          "output_type": "stream",
          "name": "stderr",
          "text": [
            " 45%|████▍     | 446/1000 [00:18<00:22, 24.66it/s]"
          ]
        },
        {
          "output_type": "stream",
          "name": "stdout",
          "text": [
            "epoch 441, loss: 0.3528\n",
            "epoch 442, loss: 0.3527\n",
            "epoch 443, loss: 0.3525\n",
            "epoch 444, loss: 0.3524\n",
            "epoch 445, loss: 0.3522\n"
          ]
        },
        {
          "output_type": "stream",
          "name": "stderr",
          "text": [
            "\r 45%|████▍     | 449/1000 [00:18<00:22, 24.62it/s]"
          ]
        },
        {
          "output_type": "stream",
          "name": "stdout",
          "text": [
            "epoch 446, loss: 0.3521\n",
            "epoch 447, loss: 0.3520\n",
            "epoch 448, loss: 0.3518\n",
            "epoch 449, loss: 0.3517\n",
            "epoch 450, loss: 0.3515\n"
          ]
        },
        {
          "output_type": "stream",
          "name": "stderr",
          "text": [
            " 46%|████▌     | 455/1000 [00:18<00:22, 24.62it/s]"
          ]
        },
        {
          "output_type": "stream",
          "name": "stdout",
          "text": [
            "epoch 451, loss: 0.3514\n",
            "epoch 452, loss: 0.3512\n",
            "epoch 453, loss: 0.3511\n",
            "epoch 454, loss: 0.3509\n",
            "epoch 455, loss: 0.3508\n"
          ]
        },
        {
          "output_type": "stream",
          "name": "stderr",
          "text": [
            " 46%|████▌     | 461/1000 [00:19<00:21, 24.68it/s]"
          ]
        },
        {
          "output_type": "stream",
          "name": "stdout",
          "text": [
            "epoch 456, loss: 0.3507\n",
            "epoch 457, loss: 0.3505\n",
            "epoch 458, loss: 0.3504\n",
            "epoch 459, loss: 0.3502\n",
            "epoch 460, loss: 0.3501\n"
          ]
        },
        {
          "output_type": "stream",
          "name": "stderr",
          "text": [
            "\r 46%|████▋     | 464/1000 [00:19<00:21, 24.63it/s]"
          ]
        },
        {
          "output_type": "stream",
          "name": "stdout",
          "text": [
            "epoch 461, loss: 0.3500\n",
            "epoch 462, loss: 0.3498\n",
            "epoch 463, loss: 0.3497\n",
            "epoch 464, loss: 0.3495\n",
            "epoch 465, loss: 0.3494\n"
          ]
        },
        {
          "output_type": "stream",
          "name": "stderr",
          "text": [
            " 47%|████▋     | 470/1000 [00:19<00:21, 24.68it/s]"
          ]
        },
        {
          "output_type": "stream",
          "name": "stdout",
          "text": [
            "epoch 466, loss: 0.3493\n",
            "epoch 467, loss: 0.3491\n",
            "epoch 468, loss: 0.3490\n",
            "epoch 469, loss: 0.3489\n",
            "epoch 470, loss: 0.3487\n"
          ]
        },
        {
          "output_type": "stream",
          "name": "stderr",
          "text": [
            " 48%|████▊     | 476/1000 [00:19<00:21, 24.67it/s]"
          ]
        },
        {
          "output_type": "stream",
          "name": "stdout",
          "text": [
            "epoch 471, loss: 0.3486\n",
            "epoch 472, loss: 0.3485\n",
            "epoch 473, loss: 0.3483\n",
            "epoch 474, loss: 0.3482\n",
            "epoch 475, loss: 0.3481\n"
          ]
        },
        {
          "output_type": "stream",
          "name": "stderr",
          "text": [
            "\r 48%|████▊     | 479/1000 [00:19<00:21, 24.62it/s]"
          ]
        },
        {
          "output_type": "stream",
          "name": "stdout",
          "text": [
            "epoch 476, loss: 0.3479\n",
            "epoch 477, loss: 0.3478\n",
            "epoch 478, loss: 0.3477\n",
            "epoch 479, loss: 0.3475\n",
            "epoch 480, loss: 0.3474\n"
          ]
        },
        {
          "output_type": "stream",
          "name": "stderr",
          "text": [
            " 48%|████▊     | 485/1000 [00:20<00:20, 24.64it/s]"
          ]
        },
        {
          "output_type": "stream",
          "name": "stdout",
          "text": [
            "epoch 481, loss: 0.3473\n",
            "epoch 482, loss: 0.3471\n",
            "epoch 483, loss: 0.3470\n",
            "epoch 484, loss: 0.3469\n",
            "epoch 485, loss: 0.3467\n"
          ]
        },
        {
          "output_type": "stream",
          "name": "stderr",
          "text": [
            " 49%|████▉     | 491/1000 [00:20<00:20, 24.68it/s]"
          ]
        },
        {
          "output_type": "stream",
          "name": "stdout",
          "text": [
            "epoch 486, loss: 0.3466\n",
            "epoch 487, loss: 0.3465\n",
            "epoch 488, loss: 0.3464\n",
            "epoch 489, loss: 0.3462\n",
            "epoch 490, loss: 0.3461\n"
          ]
        },
        {
          "output_type": "stream",
          "name": "stderr",
          "text": [
            "\r 49%|████▉     | 494/1000 [00:20<00:20, 24.62it/s]"
          ]
        },
        {
          "output_type": "stream",
          "name": "stdout",
          "text": [
            "epoch 491, loss: 0.3460\n",
            "epoch 492, loss: 0.3458\n",
            "epoch 493, loss: 0.3457\n",
            "epoch 494, loss: 0.3456\n",
            "epoch 495, loss: 0.3455\n"
          ]
        },
        {
          "output_type": "stream",
          "name": "stderr",
          "text": [
            " 50%|█████     | 500/1000 [00:20<00:20, 24.62it/s]"
          ]
        },
        {
          "output_type": "stream",
          "name": "stdout",
          "text": [
            "epoch 496, loss: 0.3453\n",
            "epoch 497, loss: 0.3452\n",
            "epoch 498, loss: 0.3451\n",
            "epoch 499, loss: 0.3450\n",
            "epoch 500, loss: 0.3449\n"
          ]
        },
        {
          "output_type": "stream",
          "name": "stderr",
          "text": [
            " 51%|█████     | 506/1000 [00:20<00:20, 24.63it/s]"
          ]
        },
        {
          "output_type": "stream",
          "name": "stdout",
          "text": [
            "epoch 501, loss: 0.3447\n",
            "epoch 502, loss: 0.3446\n",
            "epoch 503, loss: 0.3445\n",
            "epoch 504, loss: 0.3444\n",
            "epoch 505, loss: 0.3442\n"
          ]
        },
        {
          "output_type": "stream",
          "name": "stderr",
          "text": [
            "\r 51%|█████     | 509/1000 [00:21<00:19, 24.64it/s]"
          ]
        },
        {
          "output_type": "stream",
          "name": "stdout",
          "text": [
            "epoch 506, loss: 0.3441\n",
            "epoch 507, loss: 0.3440\n",
            "epoch 508, loss: 0.3439\n",
            "epoch 509, loss: 0.3438\n",
            "epoch 510, loss: 0.3436\n"
          ]
        },
        {
          "output_type": "stream",
          "name": "stderr",
          "text": [
            " 52%|█████▏    | 515/1000 [00:21<00:19, 24.68it/s]"
          ]
        },
        {
          "output_type": "stream",
          "name": "stdout",
          "text": [
            "epoch 511, loss: 0.3435\n",
            "epoch 512, loss: 0.3434\n",
            "epoch 513, loss: 0.3433\n",
            "epoch 514, loss: 0.3432\n",
            "epoch 515, loss: 0.3430\n"
          ]
        },
        {
          "output_type": "stream",
          "name": "stderr",
          "text": [
            " 52%|█████▏    | 521/1000 [00:21<00:19, 24.61it/s]"
          ]
        },
        {
          "output_type": "stream",
          "name": "stdout",
          "text": [
            "epoch 516, loss: 0.3429\n",
            "epoch 517, loss: 0.3428\n",
            "epoch 518, loss: 0.3427\n",
            "epoch 519, loss: 0.3426\n",
            "epoch 520, loss: 0.3425\n"
          ]
        },
        {
          "output_type": "stream",
          "name": "stderr",
          "text": [
            "\r 52%|█████▏    | 524/1000 [00:21<00:19, 24.62it/s]"
          ]
        },
        {
          "output_type": "stream",
          "name": "stdout",
          "text": [
            "epoch 521, loss: 0.3423\n",
            "epoch 522, loss: 0.3422\n",
            "epoch 523, loss: 0.3421\n",
            "epoch 524, loss: 0.3420\n",
            "epoch 525, loss: 0.3419\n"
          ]
        },
        {
          "output_type": "stream",
          "name": "stderr",
          "text": [
            " 53%|█████▎    | 530/1000 [00:21<00:19, 24.62it/s]"
          ]
        },
        {
          "output_type": "stream",
          "name": "stdout",
          "text": [
            "epoch 526, loss: 0.3418\n",
            "epoch 527, loss: 0.3417\n",
            "epoch 528, loss: 0.3415\n",
            "epoch 529, loss: 0.3414\n",
            "epoch 530, loss: 0.3413\n"
          ]
        },
        {
          "output_type": "stream",
          "name": "stderr",
          "text": [
            " 54%|█████▎    | 536/1000 [00:22<00:18, 24.64it/s]"
          ]
        },
        {
          "output_type": "stream",
          "name": "stdout",
          "text": [
            "epoch 531, loss: 0.3412\n",
            "epoch 532, loss: 0.3411\n",
            "epoch 533, loss: 0.3410\n",
            "epoch 534, loss: 0.3409\n",
            "epoch 535, loss: 0.3408\n",
            "epoch 536, loss: 0.3406\n"
          ]
        },
        {
          "output_type": "stream",
          "name": "stderr",
          "text": [
            " 54%|█████▍    | 542/1000 [00:22<00:18, 24.63it/s]"
          ]
        },
        {
          "output_type": "stream",
          "name": "stdout",
          "text": [
            "epoch 537, loss: 0.3405\n",
            "epoch 538, loss: 0.3404\n",
            "epoch 539, loss: 0.3403\n",
            "epoch 540, loss: 0.3402\n",
            "epoch 541, loss: 0.3401\n"
          ]
        },
        {
          "output_type": "stream",
          "name": "stderr",
          "text": [
            "\r 55%|█████▍    | 545/1000 [00:22<00:18, 24.65it/s]"
          ]
        },
        {
          "output_type": "stream",
          "name": "stdout",
          "text": [
            "epoch 542, loss: 0.3400\n",
            "epoch 543, loss: 0.3399\n",
            "epoch 544, loss: 0.3398\n",
            "epoch 545, loss: 0.3396\n",
            "epoch 546, loss: 0.3395\n"
          ]
        },
        {
          "output_type": "stream",
          "name": "stderr",
          "text": [
            " 55%|█████▌    | 551/1000 [00:22<00:18, 24.63it/s]"
          ]
        },
        {
          "output_type": "stream",
          "name": "stdout",
          "text": [
            "epoch 547, loss: 0.3394\n",
            "epoch 548, loss: 0.3393\n",
            "epoch 549, loss: 0.3392\n",
            "epoch 550, loss: 0.3391\n",
            "epoch 551, loss: 0.3390\n"
          ]
        },
        {
          "output_type": "stream",
          "name": "stderr",
          "text": [
            " 56%|█████▌    | 557/1000 [00:23<00:17, 24.62it/s]"
          ]
        },
        {
          "output_type": "stream",
          "name": "stdout",
          "text": [
            "epoch 552, loss: 0.3389\n",
            "epoch 553, loss: 0.3388\n",
            "epoch 554, loss: 0.3387\n",
            "epoch 555, loss: 0.3386\n",
            "epoch 556, loss: 0.3385\n"
          ]
        },
        {
          "output_type": "stream",
          "name": "stderr",
          "text": [
            "\r 56%|█████▌    | 560/1000 [00:23<00:17, 24.62it/s]"
          ]
        },
        {
          "output_type": "stream",
          "name": "stdout",
          "text": [
            "epoch 557, loss: 0.3384\n",
            "epoch 558, loss: 0.3383\n",
            "epoch 559, loss: 0.3382\n",
            "epoch 560, loss: 0.3381\n",
            "epoch 561, loss: 0.3379\n"
          ]
        },
        {
          "output_type": "stream",
          "name": "stderr",
          "text": [
            " 57%|█████▋    | 566/1000 [00:23<00:17, 24.64it/s]"
          ]
        },
        {
          "output_type": "stream",
          "name": "stdout",
          "text": [
            "epoch 562, loss: 0.3378\n",
            "epoch 563, loss: 0.3377\n",
            "epoch 564, loss: 0.3376\n",
            "epoch 565, loss: 0.3375\n",
            "epoch 566, loss: 0.3374\n"
          ]
        },
        {
          "output_type": "stream",
          "name": "stderr",
          "text": [
            " 57%|█████▋    | 572/1000 [00:23<00:17, 24.65it/s]"
          ]
        },
        {
          "output_type": "stream",
          "name": "stdout",
          "text": [
            "epoch 567, loss: 0.3373\n",
            "epoch 568, loss: 0.3372\n",
            "epoch 569, loss: 0.3371\n",
            "epoch 570, loss: 0.3370\n",
            "epoch 571, loss: 0.3369\n"
          ]
        },
        {
          "output_type": "stream",
          "name": "stderr",
          "text": [
            "\r 57%|█████▊    | 575/1000 [00:23<00:17, 24.60it/s]"
          ]
        },
        {
          "output_type": "stream",
          "name": "stdout",
          "text": [
            "epoch 572, loss: 0.3368\n",
            "epoch 573, loss: 0.3367\n",
            "epoch 574, loss: 0.3366\n",
            "epoch 575, loss: 0.3365\n",
            "epoch 576, loss: 0.3364\n"
          ]
        },
        {
          "output_type": "stream",
          "name": "stderr",
          "text": [
            " 58%|█████▊    | 581/1000 [00:24<00:17, 24.63it/s]"
          ]
        },
        {
          "output_type": "stream",
          "name": "stdout",
          "text": [
            "epoch 577, loss: 0.3363\n",
            "epoch 578, loss: 0.3362\n",
            "epoch 579, loss: 0.3361\n",
            "epoch 580, loss: 0.3360\n",
            "epoch 581, loss: 0.3359\n"
          ]
        },
        {
          "output_type": "stream",
          "name": "stderr",
          "text": [
            " 59%|█████▊    | 587/1000 [00:24<00:16, 24.63it/s]"
          ]
        },
        {
          "output_type": "stream",
          "name": "stdout",
          "text": [
            "epoch 582, loss: 0.3358\n",
            "epoch 583, loss: 0.3357\n",
            "epoch 584, loss: 0.3356\n",
            "epoch 585, loss: 0.3355\n",
            "epoch 586, loss: 0.3354\n"
          ]
        },
        {
          "output_type": "stream",
          "name": "stderr",
          "text": [
            "\r 59%|█████▉    | 590/1000 [00:24<00:16, 24.66it/s]"
          ]
        },
        {
          "output_type": "stream",
          "name": "stdout",
          "text": [
            "epoch 587, loss: 0.3353\n",
            "epoch 588, loss: 0.3352\n",
            "epoch 589, loss: 0.3351\n",
            "epoch 590, loss: 0.3350\n",
            "epoch 591, loss: 0.3349\n"
          ]
        },
        {
          "output_type": "stream",
          "name": "stderr",
          "text": [
            " 60%|█████▉    | 596/1000 [00:24<00:16, 24.67it/s]"
          ]
        },
        {
          "output_type": "stream",
          "name": "stdout",
          "text": [
            "epoch 592, loss: 0.3348\n",
            "epoch 593, loss: 0.3347\n",
            "epoch 594, loss: 0.3346\n",
            "epoch 595, loss: 0.3345\n",
            "epoch 596, loss: 0.3345\n"
          ]
        },
        {
          "output_type": "stream",
          "name": "stderr",
          "text": [
            " 60%|██████    | 602/1000 [00:24<00:16, 24.69it/s]"
          ]
        },
        {
          "output_type": "stream",
          "name": "stdout",
          "text": [
            "epoch 597, loss: 0.3344\n",
            "epoch 598, loss: 0.3343\n",
            "epoch 599, loss: 0.3342\n",
            "epoch 600, loss: 0.3341\n",
            "epoch 601, loss: 0.3340\n"
          ]
        },
        {
          "output_type": "stream",
          "name": "stderr",
          "text": [
            "\r 60%|██████    | 605/1000 [00:24<00:16, 24.62it/s]"
          ]
        },
        {
          "output_type": "stream",
          "name": "stdout",
          "text": [
            "epoch 602, loss: 0.3339\n",
            "epoch 603, loss: 0.3338\n",
            "epoch 604, loss: 0.3337\n",
            "epoch 605, loss: 0.3336\n",
            "epoch 606, loss: 0.3335\n"
          ]
        },
        {
          "output_type": "stream",
          "name": "stderr",
          "text": [
            " 61%|██████    | 611/1000 [00:25<00:16, 24.20it/s]"
          ]
        },
        {
          "output_type": "stream",
          "name": "stdout",
          "text": [
            "epoch 607, loss: 0.3334\n",
            "epoch 608, loss: 0.3333\n",
            "epoch 609, loss: 0.3332\n",
            "epoch 610, loss: 0.3331\n",
            "epoch 611, loss: 0.3330\n"
          ]
        },
        {
          "output_type": "stream",
          "name": "stderr",
          "text": [
            " 62%|██████▏   | 617/1000 [00:25<00:15, 24.69it/s]"
          ]
        },
        {
          "output_type": "stream",
          "name": "stdout",
          "text": [
            "epoch 612, loss: 0.3330\n",
            "epoch 613, loss: 0.3329\n",
            "epoch 614, loss: 0.3328\n",
            "epoch 615, loss: 0.3327\n",
            "epoch 616, loss: 0.3326\n",
            "epoch 617, loss: 0.3325\n"
          ]
        },
        {
          "output_type": "stream",
          "name": "stderr",
          "text": [
            " 62%|██████▏   | 623/1000 [00:25<00:15, 24.67it/s]"
          ]
        },
        {
          "output_type": "stream",
          "name": "stdout",
          "text": [
            "epoch 618, loss: 0.3324\n",
            "epoch 619, loss: 0.3323\n",
            "epoch 620, loss: 0.3322\n",
            "epoch 621, loss: 0.3321\n",
            "epoch 622, loss: 0.3320\n"
          ]
        },
        {
          "output_type": "stream",
          "name": "stderr",
          "text": [
            "\r 63%|██████▎   | 626/1000 [00:25<00:15, 24.70it/s]"
          ]
        },
        {
          "output_type": "stream",
          "name": "stdout",
          "text": [
            "epoch 623, loss: 0.3319\n",
            "epoch 624, loss: 0.3319\n",
            "epoch 625, loss: 0.3318\n",
            "epoch 626, loss: 0.3317\n",
            "epoch 627, loss: 0.3316\n"
          ]
        },
        {
          "output_type": "stream",
          "name": "stderr",
          "text": [
            " 63%|██████▎   | 632/1000 [00:26<00:14, 24.64it/s]"
          ]
        },
        {
          "output_type": "stream",
          "name": "stdout",
          "text": [
            "epoch 628, loss: 0.3315\n",
            "epoch 629, loss: 0.3314\n",
            "epoch 630, loss: 0.3313\n",
            "epoch 631, loss: 0.3312\n",
            "epoch 632, loss: 0.3311\n",
            "epoch 633, loss: 0.3311"
          ]
        },
        {
          "output_type": "stream",
          "name": "stderr",
          "text": [
            " 64%|██████▍   | 638/1000 [00:26<00:14, 24.66it/s]"
          ]
        },
        {
          "output_type": "stream",
          "name": "stdout",
          "text": [
            "\n",
            "epoch 634, loss: 0.3310\n",
            "epoch 635, loss: 0.3309\n",
            "epoch 636, loss: 0.3308\n",
            "epoch 637, loss: 0.3307\n",
            "epoch 638, loss: 0.3306\n"
          ]
        },
        {
          "output_type": "stream",
          "name": "stderr",
          "text": [
            " 64%|██████▍   | 644/1000 [00:26<00:14, 24.63it/s]"
          ]
        },
        {
          "output_type": "stream",
          "name": "stdout",
          "text": [
            "epoch 639, loss: 0.3305\n",
            "epoch 640, loss: 0.3304\n",
            "epoch 641, loss: 0.3304\n",
            "epoch 642, loss: 0.3303\n",
            "epoch 643, loss: 0.3302\n"
          ]
        },
        {
          "output_type": "stream",
          "name": "stderr",
          "text": [
            "\r 65%|██████▍   | 647/1000 [00:26<00:14, 24.64it/s]"
          ]
        },
        {
          "output_type": "stream",
          "name": "stdout",
          "text": [
            "epoch 644, loss: 0.3301\n",
            "epoch 645, loss: 0.3300\n",
            "epoch 646, loss: 0.3299\n",
            "epoch 647, loss: 0.3298\n",
            "epoch 648, loss: 0.3298\n"
          ]
        },
        {
          "output_type": "stream",
          "name": "stderr",
          "text": [
            " 65%|██████▌   | 653/1000 [00:26<00:14, 24.65it/s]"
          ]
        },
        {
          "output_type": "stream",
          "name": "stdout",
          "text": [
            "epoch 649, loss: 0.3297\n",
            "epoch 650, loss: 0.3296\n",
            "epoch 651, loss: 0.3295\n",
            "epoch 652, loss: 0.3294\n",
            "epoch 653, loss: 0.3293\n"
          ]
        },
        {
          "output_type": "stream",
          "name": "stderr",
          "text": [
            " 66%|██████▌   | 659/1000 [00:27<00:13, 24.63it/s]"
          ]
        },
        {
          "output_type": "stream",
          "name": "stdout",
          "text": [
            "epoch 654, loss: 0.3293\n",
            "epoch 655, loss: 0.3292\n",
            "epoch 656, loss: 0.3291\n",
            "epoch 657, loss: 0.3290\n",
            "epoch 658, loss: 0.3289\n"
          ]
        },
        {
          "output_type": "stream",
          "name": "stderr",
          "text": [
            "\r 66%|██████▌   | 662/1000 [00:27<00:13, 24.60it/s]"
          ]
        },
        {
          "output_type": "stream",
          "name": "stdout",
          "text": [
            "epoch 659, loss: 0.3288\n",
            "epoch 660, loss: 0.3287\n",
            "epoch 661, loss: 0.3287\n",
            "epoch 662, loss: 0.3286\n",
            "epoch 663, loss: 0.3285\n"
          ]
        },
        {
          "output_type": "stream",
          "name": "stderr",
          "text": [
            " 67%|██████▋   | 668/1000 [00:27<00:13, 24.68it/s]"
          ]
        },
        {
          "output_type": "stream",
          "name": "stdout",
          "text": [
            "epoch 664, loss: 0.3284\n",
            "epoch 665, loss: 0.3283\n",
            "epoch 666, loss: 0.3283\n",
            "epoch 667, loss: 0.3282\n",
            "epoch 668, loss: 0.3281\n"
          ]
        },
        {
          "output_type": "stream",
          "name": "stderr",
          "text": [
            " 67%|██████▋   | 674/1000 [00:27<00:13, 24.63it/s]"
          ]
        },
        {
          "output_type": "stream",
          "name": "stdout",
          "text": [
            "epoch 669, loss: 0.3280\n",
            "epoch 670, loss: 0.3279\n",
            "epoch 671, loss: 0.3278\n",
            "epoch 672, loss: 0.3278\n",
            "epoch 673, loss: 0.3277\n"
          ]
        },
        {
          "output_type": "stream",
          "name": "stderr",
          "text": [
            "\r 68%|██████▊   | 677/1000 [00:27<00:13, 24.66it/s]"
          ]
        },
        {
          "output_type": "stream",
          "name": "stdout",
          "text": [
            "epoch 674, loss: 0.3276\n",
            "epoch 675, loss: 0.3275\n",
            "epoch 676, loss: 0.3274\n",
            "epoch 677, loss: 0.3274\n",
            "epoch 678, loss: 0.3273\n"
          ]
        },
        {
          "output_type": "stream",
          "name": "stderr",
          "text": [
            " 68%|██████▊   | 683/1000 [00:28<00:12, 24.62it/s]"
          ]
        },
        {
          "output_type": "stream",
          "name": "stdout",
          "text": [
            "epoch 679, loss: 0.3272\n",
            "epoch 680, loss: 0.3271\n",
            "epoch 681, loss: 0.3270\n",
            "epoch 682, loss: 0.3270\n",
            "epoch 683, loss: 0.3269\n"
          ]
        },
        {
          "output_type": "stream",
          "name": "stderr",
          "text": [
            " 69%|██████▉   | 689/1000 [00:28<00:12, 24.63it/s]"
          ]
        },
        {
          "output_type": "stream",
          "name": "stdout",
          "text": [
            "epoch 684, loss: 0.3268\n",
            "epoch 685, loss: 0.3267\n",
            "epoch 686, loss: 0.3266\n",
            "epoch 687, loss: 0.3266\n",
            "epoch 688, loss: 0.3265\n"
          ]
        },
        {
          "output_type": "stream",
          "name": "stderr",
          "text": [
            "\r 69%|██████▉   | 692/1000 [00:28<00:12, 24.62it/s]"
          ]
        },
        {
          "output_type": "stream",
          "name": "stdout",
          "text": [
            "epoch 689, loss: 0.3264\n",
            "epoch 690, loss: 0.3263\n",
            "epoch 691, loss: 0.3262\n",
            "epoch 692, loss: 0.3262\n",
            "epoch 693, loss: 0.3261\n"
          ]
        },
        {
          "output_type": "stream",
          "name": "stderr",
          "text": [
            " 70%|██████▉   | 698/1000 [00:28<00:12, 24.67it/s]"
          ]
        },
        {
          "output_type": "stream",
          "name": "stdout",
          "text": [
            "epoch 694, loss: 0.3260\n",
            "epoch 695, loss: 0.3259\n",
            "epoch 696, loss: 0.3259\n",
            "epoch 697, loss: 0.3258\n",
            "epoch 698, loss: 0.3257\n"
          ]
        },
        {
          "output_type": "stream",
          "name": "stderr",
          "text": [
            " 70%|███████   | 704/1000 [00:29<00:12, 24.57it/s]"
          ]
        },
        {
          "output_type": "stream",
          "name": "stdout",
          "text": [
            "epoch 699, loss: 0.3256\n",
            "epoch 700, loss: 0.3256\n",
            "epoch 701, loss: 0.3255\n",
            "epoch 702, loss: 0.3254\n",
            "epoch 703, loss: 0.3253\n"
          ]
        },
        {
          "output_type": "stream",
          "name": "stderr",
          "text": [
            "\r 71%|███████   | 707/1000 [00:29<00:11, 24.61it/s]"
          ]
        },
        {
          "output_type": "stream",
          "name": "stdout",
          "text": [
            "epoch 704, loss: 0.3252\n",
            "epoch 705, loss: 0.3252\n",
            "epoch 706, loss: 0.3251\n",
            "epoch 707, loss: 0.3250\n",
            "epoch 708, loss: 0.3249\n"
          ]
        },
        {
          "output_type": "stream",
          "name": "stderr",
          "text": [
            " 71%|███████▏  | 713/1000 [00:29<00:11, 24.57it/s]"
          ]
        },
        {
          "output_type": "stream",
          "name": "stdout",
          "text": [
            "epoch 709, loss: 0.3249\n",
            "epoch 710, loss: 0.3248\n",
            "epoch 711, loss: 0.3247\n",
            "epoch 712, loss: 0.3246\n",
            "epoch 713, loss: 0.3246\n"
          ]
        },
        {
          "output_type": "stream",
          "name": "stderr",
          "text": [
            " 72%|███████▏  | 719/1000 [00:29<00:11, 24.64it/s]"
          ]
        },
        {
          "output_type": "stream",
          "name": "stdout",
          "text": [
            "epoch 714, loss: 0.3245\n",
            "epoch 715, loss: 0.3244\n",
            "epoch 716, loss: 0.3243\n",
            "epoch 717, loss: 0.3243\n",
            "epoch 718, loss: 0.3242\n"
          ]
        },
        {
          "output_type": "stream",
          "name": "stderr",
          "text": [
            "\r 72%|███████▏  | 722/1000 [00:29<00:11, 24.57it/s]"
          ]
        },
        {
          "output_type": "stream",
          "name": "stdout",
          "text": [
            "epoch 719, loss: 0.3241\n",
            "epoch 720, loss: 0.3240\n",
            "epoch 721, loss: 0.3240\n",
            "epoch 722, loss: 0.3239\n",
            "epoch 723, loss: 0.3238\n"
          ]
        },
        {
          "output_type": "stream",
          "name": "stderr",
          "text": [
            " 73%|███████▎  | 728/1000 [00:29<00:11, 24.54it/s]"
          ]
        },
        {
          "output_type": "stream",
          "name": "stdout",
          "text": [
            "epoch 724, loss: 0.3238\n",
            "epoch 725, loss: 0.3237\n",
            "epoch 726, loss: 0.3236\n",
            "epoch 727, loss: 0.3235\n",
            "epoch 728, loss: 0.3235\n"
          ]
        },
        {
          "output_type": "stream",
          "name": "stderr",
          "text": [
            " 73%|███████▎  | 734/1000 [00:30<00:10, 24.70it/s]"
          ]
        },
        {
          "output_type": "stream",
          "name": "stdout",
          "text": [
            "epoch 729, loss: 0.3234\n",
            "epoch 730, loss: 0.3233\n",
            "epoch 731, loss: 0.3232\n",
            "epoch 732, loss: 0.3232\n",
            "epoch 733, loss: 0.3231\n",
            "epoch 734, loss: 0.3230\n"
          ]
        },
        {
          "output_type": "stream",
          "name": "stderr",
          "text": [
            " 74%|███████▍  | 740/1000 [00:30<00:10, 24.72it/s]"
          ]
        },
        {
          "output_type": "stream",
          "name": "stdout",
          "text": [
            "epoch 735, loss: 0.3230\n",
            "epoch 736, loss: 0.3229\n",
            "epoch 737, loss: 0.3228\n",
            "epoch 738, loss: 0.3227\n",
            "epoch 739, loss: 0.3227\n"
          ]
        },
        {
          "output_type": "stream",
          "name": "stderr",
          "text": [
            "\r 74%|███████▍  | 743/1000 [00:30<00:10, 24.69it/s]"
          ]
        },
        {
          "output_type": "stream",
          "name": "stdout",
          "text": [
            "epoch 740, loss: 0.3226\n",
            "epoch 741, loss: 0.3225\n",
            "epoch 742, loss: 0.3225\n",
            "epoch 743, loss: 0.3224\n",
            "epoch 744, loss: 0.3223\n",
            "epoch 745, loss: 0.3222"
          ]
        },
        {
          "output_type": "stream",
          "name": "stderr",
          "text": [
            " 75%|███████▍  | 749/1000 [00:30<00:10, 24.67it/s]"
          ]
        },
        {
          "output_type": "stream",
          "name": "stdout",
          "text": [
            "\n",
            "epoch 746, loss: 0.3222\n",
            "epoch 747, loss: 0.3221\n",
            "epoch 748, loss: 0.3220\n",
            "epoch 749, loss: 0.3220\n"
          ]
        },
        {
          "output_type": "stream",
          "name": "stderr",
          "text": [
            " 76%|███████▌  | 755/1000 [00:31<00:09, 24.69it/s]"
          ]
        },
        {
          "output_type": "stream",
          "name": "stdout",
          "text": [
            "epoch 750, loss: 0.3219\n",
            "epoch 751, loss: 0.3218\n",
            "epoch 752, loss: 0.3217\n",
            "epoch 753, loss: 0.3217\n",
            "epoch 754, loss: 0.3216\n"
          ]
        },
        {
          "output_type": "stream",
          "name": "stderr",
          "text": [
            "\r 76%|███████▌  | 758/1000 [00:31<00:09, 24.69it/s]"
          ]
        },
        {
          "output_type": "stream",
          "name": "stdout",
          "text": [
            "epoch 755, loss: 0.3215\n",
            "epoch 756, loss: 0.3215\n",
            "epoch 757, loss: 0.3214\n",
            "epoch 758, loss: 0.3213\n",
            "epoch 759, loss: 0.3213\n"
          ]
        },
        {
          "output_type": "stream",
          "name": "stderr",
          "text": [
            " 76%|███████▋  | 764/1000 [00:31<00:09, 24.66it/s]"
          ]
        },
        {
          "output_type": "stream",
          "name": "stdout",
          "text": [
            "epoch 760, loss: 0.3212\n",
            "epoch 761, loss: 0.3211\n",
            "epoch 762, loss: 0.3211\n",
            "epoch 763, loss: 0.3210\n",
            "epoch 764, loss: 0.3209\n",
            "epoch 765, loss: 0.3209\n"
          ]
        },
        {
          "output_type": "stream",
          "name": "stderr",
          "text": [
            " 77%|███████▋  | 770/1000 [00:31<00:09, 24.67it/s]"
          ]
        },
        {
          "output_type": "stream",
          "name": "stdout",
          "text": [
            "epoch 766, loss: 0.3208\n",
            "epoch 767, loss: 0.3207\n",
            "epoch 768, loss: 0.3207\n",
            "epoch 769, loss: 0.3206\n",
            "epoch 770, loss: 0.3205\n"
          ]
        },
        {
          "output_type": "stream",
          "name": "stderr",
          "text": [
            " 78%|███████▊  | 776/1000 [00:31<00:09, 24.66it/s]"
          ]
        },
        {
          "output_type": "stream",
          "name": "stdout",
          "text": [
            "epoch 771, loss: 0.3204\n",
            "epoch 772, loss: 0.3204\n",
            "epoch 773, loss: 0.3203\n",
            "epoch 774, loss: 0.3202\n",
            "epoch 775, loss: 0.3202\n"
          ]
        },
        {
          "output_type": "stream",
          "name": "stderr",
          "text": [
            "\r 78%|███████▊  | 779/1000 [00:32<00:08, 24.61it/s]"
          ]
        },
        {
          "output_type": "stream",
          "name": "stdout",
          "text": [
            "epoch 776, loss: 0.3201\n",
            "epoch 777, loss: 0.3200\n",
            "epoch 778, loss: 0.3200\n",
            "epoch 779, loss: 0.3199\n",
            "epoch 780, loss: 0.3199\n"
          ]
        },
        {
          "output_type": "stream",
          "name": "stderr",
          "text": [
            " 78%|███████▊  | 785/1000 [00:32<00:08, 24.64it/s]"
          ]
        },
        {
          "output_type": "stream",
          "name": "stdout",
          "text": [
            "epoch 781, loss: 0.3198\n",
            "epoch 782, loss: 0.3197\n",
            "epoch 783, loss: 0.3197\n",
            "epoch 784, loss: 0.3196\n",
            "epoch 785, loss: 0.3195\n"
          ]
        },
        {
          "output_type": "stream",
          "name": "stderr",
          "text": [
            " 79%|███████▉  | 791/1000 [00:32<00:08, 24.61it/s]"
          ]
        },
        {
          "output_type": "stream",
          "name": "stdout",
          "text": [
            "epoch 786, loss: 0.3195\n",
            "epoch 787, loss: 0.3194\n",
            "epoch 788, loss: 0.3193\n",
            "epoch 789, loss: 0.3193\n",
            "epoch 790, loss: 0.3192\n"
          ]
        },
        {
          "output_type": "stream",
          "name": "stderr",
          "text": [
            "\r 79%|███████▉  | 794/1000 [00:32<00:08, 24.60it/s]"
          ]
        },
        {
          "output_type": "stream",
          "name": "stdout",
          "text": [
            "epoch 791, loss: 0.3191\n",
            "epoch 792, loss: 0.3191\n",
            "epoch 793, loss: 0.3190\n",
            "epoch 794, loss: 0.3189\n",
            "epoch 795, loss: 0.3189\n"
          ]
        },
        {
          "output_type": "stream",
          "name": "stderr",
          "text": [
            " 80%|████████  | 800/1000 [00:32<00:08, 24.71it/s]"
          ]
        },
        {
          "output_type": "stream",
          "name": "stdout",
          "text": [
            "epoch 796, loss: 0.3188\n",
            "epoch 797, loss: 0.3188\n",
            "epoch 798, loss: 0.3187\n",
            "epoch 799, loss: 0.3186\n",
            "epoch 800, loss: 0.3186\n"
          ]
        },
        {
          "output_type": "stream",
          "name": "stderr",
          "text": [
            " 81%|████████  | 806/1000 [00:33<00:07, 24.64it/s]"
          ]
        },
        {
          "output_type": "stream",
          "name": "stdout",
          "text": [
            "epoch 801, loss: 0.3185\n",
            "epoch 802, loss: 0.3184\n",
            "epoch 803, loss: 0.3184\n",
            "epoch 804, loss: 0.3183\n",
            "epoch 805, loss: 0.3183\n"
          ]
        },
        {
          "output_type": "stream",
          "name": "stderr",
          "text": [
            "\r 81%|████████  | 809/1000 [00:33<00:07, 24.61it/s]"
          ]
        },
        {
          "output_type": "stream",
          "name": "stdout",
          "text": [
            "epoch 806, loss: 0.3182\n",
            "epoch 807, loss: 0.3181\n",
            "epoch 808, loss: 0.3181\n",
            "epoch 809, loss: 0.3180\n",
            "epoch 810, loss: 0.3179\n"
          ]
        },
        {
          "output_type": "stream",
          "name": "stderr",
          "text": [
            " 82%|████████▏ | 815/1000 [00:33<00:07, 24.66it/s]"
          ]
        },
        {
          "output_type": "stream",
          "name": "stdout",
          "text": [
            "epoch 811, loss: 0.3179\n",
            "epoch 812, loss: 0.3178\n",
            "epoch 813, loss: 0.3178\n",
            "epoch 814, loss: 0.3177\n",
            "epoch 815, loss: 0.3176\n",
            "epoch 816, loss: 0.3176\n"
          ]
        },
        {
          "output_type": "stream",
          "name": "stderr",
          "text": [
            " 82%|████████▏ | 821/1000 [00:33<00:07, 24.64it/s]"
          ]
        },
        {
          "output_type": "stream",
          "name": "stdout",
          "text": [
            "epoch 817, loss: 0.3175\n",
            "epoch 818, loss: 0.3175\n",
            "epoch 819, loss: 0.3174\n",
            "epoch 820, loss: 0.3173\n",
            "epoch 821, loss: 0.3173\n"
          ]
        },
        {
          "output_type": "stream",
          "name": "stderr",
          "text": [
            " 83%|████████▎ | 827/1000 [00:33<00:07, 24.68it/s]"
          ]
        },
        {
          "output_type": "stream",
          "name": "stdout",
          "text": [
            "epoch 822, loss: 0.3172\n",
            "epoch 823, loss: 0.3172\n",
            "epoch 824, loss: 0.3171\n",
            "epoch 825, loss: 0.3170\n",
            "epoch 826, loss: 0.3170\n"
          ]
        },
        {
          "output_type": "stream",
          "name": "stderr",
          "text": [
            "\r 83%|████████▎ | 830/1000 [00:34<00:06, 24.67it/s]"
          ]
        },
        {
          "output_type": "stream",
          "name": "stdout",
          "text": [
            "epoch 827, loss: 0.3169\n",
            "epoch 828, loss: 0.3169\n",
            "epoch 829, loss: 0.3168\n",
            "epoch 830, loss: 0.3167\n",
            "epoch 831, loss: 0.3167\n"
          ]
        },
        {
          "output_type": "stream",
          "name": "stderr",
          "text": [
            " 84%|████████▎ | 836/1000 [00:34<00:06, 24.66it/s]"
          ]
        },
        {
          "output_type": "stream",
          "name": "stdout",
          "text": [
            "epoch 832, loss: 0.3166\n",
            "epoch 833, loss: 0.3166\n",
            "epoch 834, loss: 0.3165\n",
            "epoch 835, loss: 0.3164\n",
            "epoch 836, loss: 0.3164\n"
          ]
        },
        {
          "output_type": "stream",
          "name": "stderr",
          "text": [
            " 84%|████████▍ | 842/1000 [00:34<00:06, 24.67it/s]"
          ]
        },
        {
          "output_type": "stream",
          "name": "stdout",
          "text": [
            "epoch 837, loss: 0.3163\n",
            "epoch 838, loss: 0.3163\n",
            "epoch 839, loss: 0.3162\n",
            "epoch 840, loss: 0.3161\n",
            "epoch 841, loss: 0.3161\n"
          ]
        },
        {
          "output_type": "stream",
          "name": "stderr",
          "text": [
            "\r 84%|████████▍ | 845/1000 [00:34<00:06, 24.64it/s]"
          ]
        },
        {
          "output_type": "stream",
          "name": "stdout",
          "text": [
            "epoch 842, loss: 0.3160\n",
            "epoch 843, loss: 0.3160\n",
            "epoch 844, loss: 0.3159\n",
            "epoch 845, loss: 0.3159\n",
            "epoch 846, loss: 0.3158\n"
          ]
        },
        {
          "output_type": "stream",
          "name": "stderr",
          "text": [
            " 85%|████████▌ | 851/1000 [00:34<00:06, 24.64it/s]"
          ]
        },
        {
          "output_type": "stream",
          "name": "stdout",
          "text": [
            "epoch 847, loss: 0.3157\n",
            "epoch 848, loss: 0.3157\n",
            "epoch 849, loss: 0.3156\n",
            "epoch 850, loss: 0.3156\n",
            "epoch 851, loss: 0.3155\n"
          ]
        },
        {
          "output_type": "stream",
          "name": "stderr",
          "text": [
            " 86%|████████▌ | 857/1000 [00:35<00:05, 24.66it/s]"
          ]
        },
        {
          "output_type": "stream",
          "name": "stdout",
          "text": [
            "epoch 852, loss: 0.3155\n",
            "epoch 853, loss: 0.3154\n",
            "epoch 854, loss: 0.3153\n",
            "epoch 855, loss: 0.3153\n",
            "epoch 856, loss: 0.3152\n"
          ]
        },
        {
          "output_type": "stream",
          "name": "stderr",
          "text": [
            "\r 86%|████████▌ | 860/1000 [00:35<00:05, 24.62it/s]"
          ]
        },
        {
          "output_type": "stream",
          "name": "stdout",
          "text": [
            "epoch 857, loss: 0.3152\n",
            "epoch 858, loss: 0.3151\n",
            "epoch 859, loss: 0.3151\n",
            "epoch 860, loss: 0.3150\n",
            "epoch 861, loss: 0.3149\n"
          ]
        },
        {
          "output_type": "stream",
          "name": "stderr",
          "text": [
            " 87%|████████▋ | 866/1000 [00:35<00:05, 24.64it/s]"
          ]
        },
        {
          "output_type": "stream",
          "name": "stdout",
          "text": [
            "epoch 862, loss: 0.3149\n",
            "epoch 863, loss: 0.3148\n",
            "epoch 864, loss: 0.3148\n",
            "epoch 865, loss: 0.3147\n",
            "epoch 866, loss: 0.3147\n"
          ]
        },
        {
          "output_type": "stream",
          "name": "stderr",
          "text": [
            " 87%|████████▋ | 872/1000 [00:35<00:05, 24.69it/s]"
          ]
        },
        {
          "output_type": "stream",
          "name": "stdout",
          "text": [
            "epoch 867, loss: 0.3146\n",
            "epoch 868, loss: 0.3146\n",
            "epoch 869, loss: 0.3145\n",
            "epoch 870, loss: 0.3145\n",
            "epoch 871, loss: 0.3144\n",
            "epoch 872, loss: 0.3143\n"
          ]
        },
        {
          "output_type": "stream",
          "name": "stderr",
          "text": [
            " 88%|████████▊ | 878/1000 [00:36<00:04, 24.66it/s]"
          ]
        },
        {
          "output_type": "stream",
          "name": "stdout",
          "text": [
            "epoch 873, loss: 0.3143\n",
            "epoch 874, loss: 0.3142\n",
            "epoch 875, loss: 0.3142\n",
            "epoch 876, loss: 0.3141\n",
            "epoch 877, loss: 0.3141\n"
          ]
        },
        {
          "output_type": "stream",
          "name": "stderr",
          "text": [
            "\r 88%|████████▊ | 881/1000 [00:36<00:04, 24.57it/s]"
          ]
        },
        {
          "output_type": "stream",
          "name": "stdout",
          "text": [
            "epoch 878, loss: 0.3140\n",
            "epoch 879, loss: 0.3140\n",
            "epoch 880, loss: 0.3139\n",
            "epoch 881, loss: 0.3139\n",
            "epoch 882, loss: 0.3138\n"
          ]
        },
        {
          "output_type": "stream",
          "name": "stderr",
          "text": [
            " 89%|████████▊ | 887/1000 [00:36<00:04, 24.67it/s]"
          ]
        },
        {
          "output_type": "stream",
          "name": "stdout",
          "text": [
            "epoch 883, loss: 0.3137\n",
            "epoch 884, loss: 0.3137\n",
            "epoch 885, loss: 0.3136\n",
            "epoch 886, loss: 0.3136\n",
            "epoch 887, loss: 0.3135\n",
            "epoch 888, loss: 0.3135\n"
          ]
        },
        {
          "output_type": "stream",
          "name": "stderr",
          "text": [
            " 89%|████████▉ | 893/1000 [00:36<00:04, 24.69it/s]"
          ]
        },
        {
          "output_type": "stream",
          "name": "stdout",
          "text": [
            "epoch 889, loss: 0.3134\n",
            "epoch 890, loss: 0.3134\n",
            "epoch 891, loss: 0.3133\n",
            "epoch 892, loss: 0.3133\n",
            "epoch 893, loss: 0.3132\n"
          ]
        },
        {
          "output_type": "stream",
          "name": "stderr",
          "text": [
            " 90%|████████▉ | 899/1000 [00:36<00:04, 24.62it/s]"
          ]
        },
        {
          "output_type": "stream",
          "name": "stdout",
          "text": [
            "epoch 894, loss: 0.3132\n",
            "epoch 895, loss: 0.3131\n",
            "epoch 896, loss: 0.3131\n",
            "epoch 897, loss: 0.3130\n",
            "epoch 898, loss: 0.3129\n",
            "epoch 899, loss: 0.3129\n"
          ]
        },
        {
          "output_type": "stream",
          "name": "stderr",
          "text": [
            " 90%|█████████ | 905/1000 [00:37<00:03, 24.65it/s]"
          ]
        },
        {
          "output_type": "stream",
          "name": "stdout",
          "text": [
            "epoch 900, loss: 0.3128\n",
            "epoch 901, loss: 0.3128\n",
            "epoch 902, loss: 0.3127\n",
            "epoch 903, loss: 0.3127\n",
            "epoch 904, loss: 0.3126\n"
          ]
        },
        {
          "output_type": "stream",
          "name": "stderr",
          "text": [
            "\r 91%|█████████ | 908/1000 [00:37<00:03, 24.59it/s]"
          ]
        },
        {
          "output_type": "stream",
          "name": "stdout",
          "text": [
            "epoch 905, loss: 0.3126\n",
            "epoch 906, loss: 0.3125\n",
            "epoch 907, loss: 0.3125\n",
            "epoch 908, loss: 0.3124\n",
            "epoch 909, loss: 0.3124\n"
          ]
        },
        {
          "output_type": "stream",
          "name": "stderr",
          "text": [
            " 91%|█████████▏| 914/1000 [00:37<00:03, 24.68it/s]"
          ]
        },
        {
          "output_type": "stream",
          "name": "stdout",
          "text": [
            "epoch 910, loss: 0.3123\n",
            "epoch 911, loss: 0.3123\n",
            "epoch 912, loss: 0.3122\n",
            "epoch 913, loss: 0.3122\n",
            "epoch 914, loss: 0.3121\n"
          ]
        },
        {
          "output_type": "stream",
          "name": "stderr",
          "text": [
            " 92%|█████████▏| 920/1000 [00:37<00:03, 24.66it/s]"
          ]
        },
        {
          "output_type": "stream",
          "name": "stdout",
          "text": [
            "epoch 915, loss: 0.3121\n",
            "epoch 916, loss: 0.3120\n",
            "epoch 917, loss: 0.3120\n",
            "epoch 918, loss: 0.3119\n",
            "epoch 919, loss: 0.3119\n"
          ]
        },
        {
          "output_type": "stream",
          "name": "stderr",
          "text": [
            "\r 92%|█████████▏| 923/1000 [00:37<00:03, 24.72it/s]"
          ]
        },
        {
          "output_type": "stream",
          "name": "stdout",
          "text": [
            "epoch 920, loss: 0.3118\n",
            "epoch 921, loss: 0.3118\n",
            "epoch 922, loss: 0.3117\n",
            "epoch 923, loss: 0.3117\n",
            "epoch 924, loss: 0.3116\n",
            "epoch 925, loss: 0.3116\n"
          ]
        },
        {
          "output_type": "stream",
          "name": "stderr",
          "text": [
            " 93%|█████████▎| 929/1000 [00:38<00:02, 24.81it/s]"
          ]
        },
        {
          "output_type": "stream",
          "name": "stdout",
          "text": [
            "epoch 926, loss: 0.3115\n",
            "epoch 927, loss: 0.3115\n",
            "epoch 928, loss: 0.3114\n",
            "epoch 929, loss: 0.3114\n",
            "epoch 930, loss: 0.3113\n"
          ]
        },
        {
          "output_type": "stream",
          "name": "stderr",
          "text": [
            " 94%|█████████▎| 935/1000 [00:38<00:02, 24.72it/s]"
          ]
        },
        {
          "output_type": "stream",
          "name": "stdout",
          "text": [
            "epoch 931, loss: 0.3113\n",
            "epoch 932, loss: 0.3112\n",
            "epoch 933, loss: 0.3112\n",
            "epoch 934, loss: 0.3111\n",
            "epoch 935, loss: 0.3111\n"
          ]
        },
        {
          "output_type": "stream",
          "name": "stderr",
          "text": [
            " 94%|█████████▍| 941/1000 [00:38<00:02, 24.72it/s]"
          ]
        },
        {
          "output_type": "stream",
          "name": "stdout",
          "text": [
            "epoch 936, loss: 0.3110\n",
            "epoch 937, loss: 0.3110\n",
            "epoch 938, loss: 0.3109\n",
            "epoch 939, loss: 0.3109\n",
            "epoch 940, loss: 0.3108\n"
          ]
        },
        {
          "output_type": "stream",
          "name": "stderr",
          "text": [
            "\r 94%|█████████▍| 944/1000 [00:38<00:02, 24.65it/s]"
          ]
        },
        {
          "output_type": "stream",
          "name": "stdout",
          "text": [
            "epoch 941, loss: 0.3108\n",
            "epoch 942, loss: 0.3107\n",
            "epoch 943, loss: 0.3107\n",
            "epoch 944, loss: 0.3106\n",
            "epoch 945, loss: 0.3106\n"
          ]
        },
        {
          "output_type": "stream",
          "name": "stderr",
          "text": [
            " 95%|█████████▌| 950/1000 [00:38<00:02, 24.69it/s]"
          ]
        },
        {
          "output_type": "stream",
          "name": "stdout",
          "text": [
            "epoch 946, loss: 0.3106\n",
            "epoch 947, loss: 0.3105\n",
            "epoch 948, loss: 0.3105\n",
            "epoch 949, loss: 0.3104\n",
            "epoch 950, loss: 0.3104\n"
          ]
        },
        {
          "output_type": "stream",
          "name": "stderr",
          "text": [
            " 96%|█████████▌| 956/1000 [00:39<00:01, 24.69it/s]"
          ]
        },
        {
          "output_type": "stream",
          "name": "stdout",
          "text": [
            "epoch 951, loss: 0.3103\n",
            "epoch 952, loss: 0.3103\n",
            "epoch 953, loss: 0.3102\n",
            "epoch 954, loss: 0.3102\n",
            "epoch 955, loss: 0.3101\n"
          ]
        },
        {
          "output_type": "stream",
          "name": "stderr",
          "text": [
            "\r 96%|█████████▌| 959/1000 [00:39<00:01, 24.66it/s]"
          ]
        },
        {
          "output_type": "stream",
          "name": "stdout",
          "text": [
            "epoch 956, loss: 0.3101\n",
            "epoch 957, loss: 0.3100\n",
            "epoch 958, loss: 0.3100\n",
            "epoch 959, loss: 0.3099\n",
            "epoch 960, loss: 0.3099\n"
          ]
        },
        {
          "output_type": "stream",
          "name": "stderr",
          "text": [
            " 96%|█████████▋| 965/1000 [00:39<00:01, 24.64it/s]"
          ]
        },
        {
          "output_type": "stream",
          "name": "stdout",
          "text": [
            "epoch 961, loss: 0.3098\n",
            "epoch 962, loss: 0.3098\n",
            "epoch 963, loss: 0.3098\n",
            "epoch 964, loss: 0.3097\n",
            "epoch 965, loss: 0.3097\n"
          ]
        },
        {
          "output_type": "stream",
          "name": "stderr",
          "text": [
            " 97%|█████████▋| 971/1000 [00:39<00:01, 24.64it/s]"
          ]
        },
        {
          "output_type": "stream",
          "name": "stdout",
          "text": [
            "epoch 966, loss: 0.3096\n",
            "epoch 967, loss: 0.3096\n",
            "epoch 968, loss: 0.3095\n",
            "epoch 969, loss: 0.3095\n",
            "epoch 970, loss: 0.3094\n"
          ]
        },
        {
          "output_type": "stream",
          "name": "stderr",
          "text": [
            "\r 97%|█████████▋| 974/1000 [00:39<00:01, 24.65it/s]"
          ]
        },
        {
          "output_type": "stream",
          "name": "stdout",
          "text": [
            "epoch 971, loss: 0.3094\n",
            "epoch 972, loss: 0.3093\n",
            "epoch 973, loss: 0.3093\n",
            "epoch 974, loss: 0.3093\n",
            "epoch 975, loss: 0.3092\n"
          ]
        },
        {
          "output_type": "stream",
          "name": "stderr",
          "text": [
            " 98%|█████████▊| 980/1000 [00:40<00:00, 24.61it/s]"
          ]
        },
        {
          "output_type": "stream",
          "name": "stdout",
          "text": [
            "epoch 976, loss: 0.3092\n",
            "epoch 977, loss: 0.3091\n",
            "epoch 978, loss: 0.3091\n",
            "epoch 979, loss: 0.3090\n",
            "epoch 980, loss: 0.3090\n"
          ]
        },
        {
          "output_type": "stream",
          "name": "stderr",
          "text": [
            " 99%|█████████▊| 986/1000 [00:40<00:00, 24.66it/s]"
          ]
        },
        {
          "output_type": "stream",
          "name": "stdout",
          "text": [
            "epoch 981, loss: 0.3089\n",
            "epoch 982, loss: 0.3089\n",
            "epoch 983, loss: 0.3088\n",
            "epoch 984, loss: 0.3088\n",
            "epoch 985, loss: 0.3088\n"
          ]
        },
        {
          "output_type": "stream",
          "name": "stderr",
          "text": [
            "\r 99%|█████████▉| 989/1000 [00:40<00:00, 24.60it/s]"
          ]
        },
        {
          "output_type": "stream",
          "name": "stdout",
          "text": [
            "epoch 986, loss: 0.3087\n",
            "epoch 987, loss: 0.3087\n",
            "epoch 988, loss: 0.3086\n",
            "epoch 989, loss: 0.3086\n",
            "epoch 990, loss: 0.3085\n"
          ]
        },
        {
          "output_type": "stream",
          "name": "stderr",
          "text": [
            "100%|█████████▉| 995/1000 [00:40<00:00, 24.57it/s]"
          ]
        },
        {
          "output_type": "stream",
          "name": "stdout",
          "text": [
            "epoch 991, loss: 0.3085\n",
            "epoch 992, loss: 0.3084\n",
            "epoch 993, loss: 0.3084\n",
            "epoch 994, loss: 0.3084\n",
            "epoch 995, loss: 0.3083\n",
            "epoch 996, loss: 0.3083\n"
          ]
        },
        {
          "output_type": "stream",
          "name": "stderr",
          "text": [
            "100%|██████████| 1000/1000 [00:41<00:00, 24.38it/s]"
          ]
        },
        {
          "output_type": "stream",
          "name": "stdout",
          "text": [
            "epoch 997, loss: 0.3082\n",
            "epoch 998, loss: 0.3082\n",
            "epoch 999, loss: 0.3081\n"
          ]
        },
        {
          "output_type": "stream",
          "name": "stderr",
          "text": [
            "\n"
          ]
        },
        {
          "output_type": "stream",
          "name": "stdout",
          "text": [
            "train error: 0.06754004955291748\n",
            "test error: 0.06840002536773682\n"
          ]
        }
      ]
    }
  ]
}